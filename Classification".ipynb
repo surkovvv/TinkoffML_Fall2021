{
  "nbformat": 4,
  "nbformat_minor": 0,
  "metadata": {
    "kernelspec": {
      "display_name": "Python 3",
      "language": "python",
      "name": "python3"
    },
    "language_info": {
      "codemirror_mode": {
        "name": "ipython",
        "version": 3
      },
      "file_extension": ".py",
      "mimetype": "text/x-python",
      "name": "python",
      "nbconvert_exporter": "python",
      "pygments_lexer": "ipython3",
      "version": "3.7.3"
    },
    "colab": {
      "name": "Копия блокнота \"Task 4.ipynb\"",
      "provenance": [],
      "collapsed_sections": [],
      "include_colab_link": true
    }
  },
  "cells": [
    {
      "cell_type": "markdown",
      "metadata": {
        "id": "view-in-github",
        "colab_type": "text"
      },
      "source": [
        "<a href=\"https://colab.research.google.com/github/surkovvv/TinkoffML_Fall2021/blob/main/Classification%22.ipynb\" target=\"_parent\"><img src=\"https://colab.research.google.com/assets/colab-badge.svg\" alt=\"Open In Colab\"/></a>"
      ]
    },
    {
      "cell_type": "markdown",
      "metadata": {
        "id": "XSZJqi3Rb3Kh"
      },
      "source": [
        "# Домашнее задание\n",
        "\n",
        "Всего у вас 2 домашних задания:\n",
        "\n",
        "### 1) Бинарная классификация на примере детекции фрода на кредитных картах (6 баллов)\n",
        "(в этом файле)\n",
        "\n",
        "### 2) Небинарная классификация на вашем датасете (6 баллов)\n",
        "(тоже в этом файле)\n",
        "\n",
        "# 1 - Бинарная классификация на примере детекции фрода на кредитных картах (суммарно 6 баллов)\n",
        "У вас есть информация о множесте транзакций. Вам нужно научиться предсказывать, какие из них мошеннические, а какие нет."
      ]
    },
    {
      "cell_type": "markdown",
      "metadata": {
        "id": "J_PaZW-Vb3Kl"
      },
      "source": [
        "### (1 балл) Считайте данные\n",
        "Сами считайте и предобработайте, если надо, данные из файла creditcard.csv"
      ]
    },
    {
      "cell_type": "code",
      "metadata": {
        "id": "HqXoJ8QRb3Kl"
      },
      "source": [
        "#!wget  -O 'creditcard.csv' -q 'https://www.kaggle.com/mlg-ulb/creditcardfraud#creditcard.csv?dl=0'"
      ],
      "execution_count": 55,
      "outputs": []
    },
    {
      "cell_type": "code",
      "metadata": {
        "id": "OFb221l6dMqv"
      },
      "source": [
        "import pandas as pd\n",
        "import matplotlib.pyplot as plt\n",
        "import seaborn as sns\n",
        "import numpy as np\n"
      ],
      "execution_count": 56,
      "outputs": []
    },
    {
      "cell_type": "code",
      "metadata": {
        "id": "hrt86gI6b3Km",
        "colab": {
          "base_uri": "https://localhost:8080/",
          "height": 226
        },
        "outputId": "ca3f22de-f3c9-41a7-b175-cf5833f45f32"
      },
      "source": [
        "df = pd.read_csv(\"creditcard.csv\")\n",
        "df.head()"
      ],
      "execution_count": 57,
      "outputs": [
        {
          "output_type": "execute_result",
          "data": {
            "text/html": [
              "<div>\n",
              "<style scoped>\n",
              "    .dataframe tbody tr th:only-of-type {\n",
              "        vertical-align: middle;\n",
              "    }\n",
              "\n",
              "    .dataframe tbody tr th {\n",
              "        vertical-align: top;\n",
              "    }\n",
              "\n",
              "    .dataframe thead th {\n",
              "        text-align: right;\n",
              "    }\n",
              "</style>\n",
              "<table border=\"1\" class=\"dataframe\">\n",
              "  <thead>\n",
              "    <tr style=\"text-align: right;\">\n",
              "      <th></th>\n",
              "      <th>Time</th>\n",
              "      <th>V1</th>\n",
              "      <th>V2</th>\n",
              "      <th>V3</th>\n",
              "      <th>V4</th>\n",
              "      <th>V5</th>\n",
              "      <th>V6</th>\n",
              "      <th>V7</th>\n",
              "      <th>V8</th>\n",
              "      <th>V9</th>\n",
              "      <th>V10</th>\n",
              "      <th>V11</th>\n",
              "      <th>V12</th>\n",
              "      <th>V13</th>\n",
              "      <th>V14</th>\n",
              "      <th>V15</th>\n",
              "      <th>V16</th>\n",
              "      <th>V17</th>\n",
              "      <th>V18</th>\n",
              "      <th>V19</th>\n",
              "      <th>V20</th>\n",
              "      <th>V21</th>\n",
              "      <th>V22</th>\n",
              "      <th>V23</th>\n",
              "      <th>V24</th>\n",
              "      <th>V25</th>\n",
              "      <th>V26</th>\n",
              "      <th>V27</th>\n",
              "      <th>V28</th>\n",
              "      <th>Amount</th>\n",
              "      <th>Class</th>\n",
              "    </tr>\n",
              "  </thead>\n",
              "  <tbody>\n",
              "    <tr>\n",
              "      <th>0</th>\n",
              "      <td>0.0</td>\n",
              "      <td>-1.359807</td>\n",
              "      <td>-0.072781</td>\n",
              "      <td>2.536347</td>\n",
              "      <td>1.378155</td>\n",
              "      <td>-0.338321</td>\n",
              "      <td>0.462388</td>\n",
              "      <td>0.239599</td>\n",
              "      <td>0.098698</td>\n",
              "      <td>0.363787</td>\n",
              "      <td>0.090794</td>\n",
              "      <td>-0.551600</td>\n",
              "      <td>-0.617801</td>\n",
              "      <td>-0.991390</td>\n",
              "      <td>-0.311169</td>\n",
              "      <td>1.468177</td>\n",
              "      <td>-0.470401</td>\n",
              "      <td>0.207971</td>\n",
              "      <td>0.025791</td>\n",
              "      <td>0.403993</td>\n",
              "      <td>0.251412</td>\n",
              "      <td>-0.018307</td>\n",
              "      <td>0.277838</td>\n",
              "      <td>-0.110474</td>\n",
              "      <td>0.066928</td>\n",
              "      <td>0.128539</td>\n",
              "      <td>-0.189115</td>\n",
              "      <td>0.133558</td>\n",
              "      <td>-0.021053</td>\n",
              "      <td>149.62</td>\n",
              "      <td>0</td>\n",
              "    </tr>\n",
              "    <tr>\n",
              "      <th>1</th>\n",
              "      <td>0.0</td>\n",
              "      <td>1.191857</td>\n",
              "      <td>0.266151</td>\n",
              "      <td>0.166480</td>\n",
              "      <td>0.448154</td>\n",
              "      <td>0.060018</td>\n",
              "      <td>-0.082361</td>\n",
              "      <td>-0.078803</td>\n",
              "      <td>0.085102</td>\n",
              "      <td>-0.255425</td>\n",
              "      <td>-0.166974</td>\n",
              "      <td>1.612727</td>\n",
              "      <td>1.065235</td>\n",
              "      <td>0.489095</td>\n",
              "      <td>-0.143772</td>\n",
              "      <td>0.635558</td>\n",
              "      <td>0.463917</td>\n",
              "      <td>-0.114805</td>\n",
              "      <td>-0.183361</td>\n",
              "      <td>-0.145783</td>\n",
              "      <td>-0.069083</td>\n",
              "      <td>-0.225775</td>\n",
              "      <td>-0.638672</td>\n",
              "      <td>0.101288</td>\n",
              "      <td>-0.339846</td>\n",
              "      <td>0.167170</td>\n",
              "      <td>0.125895</td>\n",
              "      <td>-0.008983</td>\n",
              "      <td>0.014724</td>\n",
              "      <td>2.69</td>\n",
              "      <td>0</td>\n",
              "    </tr>\n",
              "    <tr>\n",
              "      <th>2</th>\n",
              "      <td>1.0</td>\n",
              "      <td>-1.358354</td>\n",
              "      <td>-1.340163</td>\n",
              "      <td>1.773209</td>\n",
              "      <td>0.379780</td>\n",
              "      <td>-0.503198</td>\n",
              "      <td>1.800499</td>\n",
              "      <td>0.791461</td>\n",
              "      <td>0.247676</td>\n",
              "      <td>-1.514654</td>\n",
              "      <td>0.207643</td>\n",
              "      <td>0.624501</td>\n",
              "      <td>0.066084</td>\n",
              "      <td>0.717293</td>\n",
              "      <td>-0.165946</td>\n",
              "      <td>2.345865</td>\n",
              "      <td>-2.890083</td>\n",
              "      <td>1.109969</td>\n",
              "      <td>-0.121359</td>\n",
              "      <td>-2.261857</td>\n",
              "      <td>0.524980</td>\n",
              "      <td>0.247998</td>\n",
              "      <td>0.771679</td>\n",
              "      <td>0.909412</td>\n",
              "      <td>-0.689281</td>\n",
              "      <td>-0.327642</td>\n",
              "      <td>-0.139097</td>\n",
              "      <td>-0.055353</td>\n",
              "      <td>-0.059752</td>\n",
              "      <td>378.66</td>\n",
              "      <td>0</td>\n",
              "    </tr>\n",
              "    <tr>\n",
              "      <th>3</th>\n",
              "      <td>1.0</td>\n",
              "      <td>-0.966272</td>\n",
              "      <td>-0.185226</td>\n",
              "      <td>1.792993</td>\n",
              "      <td>-0.863291</td>\n",
              "      <td>-0.010309</td>\n",
              "      <td>1.247203</td>\n",
              "      <td>0.237609</td>\n",
              "      <td>0.377436</td>\n",
              "      <td>-1.387024</td>\n",
              "      <td>-0.054952</td>\n",
              "      <td>-0.226487</td>\n",
              "      <td>0.178228</td>\n",
              "      <td>0.507757</td>\n",
              "      <td>-0.287924</td>\n",
              "      <td>-0.631418</td>\n",
              "      <td>-1.059647</td>\n",
              "      <td>-0.684093</td>\n",
              "      <td>1.965775</td>\n",
              "      <td>-1.232622</td>\n",
              "      <td>-0.208038</td>\n",
              "      <td>-0.108300</td>\n",
              "      <td>0.005274</td>\n",
              "      <td>-0.190321</td>\n",
              "      <td>-1.175575</td>\n",
              "      <td>0.647376</td>\n",
              "      <td>-0.221929</td>\n",
              "      <td>0.062723</td>\n",
              "      <td>0.061458</td>\n",
              "      <td>123.50</td>\n",
              "      <td>0</td>\n",
              "    </tr>\n",
              "    <tr>\n",
              "      <th>4</th>\n",
              "      <td>2.0</td>\n",
              "      <td>-1.158233</td>\n",
              "      <td>0.877737</td>\n",
              "      <td>1.548718</td>\n",
              "      <td>0.403034</td>\n",
              "      <td>-0.407193</td>\n",
              "      <td>0.095921</td>\n",
              "      <td>0.592941</td>\n",
              "      <td>-0.270533</td>\n",
              "      <td>0.817739</td>\n",
              "      <td>0.753074</td>\n",
              "      <td>-0.822843</td>\n",
              "      <td>0.538196</td>\n",
              "      <td>1.345852</td>\n",
              "      <td>-1.119670</td>\n",
              "      <td>0.175121</td>\n",
              "      <td>-0.451449</td>\n",
              "      <td>-0.237033</td>\n",
              "      <td>-0.038195</td>\n",
              "      <td>0.803487</td>\n",
              "      <td>0.408542</td>\n",
              "      <td>-0.009431</td>\n",
              "      <td>0.798278</td>\n",
              "      <td>-0.137458</td>\n",
              "      <td>0.141267</td>\n",
              "      <td>-0.206010</td>\n",
              "      <td>0.502292</td>\n",
              "      <td>0.219422</td>\n",
              "      <td>0.215153</td>\n",
              "      <td>69.99</td>\n",
              "      <td>0</td>\n",
              "    </tr>\n",
              "  </tbody>\n",
              "</table>\n",
              "</div>"
            ],
            "text/plain": [
              "   Time        V1        V2        V3  ...       V27       V28  Amount  Class\n",
              "0   0.0 -1.359807 -0.072781  2.536347  ...  0.133558 -0.021053  149.62      0\n",
              "1   0.0  1.191857  0.266151  0.166480  ... -0.008983  0.014724    2.69      0\n",
              "2   1.0 -1.358354 -1.340163  1.773209  ... -0.055353 -0.059752  378.66      0\n",
              "3   1.0 -0.966272 -0.185226  1.792993  ...  0.062723  0.061458  123.50      0\n",
              "4   2.0 -1.158233  0.877737  1.548718  ...  0.219422  0.215153   69.99      0\n",
              "\n",
              "[5 rows x 31 columns]"
            ]
          },
          "metadata": {},
          "execution_count": 57
        }
      ]
    },
    {
      "cell_type": "code",
      "metadata": {
        "colab": {
          "base_uri": "https://localhost:8080/",
          "height": 226
        },
        "id": "7FZId_l09T7W",
        "outputId": "e5dee87c-bc49-4997-ed31-09c9c45c4bcc"
      },
      "source": [
        "from sklearn.preprocessing import StandardScaler\n",
        "\n",
        "df['normalizedAmount'] = StandardScaler().fit_transform(np.array(df['Amount']).reshape(-1, 1))\n",
        "df = df.drop(['Time','Amount'], axis=1)\n",
        "df.head()"
      ],
      "execution_count": 58,
      "outputs": [
        {
          "output_type": "execute_result",
          "data": {
            "text/html": [
              "<div>\n",
              "<style scoped>\n",
              "    .dataframe tbody tr th:only-of-type {\n",
              "        vertical-align: middle;\n",
              "    }\n",
              "\n",
              "    .dataframe tbody tr th {\n",
              "        vertical-align: top;\n",
              "    }\n",
              "\n",
              "    .dataframe thead th {\n",
              "        text-align: right;\n",
              "    }\n",
              "</style>\n",
              "<table border=\"1\" class=\"dataframe\">\n",
              "  <thead>\n",
              "    <tr style=\"text-align: right;\">\n",
              "      <th></th>\n",
              "      <th>V1</th>\n",
              "      <th>V2</th>\n",
              "      <th>V3</th>\n",
              "      <th>V4</th>\n",
              "      <th>V5</th>\n",
              "      <th>V6</th>\n",
              "      <th>V7</th>\n",
              "      <th>V8</th>\n",
              "      <th>V9</th>\n",
              "      <th>V10</th>\n",
              "      <th>V11</th>\n",
              "      <th>V12</th>\n",
              "      <th>V13</th>\n",
              "      <th>V14</th>\n",
              "      <th>V15</th>\n",
              "      <th>V16</th>\n",
              "      <th>V17</th>\n",
              "      <th>V18</th>\n",
              "      <th>V19</th>\n",
              "      <th>V20</th>\n",
              "      <th>V21</th>\n",
              "      <th>V22</th>\n",
              "      <th>V23</th>\n",
              "      <th>V24</th>\n",
              "      <th>V25</th>\n",
              "      <th>V26</th>\n",
              "      <th>V27</th>\n",
              "      <th>V28</th>\n",
              "      <th>Class</th>\n",
              "      <th>normalizedAmount</th>\n",
              "    </tr>\n",
              "  </thead>\n",
              "  <tbody>\n",
              "    <tr>\n",
              "      <th>0</th>\n",
              "      <td>-1.359807</td>\n",
              "      <td>-0.072781</td>\n",
              "      <td>2.536347</td>\n",
              "      <td>1.378155</td>\n",
              "      <td>-0.338321</td>\n",
              "      <td>0.462388</td>\n",
              "      <td>0.239599</td>\n",
              "      <td>0.098698</td>\n",
              "      <td>0.363787</td>\n",
              "      <td>0.090794</td>\n",
              "      <td>-0.551600</td>\n",
              "      <td>-0.617801</td>\n",
              "      <td>-0.991390</td>\n",
              "      <td>-0.311169</td>\n",
              "      <td>1.468177</td>\n",
              "      <td>-0.470401</td>\n",
              "      <td>0.207971</td>\n",
              "      <td>0.025791</td>\n",
              "      <td>0.403993</td>\n",
              "      <td>0.251412</td>\n",
              "      <td>-0.018307</td>\n",
              "      <td>0.277838</td>\n",
              "      <td>-0.110474</td>\n",
              "      <td>0.066928</td>\n",
              "      <td>0.128539</td>\n",
              "      <td>-0.189115</td>\n",
              "      <td>0.133558</td>\n",
              "      <td>-0.021053</td>\n",
              "      <td>0</td>\n",
              "      <td>0.244964</td>\n",
              "    </tr>\n",
              "    <tr>\n",
              "      <th>1</th>\n",
              "      <td>1.191857</td>\n",
              "      <td>0.266151</td>\n",
              "      <td>0.166480</td>\n",
              "      <td>0.448154</td>\n",
              "      <td>0.060018</td>\n",
              "      <td>-0.082361</td>\n",
              "      <td>-0.078803</td>\n",
              "      <td>0.085102</td>\n",
              "      <td>-0.255425</td>\n",
              "      <td>-0.166974</td>\n",
              "      <td>1.612727</td>\n",
              "      <td>1.065235</td>\n",
              "      <td>0.489095</td>\n",
              "      <td>-0.143772</td>\n",
              "      <td>0.635558</td>\n",
              "      <td>0.463917</td>\n",
              "      <td>-0.114805</td>\n",
              "      <td>-0.183361</td>\n",
              "      <td>-0.145783</td>\n",
              "      <td>-0.069083</td>\n",
              "      <td>-0.225775</td>\n",
              "      <td>-0.638672</td>\n",
              "      <td>0.101288</td>\n",
              "      <td>-0.339846</td>\n",
              "      <td>0.167170</td>\n",
              "      <td>0.125895</td>\n",
              "      <td>-0.008983</td>\n",
              "      <td>0.014724</td>\n",
              "      <td>0</td>\n",
              "      <td>-0.342475</td>\n",
              "    </tr>\n",
              "    <tr>\n",
              "      <th>2</th>\n",
              "      <td>-1.358354</td>\n",
              "      <td>-1.340163</td>\n",
              "      <td>1.773209</td>\n",
              "      <td>0.379780</td>\n",
              "      <td>-0.503198</td>\n",
              "      <td>1.800499</td>\n",
              "      <td>0.791461</td>\n",
              "      <td>0.247676</td>\n",
              "      <td>-1.514654</td>\n",
              "      <td>0.207643</td>\n",
              "      <td>0.624501</td>\n",
              "      <td>0.066084</td>\n",
              "      <td>0.717293</td>\n",
              "      <td>-0.165946</td>\n",
              "      <td>2.345865</td>\n",
              "      <td>-2.890083</td>\n",
              "      <td>1.109969</td>\n",
              "      <td>-0.121359</td>\n",
              "      <td>-2.261857</td>\n",
              "      <td>0.524980</td>\n",
              "      <td>0.247998</td>\n",
              "      <td>0.771679</td>\n",
              "      <td>0.909412</td>\n",
              "      <td>-0.689281</td>\n",
              "      <td>-0.327642</td>\n",
              "      <td>-0.139097</td>\n",
              "      <td>-0.055353</td>\n",
              "      <td>-0.059752</td>\n",
              "      <td>0</td>\n",
              "      <td>1.160686</td>\n",
              "    </tr>\n",
              "    <tr>\n",
              "      <th>3</th>\n",
              "      <td>-0.966272</td>\n",
              "      <td>-0.185226</td>\n",
              "      <td>1.792993</td>\n",
              "      <td>-0.863291</td>\n",
              "      <td>-0.010309</td>\n",
              "      <td>1.247203</td>\n",
              "      <td>0.237609</td>\n",
              "      <td>0.377436</td>\n",
              "      <td>-1.387024</td>\n",
              "      <td>-0.054952</td>\n",
              "      <td>-0.226487</td>\n",
              "      <td>0.178228</td>\n",
              "      <td>0.507757</td>\n",
              "      <td>-0.287924</td>\n",
              "      <td>-0.631418</td>\n",
              "      <td>-1.059647</td>\n",
              "      <td>-0.684093</td>\n",
              "      <td>1.965775</td>\n",
              "      <td>-1.232622</td>\n",
              "      <td>-0.208038</td>\n",
              "      <td>-0.108300</td>\n",
              "      <td>0.005274</td>\n",
              "      <td>-0.190321</td>\n",
              "      <td>-1.175575</td>\n",
              "      <td>0.647376</td>\n",
              "      <td>-0.221929</td>\n",
              "      <td>0.062723</td>\n",
              "      <td>0.061458</td>\n",
              "      <td>0</td>\n",
              "      <td>0.140534</td>\n",
              "    </tr>\n",
              "    <tr>\n",
              "      <th>4</th>\n",
              "      <td>-1.158233</td>\n",
              "      <td>0.877737</td>\n",
              "      <td>1.548718</td>\n",
              "      <td>0.403034</td>\n",
              "      <td>-0.407193</td>\n",
              "      <td>0.095921</td>\n",
              "      <td>0.592941</td>\n",
              "      <td>-0.270533</td>\n",
              "      <td>0.817739</td>\n",
              "      <td>0.753074</td>\n",
              "      <td>-0.822843</td>\n",
              "      <td>0.538196</td>\n",
              "      <td>1.345852</td>\n",
              "      <td>-1.119670</td>\n",
              "      <td>0.175121</td>\n",
              "      <td>-0.451449</td>\n",
              "      <td>-0.237033</td>\n",
              "      <td>-0.038195</td>\n",
              "      <td>0.803487</td>\n",
              "      <td>0.408542</td>\n",
              "      <td>-0.009431</td>\n",
              "      <td>0.798278</td>\n",
              "      <td>-0.137458</td>\n",
              "      <td>0.141267</td>\n",
              "      <td>-0.206010</td>\n",
              "      <td>0.502292</td>\n",
              "      <td>0.219422</td>\n",
              "      <td>0.215153</td>\n",
              "      <td>0</td>\n",
              "      <td>-0.073403</td>\n",
              "    </tr>\n",
              "  </tbody>\n",
              "</table>\n",
              "</div>"
            ],
            "text/plain": [
              "         V1        V2        V3  ...       V28  Class  normalizedAmount\n",
              "0 -1.359807 -0.072781  2.536347  ... -0.021053      0          0.244964\n",
              "1  1.191857  0.266151  0.166480  ...  0.014724      0         -0.342475\n",
              "2 -1.358354 -1.340163  1.773209  ... -0.059752      0          1.160686\n",
              "3 -0.966272 -0.185226  1.792993  ...  0.061458      0          0.140534\n",
              "4 -1.158233  0.877737  1.548718  ...  0.215153      0         -0.073403\n",
              "\n",
              "[5 rows x 30 columns]"
            ]
          },
          "metadata": {},
          "execution_count": 58
        }
      ]
    },
    {
      "cell_type": "markdown",
      "metadata": {
        "id": "W5p30_UVlxPU"
      },
      "source": [
        "Судя по кэгглу, у данных есть выбросы. Запомним, что они есть, и если будут результаты не очень, то просто удалим их."
      ]
    },
    {
      "cell_type": "code",
      "metadata": {
        "id": "Ce7_azNOmXVm"
      },
      "source": [
        "X = df.drop('Class', axis=1)\n",
        "y = df['Class']"
      ],
      "execution_count": 59,
      "outputs": []
    },
    {
      "cell_type": "code",
      "metadata": {
        "id": "O3rTSjV_rK2v"
      },
      "source": [
        "from sklearn.model_selection import train_test_split\n",
        "X_train, X_test, y_train, y_test = train_test_split(X, y, random_state=42, train_size=0.8)"
      ],
      "execution_count": 60,
      "outputs": []
    },
    {
      "cell_type": "markdown",
      "metadata": {
        "id": "3lR0WtOOb3Km"
      },
      "source": [
        "### (2 балла) Обучите несколько моделей, посмотрите на метрики.\n",
        "Как модели точно возьмите LogisticRegression, KNN и константу, можете придумать еще какие-нибудь.\n",
        "\n",
        "Как метрики точно возьмите accuracy, precision, recall, f1, roc_auc. Постройте ROC-кривую."
      ]
    },
    {
      "cell_type": "code",
      "metadata": {
        "id": "7CcpPHtcb3Kn"
      },
      "source": [
        "# Судя по описанию датасета, данные сильно несбалансированы (случаев фрода очень мало)\n",
        "constant_prediction = np.zeros(y_test.shape[0])"
      ],
      "execution_count": 61,
      "outputs": []
    },
    {
      "cell_type": "code",
      "metadata": {
        "id": "MK34VO9pb3Kn"
      },
      "source": [
        "from sklearn.linear_model import LogisticRegression, LogisticRegressionCV\n",
        "logreg = LogisticRegression(max_iter=500)\n",
        "logreg.fit(X_train, y_train)\n",
        "logreg_pred = logreg.predict(X_test)"
      ],
      "execution_count": 62,
      "outputs": []
    },
    {
      "cell_type": "code",
      "metadata": {
        "id": "rYBea6Gzsa6d"
      },
      "source": [
        "from sklearn.neighbors import KNeighborsClassifier\n",
        "knn = KNeighborsClassifier()\n",
        "knn.fit(X_train, y_train)\n",
        "knn_pred = knn.predict(X_test)"
      ],
      "execution_count": 63,
      "outputs": []
    },
    {
      "cell_type": "code",
      "metadata": {
        "id": "gcxH77pEtHYq"
      },
      "source": [
        "from sklearn.metrics import accuracy_score, f1_score, precision_score, recall_score, roc_auc_score, plot_precision_recall_curve, plot_roc_curve\n",
        "\n",
        "def report(y_pred, y_test, name):\n",
        "    print(\"Report for {}\".format(name))\n",
        "    print(\"Accuracy : {}\".format(accuracy_score(y_test, y_pred)))\n",
        "    print(\"Precision : {}\".format(precision_score(y_test, y_pred)))\n",
        "    print(\"Recall : {}\".format(recall_score(y_test, y_pred)))\n",
        "    print(\"F1-score : {}\".format(f1_score(y_test, y_pred)))\n",
        "    print(\"AUC ROC : {}\".format(roc_auc_score(y_test, y_pred)))"
      ],
      "execution_count": 64,
      "outputs": []
    },
    {
      "cell_type": "code",
      "metadata": {
        "id": "sjtujbWWvDlC",
        "colab": {
          "base_uri": "https://localhost:8080/"
        },
        "outputId": "a4a7f3d8-790d-4af1-cbda-8a0293a12e91"
      },
      "source": [
        "report(constant_prediction, y_test, \"Constant prediction\")"
      ],
      "execution_count": 66,
      "outputs": [
        {
          "output_type": "stream",
          "name": "stdout",
          "text": [
            "Report for Constant prediction\n",
            "Accuracy : 0.9982795547909132\n",
            "Precision : 0.0\n",
            "Recall : 0.0\n",
            "F1-score : 0.0\n",
            "AUC ROC : 0.5\n"
          ]
        },
        {
          "output_type": "stream",
          "name": "stderr",
          "text": [
            "/usr/local/lib/python3.7/dist-packages/sklearn/metrics/_classification.py:1308: UndefinedMetricWarning: Precision is ill-defined and being set to 0.0 due to no predicted samples. Use `zero_division` parameter to control this behavior.\n",
            "  _warn_prf(average, modifier, msg_start, len(result))\n"
          ]
        }
      ]
    },
    {
      "cell_type": "code",
      "metadata": {
        "id": "R-5LMx3WvLEt",
        "colab": {
          "base_uri": "https://localhost:8080/"
        },
        "outputId": "564f5272-5673-413a-94e3-5e1ebd704869"
      },
      "source": [
        "report(logreg_pred, y_test, \"Logistic Regression\")"
      ],
      "execution_count": 67,
      "outputs": [
        {
          "output_type": "stream",
          "name": "stdout",
          "text": [
            "Report for Logistic Regression\n",
            "Accuracy : 0.9991222218320986\n",
            "Precision : 0.8636363636363636\n",
            "Recall : 0.5816326530612245\n",
            "F1-score : 0.6951219512195121\n",
            "AUC ROC : 0.7907371903460314\n"
          ]
        }
      ]
    },
    {
      "cell_type": "code",
      "metadata": {
        "id": "TKtVsZv_vmD7",
        "colab": {
          "base_uri": "https://localhost:8080/"
        },
        "outputId": "a7ed25e2-298b-47cb-b40f-a708ecc81355"
      },
      "source": [
        "report(knn_pred, y_test, \"KNN\")"
      ],
      "execution_count": 68,
      "outputs": [
        {
          "output_type": "stream",
          "name": "stdout",
          "text": [
            "Report for KNN\n",
            "Accuracy : 0.9995259997893332\n",
            "Precision : 0.9382716049382716\n",
            "Recall : 0.7755102040816326\n",
            "F1-score : 0.8491620111731844\n",
            "AUC ROC : 0.887711137493827\n"
          ]
        }
      ]
    },
    {
      "cell_type": "markdown",
      "metadata": {
        "id": "JOLJrX5UvyzT"
      },
      "source": [
        "Как видно, лучший базовый алгоритм вышел у KNN : по всем метрикам он лучше логреса, и уж тем более лучше константного прогноза"
      ]
    },
    {
      "cell_type": "code",
      "metadata": {
        "id": "yIBmcMLGvxe9"
      },
      "source": [
        "def plot_curves(estimator):\n",
        "    fig, axes = plt.subplots(1, 2)\n",
        "    plot_roc_curve(estimator, X_test, y_test, ax=axes[0], name='ROC')\n",
        "    plot_precision_recall_curve(estimator, X_test, y_test, ax=axes[1], name='PRC')\n",
        "    fig.show()"
      ],
      "execution_count": 69,
      "outputs": []
    },
    {
      "cell_type": "code",
      "metadata": {
        "id": "obzZ8ZZrxlRb",
        "colab": {
          "base_uri": "https://localhost:8080/",
          "height": 369
        },
        "outputId": "ff325726-d5f0-426e-b503-71f6022dc2c2"
      },
      "source": [
        "plot_curves(logreg)"
      ],
      "execution_count": 70,
      "outputs": [
        {
          "output_type": "stream",
          "name": "stderr",
          "text": [
            "/usr/local/lib/python3.7/dist-packages/sklearn/utils/deprecation.py:87: FutureWarning: Function plot_roc_curve is deprecated; Function `plot_roc_curve` is deprecated in 1.0 and will be removed in 1.2. Use one of the class methods: RocCurveDisplay.from_predictions or RocCurveDisplay.from_estimator.\n",
            "  warnings.warn(msg, category=FutureWarning)\n",
            "/usr/local/lib/python3.7/dist-packages/sklearn/utils/deprecation.py:87: FutureWarning: Function plot_precision_recall_curve is deprecated; Function `plot_precision_recall_curve` is deprecated in 1.0 and will be removed in 1.2. Use one of the class methods: PrecisionRecallDisplay.from_predictions or PrecisionRecallDisplay.from_estimator.\n",
            "  warnings.warn(msg, category=FutureWarning)\n"
          ]
        },
        {
          "output_type": "display_data",
          "data": {
            "image/png": "[encoded data removed]",
            "text/plain": [
              "<Figure size 432x288 with 2 Axes>"
            ]
          },
          "metadata": {
            "needs_background": "light"
          }
        }
      ]
    },
    {
      "cell_type": "code",
      "metadata": {
        "id": "DB_J_ySqyUEn",
        "colab": {
          "base_uri": "https://localhost:8080/",
          "height": 369
        },
        "outputId": "4a5d95f4-f488-4d63-b55a-c9382078bd29"
      },
      "source": [
        "plot_curves(knn)"
      ],
      "execution_count": 71,
      "outputs": [
        {
          "output_type": "stream",
          "name": "stderr",
          "text": [
            "/usr/local/lib/python3.7/dist-packages/sklearn/utils/deprecation.py:87: FutureWarning: Function plot_roc_curve is deprecated; Function `plot_roc_curve` is deprecated in 1.0 and will be removed in 1.2. Use one of the class methods: RocCurveDisplay.from_predictions or RocCurveDisplay.from_estimator.\n",
            "  warnings.warn(msg, category=FutureWarning)\n",
            "/usr/local/lib/python3.7/dist-packages/sklearn/utils/deprecation.py:87: FutureWarning: Function plot_precision_recall_curve is deprecated; Function `plot_precision_recall_curve` is deprecated in 1.0 and will be removed in 1.2. Use one of the class methods: PrecisionRecallDisplay.from_predictions or PrecisionRecallDisplay.from_estimator.\n",
            "  warnings.warn(msg, category=FutureWarning)\n"
          ]
        },
        {
          "output_type": "display_data",
          "data": {
            "image/png": "[encoded data removed]",
            "text/plain": [
              "<Figure size 432x288 with 2 Axes>"
            ]
          },
          "metadata": {
            "needs_background": "light"
          }
        }
      ]
    },
    {
      "cell_type": "markdown",
      "metadata": {
        "id": "wvja1lhpb3Kn"
      },
      "source": [
        "### (1 балл) Выберите одну метрику, которую вы будете максимизировать\n",
        "\n",
        "Представьте, что вы решаете задачу автоматического поиска мошеннических транзакций, чтобы ваш робот автоматически банил пользователей, который их осуществляют.\n",
        "\n",
        "Обоснуйте свой выбор."
      ]
    },
    {
      "cell_type": "markdown",
      "metadata": {
        "id": "GDiM7y-Y1RkA"
      },
      "source": [
        "### (Осталось только понять, что банки делают с фродом, когда его детектят...) \n",
        "\n",
        "###Я посмотрел в интернете,и выяснилось, что при фроде есть стандартная операция - когда клиент пишет жалобу/письмо/заявку на возврат средств, из-за чего в конечном итоге страдает бизнес, а в наших моделях на элементарном уровне recall очень себе даже фиговенький, а значит его мы и будет максимизировать"
      ]
    },
    {
      "cell_type": "markdown",
      "metadata": {
        "id": "URH8eQceb3Ko"
      },
      "source": [
        "### (2 балла) Переберите гиперпараметры разных моделей, попытайтесь добиться лучшего результата по этой метрике\n",
        "\n",
        "Постройте график для каждого перебора, сделайте красивый отчет (не надо просто говорить \"я решил выбрать 2, 0.7 и 6, так не пойдет\".\n",
        "\n",
        "Можно преобразовывать датасет, преобразовывать, добавлять, удалять фичи, всё что угодно.\n",
        "\n",
        "Отсутствие результата тоже результат (вдруг вы перебрали кучу вещей, а лучший все еще самый первый запуск, главное что перебрали)."
      ]
    },
    {
      "cell_type": "code",
      "metadata": {
        "id": "aVOIFOSMb3Kp"
      },
      "source": [
        "from sklearn.model_selection import KFold, cross_val_score\n",
        "from sklearn.metrics import confusion_matrix, precision_recall_curve, auc, roc_auc_score, roc_curve"
      ],
      "execution_count": 72,
      "outputs": []
    },
    {
      "cell_type": "code",
      "metadata": {
        "id": "sZeLD5o7b3Kp"
      },
      "source": [
        "def kfold_score(X_train_cv, y_train_cv):\n",
        "    folds = KFold(n_splits=5, shuffle=False)\n",
        "    \n",
        "    cs = np.logspace(-4, 2, num=7)\n",
        "    mean_accuracies_l1 = []\n",
        "    mean_accuracies_l2 = []\n",
        "    indices = y_train_cv.index\n",
        "\n",
        "    for c in cs:\n",
        "        print(\"We're using lambda={} now\".format(c))\n",
        "        recall_accuracies_l2 = []\n",
        "        recall_accuracies_l1 = []\n",
        "\n",
        "        for train, test in folds.split(y_train_cv):\n",
        "            logreg_l2 = LogisticRegression(C=c, penalty='l2')\n",
        "            logreg_l2.fit(X_train_cv.loc[indices[train], :], y_train_cv[indices[train]])\n",
        "            y_pred_l2 = logreg_l2.predict(X_train_cv.loc[indices[test], :])\n",
        "            recall_acc_l2 = recall_score(y_train_cv[indices[test]], y_pred_l2)\n",
        "            #print(recall_acc_l2)\n",
        "            recall_accuracies_l2.append(recall_acc_l2)\n",
        "\n",
        "            logreg_l1 = LogisticRegression(solver='liblinear', C=c, penalty='l1')\n",
        "            logreg_l1.fit(X_train_cv.loc[indices[train], :], y_train_cv[indices[train]])\n",
        "            y_pred_l1 = logreg_l1.predict(X_train_cv.loc[indices[test], :])\n",
        "            recall_acc_l1 = recall_score(y_train_cv[indices[test]], y_pred_l1)\n",
        "            #print(recall_acc_l1)\n",
        "            recall_accuracies_l1.append(recall_acc_l1)\n",
        "\n",
        "        recall_accuracies_l1 = np.array(recall_accuracies_l1)\n",
        "        recall_accuracies_l1 = np.array(recall_accuracies_l1)\n",
        "        recall_accuracies_l2 = np.array(recall_accuracies_l2)\n",
        "        recall_accuracies_l2 = np.array(recall_accuracies_l2)\n",
        "\n",
        "        mean_acc_l2 = recall_accuracies_l2.mean()\n",
        "        mean_accuracies_l2.append(mean_acc_l2)\n",
        "        print(\"Mean recall score with l2-regularization : {:.2f}\".format(mean_acc_l2))\n",
        "\n",
        "        mean_acc_l1 = recall_accuracies_l1.mean()\n",
        "        mean_accuracies_l1.append(mean_acc_l1)\n",
        "        print(\"Mean recall score with l1-regularization : {:.2f}\".format(mean_acc_l1))\n",
        "\n",
        "    mean_accuracies_l1 = np.array(mean_accuracies_l1)\n",
        "    mean_accuracies_l2 = np.array(mean_accuracies_l2)\n",
        "    best_cl1 = cs[np.argmax(mean_accuracies_l1)]\n",
        "    best_cl2 = cs[np.argmax(mean_accuracies_l2)]\n",
        "    print(\"Best lambda for Logistic Regression with l1 is {}\".format(best_cl1))\n",
        "    print(\"Best lambda for Logistic Regression with l2 is {}\".format(best_cl2))\n",
        "    \n",
        "    fig, ax = plt.subplots(1, 2, figsize=(9, 6), sharey=True)\n",
        "    plt.title(\"Mean recall scores\")\n",
        "    ax1 = plt.subplot(1, 2, 1)\n",
        "    ax2 = plt.subplot(1, 2, 2)\n",
        "    ax1.plot(cs, mean_accuracies_l1, marker='o')\n",
        "    ax1.title.set_text(\"l1 regularization\")\n",
        "    ax2.plot(cs, mean_accuracies_l2, marker='o')\n",
        "    ax2.title.set_text(\"l2 regularization\")\n",
        "    plt.show()\n",
        "\n",
        "    return best_cl1, best_cl2\n"
      ],
      "execution_count": 73,
      "outputs": []
    },
    {
      "cell_type": "markdown",
      "metadata": {
        "id": "6-zDmas8ZOI_"
      },
      "source": [
        "### Ремарка : для всего датасета можно попробовать еще установить веса для ошибок(class_weight параметр в logreg)"
      ]
    },
    {
      "cell_type": "code",
      "metadata": {
        "id": "GPsFwvV6b3Kq",
        "colab": {
          "base_uri": "https://localhost:8080/",
          "height": 789
        },
        "outputId": "b2f9ec3d-ce61-4dd5-b40a-de14fb6cd73d"
      },
      "source": [
        "best_cl1_for_skew_data, best_cl2_for_skew_data = kfold_score(X_train, y_train)\n"
      ],
      "execution_count": 74,
      "outputs": [
        {
          "output_type": "stream",
          "name": "stdout",
          "text": [
            "We're using lambda=0.0001 now\n",
            "Mean recall score with l2-regularization : 0.22\n",
            "Mean recall score with l1-regularization : 0.00\n",
            "We're using lambda=0.001 now\n",
            "Mean recall score with l2-regularization : 0.52\n",
            "Mean recall score with l1-regularization : 0.19\n",
            "We're using lambda=0.01 now\n",
            "Mean recall score with l2-regularization : 0.60\n",
            "Mean recall score with l1-regularization : 0.56\n",
            "We're using lambda=0.1 now\n",
            "Mean recall score with l2-regularization : 0.61\n",
            "Mean recall score with l1-regularization : 0.61\n",
            "We're using lambda=1.0 now\n",
            "Mean recall score with l2-regularization : 0.62\n",
            "Mean recall score with l1-regularization : 0.62\n",
            "We're using lambda=10.0 now\n",
            "Mean recall score with l2-regularization : 0.62\n",
            "Mean recall score with l1-regularization : 0.62\n",
            "We're using lambda=100.0 now\n",
            "Mean recall score with l2-regularization : 0.62\n",
            "Mean recall score with l1-regularization : 0.62\n",
            "Best lambda for Logistic Regression with l1 is 10.0\n",
            "Best lambda for Logistic Regression with l2 is 1.0\n"
          ]
        },
        {
          "output_type": "display_data",
          "data": {
            "image/png": "[encoded data removed]",
            "text/plain": [
              "<Figure size 648x432 with 2 Axes>"
            ]
          },
          "metadata": {
            "needs_background": "light"
          }
        }
      ]
    },
    {
      "cell_type": "code",
      "metadata": {
        "id": "D83Cmn0nQzWP"
      },
      "source": [
        "def kfold_knn_score(X_cv, y_cv):\n",
        "    folds = KFold(n_splits=5, shuffle=False)\n",
        "    k_neighbours = [2, 3, 4, 5]\n",
        "    mean_accuracies = []\n",
        "    indices = y_cv.index\n",
        "\n",
        "    for k_neig in k_neighbours:\n",
        "        print(\"We're using {} neighbours\".format(k_neig))\n",
        "        recall_scores = []\n",
        "        \n",
        "        for train, test in folds.split(y_cv):\n",
        "            model = KNeighborsClassifier(n_neighbors=k_neig)\n",
        "            model.fit(X_cv.loc[indices[train], :], y_cv[indices[train]])\n",
        "            y_pred = model.predict(X_cv.loc[indices[test], :]) \n",
        "            recall_scores.append(recall_score(y_cv[indices[test]], y_pred))\n",
        "        recall_scores = np.array(recall_scores)\n",
        "        mean_recall_score = recall_scores.mean()\n",
        "        print(\"Mean recall score =\", mean_recall_score)\n",
        "        mean_accuracies.append(mean_recall_score)\n",
        "    \n",
        "    mean_accuracies = np.array(mean_accuracies)\n",
        "    best_k_neig = k_neighbours[np.argmax(mean_accuracies)]\n",
        "    fig = plt.figure(figsize=(9, 6))\n",
        "    plt.title(\"Mean recall scores\")\n",
        "    plt.plot(k_neighbours, mean_accuracies, marker='o')\n",
        "    plt.show()\n",
        "    print(\"Best amount of neighbours is\", best_k_neig)\n",
        "\n",
        "    return best_k_neig"
      ],
      "execution_count": 75,
      "outputs": []
    },
    {
      "cell_type": "code",
      "metadata": {
        "id": "fgUuyPncSOAS",
        "colab": {
          "base_uri": "https://localhost:8080/",
          "height": 546
        },
        "outputId": "21e3819b-50c1-4feb-ae29-4ec710eef1ff"
      },
      "source": [
        "best_k_neig_for_skew_data = kfold_knn_score(X_train, y_train)"
      ],
      "execution_count": 76,
      "outputs": [
        {
          "output_type": "stream",
          "name": "stdout",
          "text": [
            "We're using 2 neighbours\n",
            "Mean recall score = 0.71828173374613\n",
            "We're using 3 neighbours\n",
            "Mean recall score = 0.7555727554179567\n",
            "We're using 4 neighbours\n",
            "Mean recall score = 0.7264860681114551\n",
            "We're using 5 neighbours\n",
            "Mean recall score = 0.7479411764705883\n"
          ]
        },
        {
          "output_type": "display_data",
          "data": {
            "image/png": "[encoded data removed]",
            "text/plain": [
              "<Figure size 648x432 with 1 Axes>"
            ]
          },
          "metadata": {
            "needs_background": "light"
          }
        },
        {
          "output_type": "stream",
          "name": "stdout",
          "text": [
            "Best amount of neighbours is 3\n"
          ]
        }
      ]
    },
    {
      "cell_type": "markdown",
      "metadata": {
        "id": "GlT2WLOYSrLU"
      },
      "source": [
        "### В ноутбуке по этому датасету я прочитал очень интересный способ работы с несбалансированными классами - undersampling(в нашем случае under, т.к. данных много)"
      ]
    },
    {
      "cell_type": "code",
      "metadata": {
        "id": "EvNzfBFdcaXL"
      },
      "source": [
        "\n",
        "fraud_index = y[(y == 1)].index\n",
        "normal_index = y[(y == 0)].index\n",
        "\n",
        "random_normal_index = np.random.choice(normal_index, size=fraud_index.shape[0], replace=False)\n",
        "\n",
        "\n",
        "undersample_index = np.concatenate([random_normal_index, fraud_index.values])\n",
        "X_undersample_train, X_undersample_test, y_undersampe_train, y_undersample_test = train_test_split(X.loc[undersample_index, :],\n",
        "                                                                                                        y[undersample_index],\n",
        "                                                                                                   random_state=42,\n",
        "                                                                                                  train_size=0.7 \n",
        "                                                                                                  )"
      ],
      "execution_count": 77,
      "outputs": []
    },
    {
      "cell_type": "code",
      "metadata": {
        "colab": {
          "base_uri": "https://localhost:8080/",
          "height": 1000
        },
        "id": "tF9JJTudpzz2",
        "outputId": "ba09c0f9-a64a-42d8-9bee-af1d575291b7"
      },
      "source": [
        "best_cl1, best_cl2 = kfold_score(X_undersample_train, y_undersampe_train)"
      ],
      "execution_count": 78,
      "outputs": [
        {
          "output_type": "stream",
          "name": "stdout",
          "text": [
            "We're using lambda=0.0001 now\n",
            "Mean recall score with l2-regularization : 0.80\n",
            "Mean recall score with l1-regularization : 0.00\n",
            "We're using lambda=0.001 now\n",
            "Mean recall score with l2-regularization : 0.83\n",
            "Mean recall score with l1-regularization : 0.38\n",
            "We're using lambda=0.01 now\n",
            "Mean recall score with l2-regularization : 0.88\n",
            "Mean recall score with l1-regularization : 0.96\n",
            "We're using lambda=0.1 now\n",
            "Mean recall score with l2-regularization : 0.90\n",
            "Mean recall score with l1-regularization : 0.90\n",
            "We're using lambda=1.0 now\n",
            "Mean recall score with l2-regularization : 0.92\n",
            "Mean recall score with l1-regularization : 0.92\n",
            "We're using lambda=10.0 now\n"
          ]
        },
        {
          "output_type": "stream",
          "name": "stderr",
          "text": [
            "/usr/local/lib/python3.7/dist-packages/sklearn/linear_model/_logistic.py:818: ConvergenceWarning: lbfgs failed to converge (status=1):\n",
            "STOP: TOTAL NO. of ITERATIONS REACHED LIMIT.\n",
            "\n",
            "Increase the number of iterations (max_iter) or scale the data as shown in:\n",
            "    https://scikit-learn.org/stable/modules/preprocessing.html\n",
            "Please also refer to the documentation for alternative solver options:\n",
            "    https://scikit-learn.org/stable/modules/linear_model.html#logistic-regression\n",
            "  extra_warning_msg=_LOGISTIC_SOLVER_CONVERGENCE_MSG,\n",
            "/usr/local/lib/python3.7/dist-packages/sklearn/linear_model/_logistic.py:818: ConvergenceWarning: lbfgs failed to converge (status=1):\n",
            "STOP: TOTAL NO. of ITERATIONS REACHED LIMIT.\n",
            "\n",
            "Increase the number of iterations (max_iter) or scale the data as shown in:\n",
            "    https://scikit-learn.org/stable/modules/preprocessing.html\n",
            "Please also refer to the documentation for alternative solver options:\n",
            "    https://scikit-learn.org/stable/modules/linear_model.html#logistic-regression\n",
            "  extra_warning_msg=_LOGISTIC_SOLVER_CONVERGENCE_MSG,\n",
            "/usr/local/lib/python3.7/dist-packages/sklearn/linear_model/_logistic.py:818: ConvergenceWarning: lbfgs failed to converge (status=1):\n",
            "STOP: TOTAL NO. of ITERATIONS REACHED LIMIT.\n",
            "\n",
            "Increase the number of iterations (max_iter) or scale the data as shown in:\n",
            "    https://scikit-learn.org/stable/modules/preprocessing.html\n",
            "Please also refer to the documentation for alternative solver options:\n",
            "    https://scikit-learn.org/stable/modules/linear_model.html#logistic-regression\n",
            "  extra_warning_msg=_LOGISTIC_SOLVER_CONVERGENCE_MSG,\n",
            "/usr/local/lib/python3.7/dist-packages/sklearn/linear_model/_logistic.py:818: ConvergenceWarning: lbfgs failed to converge (status=1):\n",
            "STOP: TOTAL NO. of ITERATIONS REACHED LIMIT.\n",
            "\n",
            "Increase the number of iterations (max_iter) or scale the data as shown in:\n",
            "    https://scikit-learn.org/stable/modules/preprocessing.html\n",
            "Please also refer to the documentation for alternative solver options:\n",
            "    https://scikit-learn.org/stable/modules/linear_model.html#logistic-regression\n",
            "  extra_warning_msg=_LOGISTIC_SOLVER_CONVERGENCE_MSG,\n"
          ]
        },
        {
          "output_type": "stream",
          "name": "stdout",
          "text": [
            "Mean recall score with l2-regularization : 0.92\n",
            "Mean recall score with l1-regularization : 0.92\n",
            "We're using lambda=100.0 now\n"
          ]
        },
        {
          "output_type": "stream",
          "name": "stderr",
          "text": [
            "/usr/local/lib/python3.7/dist-packages/sklearn/linear_model/_logistic.py:818: ConvergenceWarning: lbfgs failed to converge (status=1):\n",
            "STOP: TOTAL NO. of ITERATIONS REACHED LIMIT.\n",
            "\n",
            "Increase the number of iterations (max_iter) or scale the data as shown in:\n",
            "    https://scikit-learn.org/stable/modules/preprocessing.html\n",
            "Please also refer to the documentation for alternative solver options:\n",
            "    https://scikit-learn.org/stable/modules/linear_model.html#logistic-regression\n",
            "  extra_warning_msg=_LOGISTIC_SOLVER_CONVERGENCE_MSG,\n",
            "/usr/local/lib/python3.7/dist-packages/sklearn/linear_model/_logistic.py:818: ConvergenceWarning: lbfgs failed to converge (status=1):\n",
            "STOP: TOTAL NO. of ITERATIONS REACHED LIMIT.\n",
            "\n",
            "Increase the number of iterations (max_iter) or scale the data as shown in:\n",
            "    https://scikit-learn.org/stable/modules/preprocessing.html\n",
            "Please also refer to the documentation for alternative solver options:\n",
            "    https://scikit-learn.org/stable/modules/linear_model.html#logistic-regression\n",
            "  extra_warning_msg=_LOGISTIC_SOLVER_CONVERGENCE_MSG,\n",
            "/usr/local/lib/python3.7/dist-packages/sklearn/linear_model/_logistic.py:818: ConvergenceWarning: lbfgs failed to converge (status=1):\n",
            "STOP: TOTAL NO. of ITERATIONS REACHED LIMIT.\n",
            "\n",
            "Increase the number of iterations (max_iter) or scale the data as shown in:\n",
            "    https://scikit-learn.org/stable/modules/preprocessing.html\n",
            "Please also refer to the documentation for alternative solver options:\n",
            "    https://scikit-learn.org/stable/modules/linear_model.html#logistic-regression\n",
            "  extra_warning_msg=_LOGISTIC_SOLVER_CONVERGENCE_MSG,\n",
            "/usr/local/lib/python3.7/dist-packages/sklearn/linear_model/_logistic.py:818: ConvergenceWarning: lbfgs failed to converge (status=1):\n",
            "STOP: TOTAL NO. of ITERATIONS REACHED LIMIT.\n",
            "\n",
            "Increase the number of iterations (max_iter) or scale the data as shown in:\n",
            "    https://scikit-learn.org/stable/modules/preprocessing.html\n",
            "Please also refer to the documentation for alternative solver options:\n",
            "    https://scikit-learn.org/stable/modules/linear_model.html#logistic-regression\n",
            "  extra_warning_msg=_LOGISTIC_SOLVER_CONVERGENCE_MSG,\n"
          ]
        },
        {
          "output_type": "stream",
          "name": "stdout",
          "text": [
            "Mean recall score with l2-regularization : 0.92\n",
            "Mean recall score with l1-regularization : 0.93\n",
            "Best lambda for Logistic Regression with l1 is 0.01\n",
            "Best lambda for Logistic Regression with l2 is 100.0\n"
          ]
        },
        {
          "output_type": "display_data",
          "data": {
            "image/png": "[encoded data removed]",
            "text/plain": [
              "<Figure size 648x432 with 2 Axes>"
            ]
          },
          "metadata": {
            "needs_background": "light"
          }
        }
      ]
    },
    {
      "cell_type": "code",
      "metadata": {
        "colab": {
          "base_uri": "https://localhost:8080/",
          "height": 546
        },
        "id": "L976EuKNq7RJ",
        "outputId": "1bb7fa2d-ee8c-44a4-ba17-50352667ddf8"
      },
      "source": [
        "best_k_neig = kfold_knn_score(X_undersample_train, y_undersampe_train)"
      ],
      "execution_count": 79,
      "outputs": [
        {
          "output_type": "stream",
          "name": "stdout",
          "text": [
            "We're using 2 neighbours\n",
            "Mean recall score = 0.8778199716951111\n",
            "We're using 3 neighbours\n",
            "Mean recall score = 0.9039024890677123\n",
            "We're using 4 neighbours\n",
            "Mean recall score = 0.8780683571893981\n",
            "We're using 5 neighbours\n",
            "Mean recall score = 0.8883275758823517\n"
          ]
        },
        {
          "output_type": "display_data",
          "data": {
            "image/png": "[encoded data removed]",
            "text/plain": [
              "<Figure size 648x432 with 1 Axes>"
            ]
          },
          "metadata": {
            "needs_background": "light"
          }
        },
        {
          "output_type": "stream",
          "name": "stdout",
          "text": [
            "Best amount of neighbours is 3\n"
          ]
        }
      ]
    },
    {
      "cell_type": "markdown",
      "metadata": {
        "id": "Hi6sLuxF9z9j"
      },
      "source": [
        "### Посмотрим на результаты наших обученных моделей на undersamplied дате:"
      ]
    },
    {
      "cell_type": "code",
      "metadata": {
        "id": "ZglOFoRG9zcr"
      },
      "source": [
        "best_logreg_l1_undersample = LogisticRegression(solver='liblinear', C=best_cl1, penalty='l1')\n",
        "best_logreg_l1_undersample.fit(X_undersample_train, y_undersampe_train)\n",
        "y_pred_for_undersample_logreg = best_logreg_l1_undersample.predict(X_undersample_test)"
      ],
      "execution_count": 80,
      "outputs": []
    },
    {
      "cell_type": "code",
      "metadata": {
        "colab": {
          "base_uri": "https://localhost:8080/"
        },
        "id": "vb-24S13-4Im",
        "outputId": "9c738dea-67aa-401d-b061-6e664a8263f3"
      },
      "source": [
        "report(y_pred_for_undersample_logreg, y_undersample_test, \"Best Logistic Regression\")"
      ],
      "execution_count": 81,
      "outputs": [
        {
          "output_type": "stream",
          "name": "stdout",
          "text": [
            "Report for Best Logistic Regression\n",
            "Accuracy : 0.918918918918919\n",
            "Precision : 0.9236111111111112\n",
            "Recall : 0.910958904109589\n",
            "F1-score : 0.9172413793103449\n",
            "AUC ROC : 0.9188127853881277\n"
          ]
        }
      ]
    },
    {
      "cell_type": "code",
      "metadata": {
        "colab": {
          "base_uri": "https://localhost:8080/",
          "height": 350
        },
        "id": "erM09RacDdKS",
        "outputId": "50d11784-3691-4d0a-ccff-796614c4e000"
      },
      "source": [
        "y_pred_undersample_score = best_logreg_l1_undersample.decision_function(X_undersample_test.values)\n",
        "\n",
        "fpr, tpr, thresholds = roc_curve(y_undersample_test.values.ravel(), y_pred_undersample_score)\n",
        "roc_auc = auc(fpr,tpr)\n",
        "\n",
        "\n",
        "plt.title('ROC for Logistic Regression')\n",
        "plt.plot(fpr, tpr, 'b', label='AUC = %0.2f'% roc_auc)\n",
        "plt.legend(loc='lower right')\n",
        "plt.plot([0,1],[0,1],'r--')\n",
        "plt.xlim([-0.1,1.0])\n",
        "plt.ylim([-0.1,1.01])\n",
        "plt.ylabel('True Positive Rate')\n",
        "plt.xlabel('False Positive Rate')\n",
        "plt.show()\n"
      ],
      "execution_count": 82,
      "outputs": [
        {
          "output_type": "stream",
          "name": "stderr",
          "text": [
            "/usr/local/lib/python3.7/dist-packages/sklearn/base.py:446: UserWarning: X does not have valid feature names, but LogisticRegression was fitted with feature names\n",
            "  \"X does not have valid feature names, but\"\n"
          ]
        },
        {
          "output_type": "display_data",
          "data": {
            "image/png": "[encoded data removed]",
            "text/plain": [
              "<Figure size 432x288 with 1 Axes>"
            ]
          },
          "metadata": {
            "needs_background": "light"
          }
        }
      ]
    },
    {
      "cell_type": "code",
      "metadata": {
        "id": "WkeMRyLr_VTJ"
      },
      "source": [
        "best_knn_undersample = KNeighborsClassifier(n_neighbors=best_k_neig)\n",
        "best_knn_undersample.fit(X_undersample_train, y_undersampe_train)\n",
        "y_pred_for_undersample_knn = best_knn_undersample.predict(X_undersample_test)"
      ],
      "execution_count": 83,
      "outputs": []
    },
    {
      "cell_type": "code",
      "metadata": {
        "colab": {
          "base_uri": "https://localhost:8080/"
        },
        "id": "2D7UICg8_n9O",
        "outputId": "7440a5b5-f340-487e-d279-266f21284ea7"
      },
      "source": [
        "report(y_pred_for_undersample_knn, y_undersample_test, \"Best KNN\")"
      ],
      "execution_count": 84,
      "outputs": [
        {
          "output_type": "stream",
          "name": "stdout",
          "text": [
            "Report for Best KNN\n",
            "Accuracy : 0.9425675675675675\n",
            "Precision : 0.9849624060150376\n",
            "Recall : 0.8972602739726028\n",
            "F1-score : 0.9390681003584228\n",
            "AUC ROC : 0.9419634703196348\n"
          ]
        }
      ]
    },
    {
      "cell_type": "code",
      "metadata": {
        "colab": {
          "base_uri": "https://localhost:8080/",
          "height": 350
        },
        "id": "V_0CEw5NEFwa",
        "outputId": "f98e9ed6-30a4-4532-b840-051a48b17dea"
      },
      "source": [
        "y_pred_undersample_score0 = best_knn_undersample.predict_proba(X_undersample_test.values)\n",
        "\n",
        "fpr, tpr, thresholds = roc_curve(y_undersample_test.values.ravel(), y_pred_undersample_score0[:, 1])\n",
        "roc_auc = auc(fpr,tpr)\n",
        "\n",
        "\n",
        "plt.title('ROC for KNN')\n",
        "plt.plot(fpr, tpr, 'b', label='AUC = %0.2f' % roc_auc)\n",
        "plt.legend(loc='lower right')\n",
        "plt.plot([0,1],[0,1],'r--')\n",
        "plt.xlim([-0.1,1.0])\n",
        "plt.ylim([-0.1,1.01])\n",
        "plt.ylabel('True Positive Rate')\n",
        "plt.xlabel('False Positive Rate')\n",
        "plt.show()\n"
      ],
      "execution_count": 85,
      "outputs": [
        {
          "output_type": "stream",
          "name": "stderr",
          "text": [
            "/usr/local/lib/python3.7/dist-packages/sklearn/base.py:446: UserWarning: X does not have valid feature names, but KNeighborsClassifier was fitted with feature names\n",
            "  \"X does not have valid feature names, but\"\n"
          ]
        },
        {
          "output_type": "display_data",
          "data": {
            "image/png": "[encoded data removed]",
            "text/plain": [
              "<Figure size 432x288 with 1 Axes>"
            ]
          },
          "metadata": {
            "needs_background": "light"
          }
        }
      ]
    },
    {
      "cell_type": "markdown",
      "metadata": {
        "id": "Pp_hcRAfTYPh"
      },
      "source": [
        "## Как видим, нам удалось хорошо улучшить полноту наших моделей (если так можно сказать) с помощью небольшой предобработки : отскейлили amount, убрали Date, а так же с помощью метода undersampling - он очень хорошо показал себя на дате с несбалансированными классами"
      ]
    },
    {
      "cell_type": "markdown",
      "metadata": {
        "id": "w_v_NlYRTzCF"
      },
      "source": [
        "# ____"
      ]
    },
    {
      "cell_type": "markdown",
      "metadata": {
        "id": "IGhraT_cb3Kq"
      },
      "source": [
        "# 2 - Небинарная классификация на вашем датасете (суммарно 6 баллов)"
      ]
    },
    {
      "cell_type": "markdown",
      "metadata": {
        "id": "93DnTMEyb3Kr"
      },
      "source": [
        "### (2 балла) Выберите какой-нибудь интересный вам датасет, скачайте его и считайте данные\n",
        "\n",
        "Творческое задание - найти в интернете (или собрать свой даже) датасет, сохранить его в файл, и загрузить сюда.\n",
        "\n",
        "Требования:\n",
        "\n",
        "- он должен быть немаленький (хотя бы 500 объектов, лучше больше)\n",
        "- он должен быть интересный\n",
        "- таргет должен быть небинарным классом\n",
        "\n",
        "Минус балл, если ваш датасет с кем-нибудь повторится."
      ]
    },
    {
      "cell_type": "markdown",
      "metadata": {
        "id": "c0D-xslXvULl"
      },
      "source": [
        "## Взял датасет про белое вино с UCI, хотя он выглядит достаточно популярным, есть шанс, что ни с кем не пересечется... Оказывается, датасеты искать непросто - у кагглеров одни CV и NLP на уме..\n",
        "\n",
        "Ссылка на датасет: https://archive.ics.uci.edu/ml/datasets/Wine+Quality"
      ]
    },
    {
      "cell_type": "code",
      "metadata": {
        "id": "j5nR2A72b3Kr",
        "colab": {
          "base_uri": "https://localhost:8080/",
          "height": 241
        },
        "outputId": "f8007750-7154-451d-97ab-3fc3687e9012"
      },
      "source": [
        "data = pd.read_csv(\"winequality-white.csv\", sep=\";\")\n",
        "data.head()"
      ],
      "execution_count": 86,
      "outputs": [
        {
          "output_type": "execute_result",
          "data": {
            "text/html": [
              "<div>\n",
              "<style scoped>\n",
              "    .dataframe tbody tr th:only-of-type {\n",
              "        vertical-align: middle;\n",
              "    }\n",
              "\n",
              "    .dataframe tbody tr th {\n",
              "        vertical-align: top;\n",
              "    }\n",
              "\n",
              "    .dataframe thead th {\n",
              "        text-align: right;\n",
              "    }\n",
              "</style>\n",
              "<table border=\"1\" class=\"dataframe\">\n",
              "  <thead>\n",
              "    <tr style=\"text-align: right;\">\n",
              "      <th></th>\n",
              "      <th>fixed acidity</th>\n",
              "      <th>volatile acidity</th>\n",
              "      <th>citric acid</th>\n",
              "      <th>residual sugar</th>\n",
              "      <th>chlorides</th>\n",
              "      <th>free sulfur dioxide</th>\n",
              "      <th>total sulfur dioxide</th>\n",
              "      <th>density</th>\n",
              "      <th>pH</th>\n",
              "      <th>sulphates</th>\n",
              "      <th>alcohol</th>\n",
              "      <th>quality</th>\n",
              "    </tr>\n",
              "  </thead>\n",
              "  <tbody>\n",
              "    <tr>\n",
              "      <th>0</th>\n",
              "      <td>7.0</td>\n",
              "      <td>0.27</td>\n",
              "      <td>0.36</td>\n",
              "      <td>20.7</td>\n",
              "      <td>0.045</td>\n",
              "      <td>45.0</td>\n",
              "      <td>170.0</td>\n",
              "      <td>1.0010</td>\n",
              "      <td>3.00</td>\n",
              "      <td>0.45</td>\n",
              "      <td>8.8</td>\n",
              "      <td>6</td>\n",
              "    </tr>\n",
              "    <tr>\n",
              "      <th>1</th>\n",
              "      <td>6.3</td>\n",
              "      <td>0.30</td>\n",
              "      <td>0.34</td>\n",
              "      <td>1.6</td>\n",
              "      <td>0.049</td>\n",
              "      <td>14.0</td>\n",
              "      <td>132.0</td>\n",
              "      <td>0.9940</td>\n",
              "      <td>3.30</td>\n",
              "      <td>0.49</td>\n",
              "      <td>9.5</td>\n",
              "      <td>6</td>\n",
              "    </tr>\n",
              "    <tr>\n",
              "      <th>2</th>\n",
              "      <td>8.1</td>\n",
              "      <td>0.28</td>\n",
              "      <td>0.40</td>\n",
              "      <td>6.9</td>\n",
              "      <td>0.050</td>\n",
              "      <td>30.0</td>\n",
              "      <td>97.0</td>\n",
              "      <td>0.9951</td>\n",
              "      <td>3.26</td>\n",
              "      <td>0.44</td>\n",
              "      <td>10.1</td>\n",
              "      <td>6</td>\n",
              "    </tr>\n",
              "    <tr>\n",
              "      <th>3</th>\n",
              "      <td>7.2</td>\n",
              "      <td>0.23</td>\n",
              "      <td>0.32</td>\n",
              "      <td>8.5</td>\n",
              "      <td>0.058</td>\n",
              "      <td>47.0</td>\n",
              "      <td>186.0</td>\n",
              "      <td>0.9956</td>\n",
              "      <td>3.19</td>\n",
              "      <td>0.40</td>\n",
              "      <td>9.9</td>\n",
              "      <td>6</td>\n",
              "    </tr>\n",
              "    <tr>\n",
              "      <th>4</th>\n",
              "      <td>7.2</td>\n",
              "      <td>0.23</td>\n",
              "      <td>0.32</td>\n",
              "      <td>8.5</td>\n",
              "      <td>0.058</td>\n",
              "      <td>47.0</td>\n",
              "      <td>186.0</td>\n",
              "      <td>0.9956</td>\n",
              "      <td>3.19</td>\n",
              "      <td>0.40</td>\n",
              "      <td>9.9</td>\n",
              "      <td>6</td>\n",
              "    </tr>\n",
              "  </tbody>\n",
              "</table>\n",
              "</div>"
            ],
            "text/plain": [
              "   fixed acidity  volatile acidity  citric acid  ...  sulphates  alcohol  quality\n",
              "0            7.0              0.27         0.36  ...       0.45      8.8        6\n",
              "1            6.3              0.30         0.34  ...       0.49      9.5        6\n",
              "2            8.1              0.28         0.40  ...       0.44     10.1        6\n",
              "3            7.2              0.23         0.32  ...       0.40      9.9        6\n",
              "4            7.2              0.23         0.32  ...       0.40      9.9        6\n",
              "\n",
              "[5 rows x 12 columns]"
            ]
          },
          "metadata": {},
          "execution_count": 86
        }
      ]
    },
    {
      "cell_type": "code",
      "metadata": {
        "id": "GeIpLIrCb3Kr",
        "colab": {
          "base_uri": "https://localhost:8080/"
        },
        "outputId": "ac96b473-af63-4164-d8a1-2c54041e3361"
      },
      "source": [
        "data.shape"
      ],
      "execution_count": 87,
      "outputs": [
        {
          "output_type": "execute_result",
          "data": {
            "text/plain": [
              "(4898, 12)"
            ]
          },
          "metadata": {},
          "execution_count": 87
        }
      ]
    },
    {
      "cell_type": "code",
      "metadata": {
        "colab": {
          "base_uri": "https://localhost:8080/"
        },
        "id": "LX9R_dquxRGd",
        "outputId": "f60ab8f8-8822-47ac-be03-25b8b06c1b3c"
      },
      "source": [
        "# посмотрим на количество пропусков в каждой из колонок: \n",
        "for col in data:\n",
        "    print(col, \" - \", data[col].isna().sum())"
      ],
      "execution_count": 88,
      "outputs": [
        {
          "output_type": "stream",
          "name": "stdout",
          "text": [
            "fixed acidity  -  0\n",
            "volatile acidity  -  0\n",
            "citric acid  -  0\n",
            "residual sugar  -  0\n",
            "chlorides  -  0\n",
            "free sulfur dioxide  -  0\n",
            "total sulfur dioxide  -  0\n",
            "density  -  0\n",
            "pH  -  0\n",
            "sulphates  -  0\n",
            "alcohol  -  0\n",
            "quality  -  0\n"
          ]
        }
      ]
    },
    {
      "cell_type": "markdown",
      "metadata": {
        "id": "-q52oyHTxfaS"
      },
      "source": [
        "Прекрасно, пропусков нет, значит с самими данными особо возиться на надо будет (на сайте сказано, что все данные числового типа)"
      ]
    },
    {
      "cell_type": "code",
      "metadata": {
        "id": "6JmdvSIDwH_M"
      },
      "source": [
        "# Будем предсказыать quality вина - выделим соотвествующую колонку как таргет\n",
        "y = data[\"quality\"]\n",
        "X = data.drop(\"quality\", axis=1)"
      ],
      "execution_count": 89,
      "outputs": []
    },
    {
      "cell_type": "code",
      "metadata": {
        "colab": {
          "base_uri": "https://localhost:8080/",
          "height": 297
        },
        "id": "OTKXLV4Wwgek",
        "outputId": "d73851f0-4cad-489e-e395-1a5d21668661"
      },
      "source": [
        "# Посмотрим на распределени классов :\n",
        "sns.histplot(y)"
      ],
      "execution_count": 90,
      "outputs": [
        {
          "output_type": "execute_result",
          "data": {
            "text/plain": [
              "<matplotlib.axes._subplots.AxesSubplot at 0x7f65fabd35d0>"
            ]
          },
          "metadata": {},
          "execution_count": 90
        },
        {
          "output_type": "display_data",
          "data": {
            "image/png": "[encoded data removed]",
            "text/plain": [
              "<Figure size 432x288 with 1 Axes>"
            ]
          },
          "metadata": {
            "needs_background": "light"
          }
        }
      ]
    },
    {
      "cell_type": "markdown",
      "metadata": {
        "id": "pPRfVqNUw2Qz"
      },
      "source": [
        "Как видно, средних по качеству(пусть это будет диапазон от 5 до 7 включительно) вин больше всего, а вот плохих или хорошо заметно меньше (это можно подтянуть к имбалансу классов, например, использовать class_weight в LR)"
      ]
    },
    {
      "cell_type": "code",
      "metadata": {
        "colab": {
          "base_uri": "https://localhost:8080/",
          "height": 198
        },
        "id": "rGAI3JnMxLVQ",
        "outputId": "14db747a-172f-47d8-e968-683b94dadea3"
      },
      "source": [
        "# Нормализуем данные\n",
        "X.loc[:, :] = StandardScaler().fit_transform(X)\n",
        "X.sample(3)"
      ],
      "execution_count": 91,
      "outputs": [
        {
          "output_type": "execute_result",
          "data": {
            "text/html": [
              "<div>\n",
              "<style scoped>\n",
              "    .dataframe tbody tr th:only-of-type {\n",
              "        vertical-align: middle;\n",
              "    }\n",
              "\n",
              "    .dataframe tbody tr th {\n",
              "        vertical-align: top;\n",
              "    }\n",
              "\n",
              "    .dataframe thead th {\n",
              "        text-align: right;\n",
              "    }\n",
              "</style>\n",
              "<table border=\"1\" class=\"dataframe\">\n",
              "  <thead>\n",
              "    <tr style=\"text-align: right;\">\n",
              "      <th></th>\n",
              "      <th>fixed acidity</th>\n",
              "      <th>volatile acidity</th>\n",
              "      <th>citric acid</th>\n",
              "      <th>residual sugar</th>\n",
              "      <th>chlorides</th>\n",
              "      <th>free sulfur dioxide</th>\n",
              "      <th>total sulfur dioxide</th>\n",
              "      <th>density</th>\n",
              "      <th>pH</th>\n",
              "      <th>sulphates</th>\n",
              "      <th>alcohol</th>\n",
              "    </tr>\n",
              "  </thead>\n",
              "  <tbody>\n",
              "    <tr>\n",
              "      <th>2726</th>\n",
              "      <td>-1.842641</td>\n",
              "      <td>-0.776323</td>\n",
              "      <td>-0.199917</td>\n",
              "      <td>-0.550408</td>\n",
              "      <td>-0.447335</td>\n",
              "      <td>-0.782580</td>\n",
              "      <td>-1.114533</td>\n",
              "      <td>-0.417099</td>\n",
              "      <td>1.468577</td>\n",
              "      <td>0.088973</td>\n",
              "      <td>-0.580471</td>\n",
              "    </tr>\n",
              "    <tr>\n",
              "      <th>576</th>\n",
              "      <td>1.594265</td>\n",
              "      <td>-0.478657</td>\n",
              "      <td>-0.365197</td>\n",
              "      <td>-0.905330</td>\n",
              "      <td>0.056196</td>\n",
              "      <td>0.687541</td>\n",
              "      <td>1.144624</td>\n",
              "      <td>-0.243221</td>\n",
              "      <td>-0.385910</td>\n",
              "      <td>0.088973</td>\n",
              "      <td>-0.255399</td>\n",
              "    </tr>\n",
              "    <tr>\n",
              "      <th>2173</th>\n",
              "      <td>0.883181</td>\n",
              "      <td>0.414339</td>\n",
              "      <td>2.031350</td>\n",
              "      <td>2.042493</td>\n",
              "      <td>0.193523</td>\n",
              "      <td>0.452322</td>\n",
              "      <td>0.579835</td>\n",
              "      <td>1.963693</td>\n",
              "      <td>-0.253446</td>\n",
              "      <td>0.439499</td>\n",
              "      <td>-1.068080</td>\n",
              "    </tr>\n",
              "  </tbody>\n",
              "</table>\n",
              "</div>"
            ],
            "text/plain": [
              "      fixed acidity  volatile acidity  ...  sulphates   alcohol\n",
              "2726      -1.842641         -0.776323  ...   0.088973 -0.580471\n",
              "576        1.594265         -0.478657  ...   0.088973 -0.255399\n",
              "2173       0.883181          0.414339  ...   0.439499 -1.068080\n",
              "\n",
              "[3 rows x 11 columns]"
            ]
          },
          "metadata": {},
          "execution_count": 91
        }
      ]
    },
    {
      "cell_type": "code",
      "metadata": {
        "id": "0FFktI_ezb-J"
      },
      "source": [
        "X_train, X_test, y_train, y_test = train_test_split(X, y, random_state=42, train_size=0.75)"
      ],
      "execution_count": 92,
      "outputs": []
    },
    {
      "cell_type": "markdown",
      "metadata": {
        "id": "wrVb1j5Hb3Kr"
      },
      "source": [
        "### (2 балла) Обучите несколько моделей, посмотрите на метрики.\n",
        "Как модели точно возьмите LogisticRegression, KNN и константу, можете придумать еще какие-нибудь.\n",
        "\n",
        "Как метрики точно возьмите accuracy, разные усреднения precision, recall и f1."
      ]
    },
    {
      "cell_type": "code",
      "metadata": {
        "id": "QzffMU95b3Ks",
        "colab": {
          "base_uri": "https://localhost:8080/"
        },
        "outputId": "12cbb06e-2689-4456-8e77-6b64635c12c4"
      },
      "source": [
        "# Обучим модельки просто на слегка обработанных данных :\n",
        "logreg = LogisticRegression(multi_class='ovr', solver='liblinear')\n",
        "logreg.fit(X_train, y_train)"
      ],
      "execution_count": 93,
      "outputs": [
        {
          "output_type": "execute_result",
          "data": {
            "text/plain": [
              "LogisticRegression(multi_class='ovr', solver='liblinear')"
            ]
          },
          "metadata": {},
          "execution_count": 93
        }
      ]
    },
    {
      "cell_type": "code",
      "metadata": {
        "colab": {
          "base_uri": "https://localhost:8080/"
        },
        "id": "30iykzh50May",
        "outputId": "5eec11b4-2e14-4bb9-b262-b87735d8c2bf"
      },
      "source": [
        "from sklearn.metrics import classification_report\n",
        "print(classification_report(y_test, logreg.predict(X_test)))"
      ],
      "execution_count": 94,
      "outputs": [
        {
          "output_type": "stream",
          "name": "stdout",
          "text": [
            "              precision    recall  f1-score   support\n",
            "\n",
            "           3       0.00      0.00      0.00         7\n",
            "           4       0.00      0.00      0.00        32\n",
            "           5       0.57      0.53      0.54       358\n",
            "           6       0.50      0.77      0.61       544\n",
            "           7       0.51      0.12      0.19       241\n",
            "           8       0.00      0.00      0.00        43\n",
            "\n",
            "    accuracy                           0.52      1225\n",
            "   macro avg       0.26      0.23      0.22      1225\n",
            "weighted avg       0.49      0.52      0.47      1225\n",
            "\n"
          ]
        },
        {
          "output_type": "stream",
          "name": "stderr",
          "text": [
            "/usr/local/lib/python3.7/dist-packages/sklearn/metrics/_classification.py:1308: UndefinedMetricWarning: Precision and F-score are ill-defined and being set to 0.0 in labels with no predicted samples. Use `zero_division` parameter to control this behavior.\n",
            "  _warn_prf(average, modifier, msg_start, len(result))\n",
            "/usr/local/lib/python3.7/dist-packages/sklearn/metrics/_classification.py:1308: UndefinedMetricWarning: Precision and F-score are ill-defined and being set to 0.0 in labels with no predicted samples. Use `zero_division` parameter to control this behavior.\n",
            "  _warn_prf(average, modifier, msg_start, len(result))\n",
            "/usr/local/lib/python3.7/dist-packages/sklearn/metrics/_classification.py:1308: UndefinedMetricWarning: Precision and F-score are ill-defined and being set to 0.0 in labels with no predicted samples. Use `zero_division` parameter to control this behavior.\n",
            "  _warn_prf(average, modifier, msg_start, len(result))\n"
          ]
        }
      ]
    },
    {
      "cell_type": "code",
      "metadata": {
        "id": "Ka0zxMWXb3Ks",
        "colab": {
          "base_uri": "https://localhost:8080/"
        },
        "outputId": "161c436a-419c-4d84-afc9-be8ff06e4e35"
      },
      "source": [
        "knn = KNeighborsClassifier()\n",
        "knn.fit(X_train, y_train)"
      ],
      "execution_count": 95,
      "outputs": [
        {
          "output_type": "execute_result",
          "data": {
            "text/plain": [
              "KNeighborsClassifier()"
            ]
          },
          "metadata": {},
          "execution_count": 95
        }
      ]
    },
    {
      "cell_type": "code",
      "metadata": {
        "colab": {
          "base_uri": "https://localhost:8080/"
        },
        "id": "b-SmxZ-k17kC",
        "outputId": "c5debeff-953f-4423-fcfc-cc30176bebae"
      },
      "source": [
        "print(classification_report(y_test, knn.predict(X_test)))"
      ],
      "execution_count": 96,
      "outputs": [
        {
          "output_type": "stream",
          "name": "stdout",
          "text": [
            "              precision    recall  f1-score   support\n",
            "\n",
            "           3       0.50      0.14      0.22         7\n",
            "           4       0.19      0.19      0.19        32\n",
            "           5       0.51      0.57      0.54       358\n",
            "           6       0.58      0.62      0.60       544\n",
            "           7       0.61      0.47      0.53       241\n",
            "           8       0.12      0.05      0.07        43\n",
            "\n",
            "    accuracy                           0.55      1225\n",
            "   macro avg       0.42      0.34      0.36      1225\n",
            "weighted avg       0.54      0.55      0.54      1225\n",
            "\n"
          ]
        }
      ]
    },
    {
      "cell_type": "markdown",
      "metadata": {
        "id": "qe0QR2Zlb3Ks"
      },
      "source": [
        "### (2 балла) Выберите метрику, которую вы хотите максимизировать. Переберите гиперпараметры, постарайтесь найти модель, которая максимизирует эту метрику.\n",
        "\n",
        "Обоснуйте свой выбор. Напишите красивый отчет с графиками. Добились ли вы результатов, которых хотели добиться для этого датасета?"
      ]
    },
    {
      "cell_type": "markdown",
      "metadata": {
        "id": "XPvB2Wif3DD6"
      },
      "source": [
        "### По поводу метрики : попробуем улучшить accuracy"
      ]
    },
    {
      "cell_type": "markdown",
      "metadata": {
        "id": "JM9HLuFK3oTe"
      },
      "source": [
        "В порядке эксперимента попробуем feature selection, на которое(ую/ый) авторы датасета намекают - посмотрим, как будут меняться результаты если мы выкинем по 1 столбцу :"
      ]
    },
    {
      "cell_type": "code",
      "metadata": {
        "id": "CzRbKhNbb3Ks",
        "colab": {
          "base_uri": "https://localhost:8080/"
        },
        "outputId": "5bb84482-ac52-46ba-933e-f54347d43f15"
      },
      "source": [
        "for col in X:\n",
        "    lr_fs = LogisticRegression(multi_class='ovr', solver='liblinear').fit(X_train.drop(col, axis=1), y_train)\n",
        "    print(\"Without column '{}' accuracy is : {}\".format(col, accuracy_score(y_test, lr_fs.predict(X_test.drop(col, axis=1)))))"
      ],
      "execution_count": 97,
      "outputs": [
        {
          "output_type": "stream",
          "name": "stdout",
          "text": [
            "Without column 'fixed acidity' accuracy is : 0.52\n",
            "Without column 'volatile acidity' accuracy is : 0.5118367346938776\n",
            "Without column 'citric acid' accuracy is : 0.5232653061224489\n",
            "Without column 'residual sugar' accuracy is : 0.5208163265306123\n",
            "Without column 'chlorides' accuracy is : 0.52\n",
            "Without column 'free sulfur dioxide' accuracy is : 0.5224489795918368\n",
            "Without column 'total sulfur dioxide' accuracy is : 0.5240816326530612\n",
            "Without column 'density' accuracy is : 0.52\n",
            "Without column 'pH' accuracy is : 0.5183673469387755\n",
            "Without column 'sulphates' accuracy is : 0.52\n",
            "Without column 'alcohol' accuracy is : 0.52\n"
          ]
        }
      ]
    },
    {
      "cell_type": "code",
      "metadata": {
        "id": "4Gchhz4Eb3Kt",
        "colab": {
          "base_uri": "https://localhost:8080/"
        },
        "outputId": "d984b63f-76da-4f80-e361-ef65942d669d"
      },
      "source": [
        "for col in X:\n",
        "    knn_fs = KNeighborsClassifier().fit(X_train.drop(col, axis=1), y_train)\n",
        "    print(\"Without column '{}' accuracy is : {}\".format(col, accuracy_score(y_test, knn_fs.predict(X_test.drop(col, axis=1)))))"
      ],
      "execution_count": 98,
      "outputs": [
        {
          "output_type": "stream",
          "name": "stdout",
          "text": [
            "Without column 'fixed acidity' accuracy is : 0.5461224489795918\n",
            "Without column 'volatile acidity' accuracy is : 0.5420408163265306\n",
            "Without column 'citric acid' accuracy is : 0.5502040816326531\n",
            "Without column 'residual sugar' accuracy is : 0.5330612244897959\n",
            "Without column 'chlorides' accuracy is : 0.5453061224489796\n",
            "Without column 'free sulfur dioxide' accuracy is : 0.5616326530612245\n",
            "Without column 'total sulfur dioxide' accuracy is : 0.5453061224489796\n",
            "Without column 'density' accuracy is : 0.5412244897959184\n",
            "Without column 'pH' accuracy is : 0.5428571428571428\n",
            "Without column 'sulphates' accuracy is : 0.5412244897959184\n",
            "Without column 'alcohol' accuracy is : 0.5314285714285715\n"
          ]
        }
      ]
    },
    {
      "cell_type": "markdown",
      "metadata": {
        "id": "iQQbG6nX6Uma"
      },
      "source": [
        "Штош... вау-эффекта не произошло в lr наша метрика вообще не улучшилась, для knn имеется улучшение на 1%, если выкинуть free sulfur dioxide\n",
        "\n",
        "Попробуем сделать всё по честному - будем перебирать гиперпараметры для наших моделек"
      ]
    },
    {
      "cell_type": "code",
      "metadata": {
        "id": "SgH6rrhT5rt5"
      },
      "source": [
        "def hyperpharameters_for_lr():\n",
        "    # что вообще будем перебирать ?\n",
        "    # с учетом различных намеков по поводу feature selection, логичным будет перебирать лябмду для l1-регуляризации\n",
        "    lambdas = np.logspace(-3, 2, num=5)\n",
        "    folds = KFold(n_splits=5, shuffle=False)\n",
        "    mean_accuracies1 = []\n",
        "    mean_accuracies2 = []\n",
        "    indices = y_train.index.values\n",
        "    \n",
        "    for lambda_ in lambdas:\n",
        "        accuracies1 = []\n",
        "        accuracies2 = []\n",
        "        for train, test in folds.split(y_train):\n",
        "            model1 = LogisticRegression(C=lambda_, multi_class='ovr', \n",
        "                                       solver='liblinear', penalty='l1', random_state=42, max_iter=1000)\n",
        "            model2 = LogisticRegression(C=lambda_, multi_class='multinomial', \n",
        "                                       solver='saga', penalty='l1', random_state=42, max_iter=5000)  \n",
        "            model1.fit(X_train.loc[indices[train], :], y_train[indices[train]])\n",
        "            model2.fit(X_train.loc[indices[train], :], y_train[indices[train]])\n",
        "\n",
        "            acc_score1 = accuracy_score(y_train[indices[test]], model1.predict(X_train.loc[indices[test], :]))\n",
        "            acc_score2 = accuracy_score(y_train[indices[test]], model2.predict(X_train.loc[indices[test], :]))\n",
        "\n",
        "            accuracies1.append(acc_score1)\n",
        "            accuracies2.append(acc_score2)\n",
        "\n",
        "        accuracies1 = np.array(accuracies1)\n",
        "        accuracies2 = np.array(accuracies2)\n",
        "\n",
        "        mean_accuracies1.append(accuracies1.mean())\n",
        "        mean_accuracies2.append(accuracies2.mean())\n",
        "\n",
        "    return mean_accuracies1, mean_accuracies2 "
      ],
      "execution_count": 99,
      "outputs": []
    },
    {
      "cell_type": "code",
      "metadata": {
        "colab": {
          "base_uri": "https://localhost:8080/",
          "height": 483
        },
        "id": "mGT94Ith_Esl",
        "outputId": "7a87ac49-6bc1-42fe-ca78-5a007f150fe4"
      },
      "source": [
        "mean_accuracies1, mean_accuracies2 = hyperpharameters_for_lr()\n",
        "mean_accuracies1 = np.array(mean_accuracies1)\n",
        "mean_accuracies2 = np.array(mean_accuracies2)\n",
        "lambdas = np.logspace(-3, 2, num=5)\n",
        "\n",
        "print(\"best lambda for liblinear : {}\".format(lambdas[np.argmax(mean_accuracies1)]))\n",
        "print(\"best lambda for sag : {}\".format(lambdas[np.argmax(mean_accuracies2)]))\n",
        "\n",
        "fig, ax = plt.subplots(1, 2, figsize=(16, 6), sharey=True)\n",
        "plt.title(\"Mean accuracy scores\")\n",
        "ax1 = plt.subplot(1, 2, 1)\n",
        "ax2 = plt.subplot(1, 2, 2)\n",
        "ax1.plot(lambdas, mean_accuracies1, marker='o')\n",
        "ax1.title.set_text(\"liblinear\")\n",
        "ax2.plot(lambdas, mean_accuracies2, marker='o')\n",
        "ax2.title.set_text(\"saga\")\n",
        "plt.show()"
      ],
      "execution_count": 101,
      "outputs": [
        {
          "output_type": "stream",
          "name": "stderr",
          "text": [
            "/usr/local/lib/python3.7/dist-packages/sklearn/linear_model/_sag.py:354: ConvergenceWarning: The max_iter was reached which means the coef_ did not converge\n",
            "  ConvergenceWarning,\n",
            "/usr/local/lib/python3.7/dist-packages/sklearn/linear_model/_sag.py:354: ConvergenceWarning: The max_iter was reached which means the coef_ did not converge\n",
            "  ConvergenceWarning,\n"
          ]
        },
        {
          "output_type": "stream",
          "name": "stdout",
          "text": [
            "best lambda for liblinear : 5.623413251903491\n",
            "best lambda for sag : 0.31622776601683794\n"
          ]
        },
        {
          "output_type": "display_data",
          "data": {
            "image/png": "[encoded data removed]",
            "text/plain": [
              "<Figure size 1152x432 with 2 Axes>"
            ]
          },
          "metadata": {
            "needs_background": "light"
          }
        }
      ]
    },
    {
      "cell_type": "code",
      "metadata": {
        "colab": {
          "base_uri": "https://localhost:8080/"
        },
        "id": "1QlgZ3QZC98e",
        "outputId": "d7b22250-6695-49f5-e61e-bd2367951e7d"
      },
      "source": [
        "best_lr_model = LogisticRegression(C=1, multi_class='ovr', penalty='l1', \n",
        "                                   solver='liblinear', max_iter=1000)\n",
        "best_lr_model.fit(X_train, y_train)\n",
        "print(classification_report(y_test, best_lr_model.predict(X_test)))"
      ],
      "execution_count": 102,
      "outputs": [
        {
          "output_type": "stream",
          "name": "stdout",
          "text": [
            "              precision    recall  f1-score   support\n",
            "\n",
            "           3       0.00      0.00      0.00         7\n",
            "           4       0.00      0.00      0.00        32\n",
            "           5       0.57      0.53      0.54       358\n",
            "           6       0.50      0.77      0.61       544\n",
            "           7       0.54      0.12      0.19       241\n",
            "           8       0.00      0.00      0.00        43\n",
            "\n",
            "    accuracy                           0.52      1225\n",
            "   macro avg       0.27      0.24      0.22      1225\n",
            "weighted avg       0.49      0.52      0.47      1225\n",
            "\n"
          ]
        },
        {
          "output_type": "stream",
          "name": "stderr",
          "text": [
            "/usr/local/lib/python3.7/dist-packages/sklearn/metrics/_classification.py:1308: UndefinedMetricWarning: Precision and F-score are ill-defined and being set to 0.0 in labels with no predicted samples. Use `zero_division` parameter to control this behavior.\n",
            "  _warn_prf(average, modifier, msg_start, len(result))\n",
            "/usr/local/lib/python3.7/dist-packages/sklearn/metrics/_classification.py:1308: UndefinedMetricWarning: Precision and F-score are ill-defined and being set to 0.0 in labels with no predicted samples. Use `zero_division` parameter to control this behavior.\n",
            "  _warn_prf(average, modifier, msg_start, len(result))\n",
            "/usr/local/lib/python3.7/dist-packages/sklearn/metrics/_classification.py:1308: UndefinedMetricWarning: Precision and F-score are ill-defined and being set to 0.0 in labels with no predicted samples. Use `zero_division` parameter to control this behavior.\n",
            "  _warn_prf(average, modifier, msg_start, len(result))\n"
          ]
        }
      ]
    },
    {
      "cell_type": "code",
      "metadata": {
        "id": "oZ7pxcUC_QaB"
      },
      "source": [
        "def hyperpharameters_for_knn():\n",
        "    # что вообще будем перебирать ?\n",
        "    # с учетом различных намеков по поводу feature selection, логичным будет перебирать лябмду для l1-регуляризации\n",
        "    neighbours = np.arange(2, 8)\n",
        "    folds = KFold(n_splits=5, shuffle=False)\n",
        "    mean_accuracies = []\n",
        "    indices = y_train.index.values\n",
        "    \n",
        "    for k in neighbours:\n",
        "        accuracies = []\n",
        "\n",
        "        for train, test in folds.split(y_train):\n",
        "            model = KNeighborsClassifier(n_neighbors=k)\n",
        "            model.fit(X_train.loc[indices[train], :], y_train[indices[train]])\n",
        "            acc_score = accuracy_score(y_train[indices[test]], \n",
        "                                       model.predict(X_train.loc[indices[test], :]))\n",
        "\n",
        "            accuracies.append(acc_score)\n",
        "\n",
        "        accuracies = np.array(accuracies)\n",
        "        mean_accuracies.append(accuracies.mean())\n",
        "\n",
        "    return mean_accuracies "
      ],
      "execution_count": 103,
      "outputs": []
    },
    {
      "cell_type": "code",
      "metadata": {
        "colab": {
          "base_uri": "https://localhost:8080/",
          "height": 357
        },
        "id": "w_kFc89DFMNT",
        "outputId": "0c9cbe19-8087-4d6c-8185-60ac726193a3"
      },
      "source": [
        "mean_accuracies = hyperpharameters_for_knn()\n",
        "neighbours = np.arange(2, 8)\n",
        "\n",
        "fig = plt.figure(figsize=(16, 6))\n",
        "plt.title(\"Accuracy scores\")\n",
        "plt.plot(neighbours, mean_accuracies, marker='o')\n",
        "plt.show()"
      ],
      "execution_count": 104,
      "outputs": [
        {
          "output_type": "display_data",
          "data": {
            "image/png": "[encoded data removed]",
            "text/plain": [
              "<Figure size 1152x432 with 1 Axes>"
            ]
          },
          "metadata": {
            "needs_background": "light"
          }
        }
      ]
    },
    {
      "cell_type": "code",
      "metadata": {
        "colab": {
          "base_uri": "https://localhost:8080/"
        },
        "id": "p88QXchJFj7P",
        "outputId": "5f2e3c0a-73c3-4427-b5f9-3c1100f3dd3d"
      },
      "source": [
        "mean_accuracies = np.array(mean_accuracies)\n",
        "print(\"Best amount of neighbours :\", neighbours[np.argmax(mean_accuracies)])"
      ],
      "execution_count": 105,
      "outputs": [
        {
          "output_type": "stream",
          "name": "stdout",
          "text": [
            "Best amount of neighbours : 2\n"
          ]
        }
      ]
    },
    {
      "cell_type": "code",
      "metadata": {
        "colab": {
          "base_uri": "https://localhost:8080/"
        },
        "id": "C3Mpa3b1GCwb",
        "outputId": "4a7feae7-c495-4dd1-dca9-a9a4ebbefcf9"
      },
      "source": [
        "best_knn_model = KNeighborsClassifier(n_neighbors=2)\n",
        "best_knn_model.fit(X_train, y_train)\n",
        "print(classification_report(y_test, best_knn_model.predict(X_test)))"
      ],
      "execution_count": 106,
      "outputs": [
        {
          "output_type": "stream",
          "name": "stdout",
          "text": [
            "              precision    recall  f1-score   support\n",
            "\n",
            "           3       0.25      0.14      0.18         7\n",
            "           4       0.22      0.47      0.30        32\n",
            "           5       0.53      0.72      0.61       358\n",
            "           6       0.61      0.56      0.59       544\n",
            "           7       0.70      0.46      0.56       241\n",
            "           8       0.86      0.14      0.24        43\n",
            "\n",
            "    accuracy                           0.57      1225\n",
            "   macro avg       0.53      0.42      0.41      1225\n",
            "weighted avg       0.60      0.57      0.57      1225\n",
            "\n"
          ]
        }
      ]
    },
    {
      "cell_type": "markdown",
      "metadata": {
        "id": "WRI5ASrYGWQ6"
      },
      "source": [
        "### Судя по report'ам, модель логистической регрессии лучше себя показывать не стала (я старался...😰), зато подросла доля верных ответов для KNN - она же и будет лучшей моделью для этих данных (из двух рассмотренных)"
      ]
    },
    {
      "cell_type": "code",
      "metadata": {
        "id": "LV4Z_e4LGSaK"
      },
      "source": [
        ""
      ],
      "execution_count": 106,
      "outputs": []
    }
  ]
}