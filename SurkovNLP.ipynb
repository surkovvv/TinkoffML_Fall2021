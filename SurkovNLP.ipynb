{
 "cells": [
  {
   "cell_type": "markdown",
   "metadata": {},
   "source": [
    "нормализация, n-граммы + tf-idf. Возможно, PCA. Затем, линейные модели"
   ]
  },
  {
   "cell_type": "code",
   "execution_count": 1,
   "metadata": {},
   "outputs": [],
   "source": [
    "import pandas as pd\n",
    "import numpy as np\n",
    "import matplotlib.pyplot as plt "
   ]
  },
  {
   "cell_type": "code",
   "execution_count": 2,
   "metadata": {},
   "outputs": [
    {
     "data": {
      "text/html": [
       "<div>\n",
       "<style scoped>\n",
       "    .dataframe tbody tr th:only-of-type {\n",
       "        vertical-align: middle;\n",
       "    }\n",
       "\n",
       "    .dataframe tbody tr th {\n",
       "        vertical-align: top;\n",
       "    }\n",
       "\n",
       "    .dataframe thead th {\n",
       "        text-align: right;\n",
       "    }\n",
       "</style>\n",
       "<table border=\"1\" class=\"dataframe\">\n",
       "  <thead>\n",
       "    <tr style=\"text-align: right;\">\n",
       "      <th></th>\n",
       "      <th>Id</th>\n",
       "      <th>Hotel_name</th>\n",
       "      <th>Review_Title</th>\n",
       "      <th>Review_Text</th>\n",
       "      <th>Rating</th>\n",
       "    </tr>\n",
       "  </thead>\n",
       "  <tbody>\n",
       "    <tr>\n",
       "      <th>694</th>\n",
       "      <td>694</td>\n",
       "      <td>Lake View Park</td>\n",
       "      <td>Response about 3 guests</td>\n",
       "      <td>Everything is good. But when we went for check...</td>\n",
       "      <td>86.0</td>\n",
       "    </tr>\n",
       "    <tr>\n",
       "      <th>611</th>\n",
       "      <td>611</td>\n",
       "      <td>Dee Cee Manor</td>\n",
       "      <td>Spacious rooms &amp; centrally located</td>\n",
       "      <td>This good and old hotel once upon a time. Alth...</td>\n",
       "      <td>71.0</td>\n",
       "    </tr>\n",
       "    <tr>\n",
       "      <th>316</th>\n",
       "      <td>316</td>\n",
       "      <td>Grand Chennai by GRT Hotels</td>\n",
       "      <td>Excellent for Families!</td>\n",
       "      <td>Recently renovated and clean room. Spacious an...</td>\n",
       "      <td>100.0</td>\n",
       "    </tr>\n",
       "    <tr>\n",
       "      <th>1392</th>\n",
       "      <td>1392</td>\n",
       "      <td>Raj Palace Hotel</td>\n",
       "      <td>Had a comfortable stay</td>\n",
       "      <td>The location and service personnels were aweso...</td>\n",
       "      <td>71.0</td>\n",
       "    </tr>\n",
       "    <tr>\n",
       "      <th>365</th>\n",
       "      <td>365</td>\n",
       "      <td>MGM Eastwoods</td>\n",
       "      <td>Conversation was not that much</td>\n",
       "      <td>MGM Eastwoods</td>\n",
       "      <td>86.0</td>\n",
       "    </tr>\n",
       "  </tbody>\n",
       "</table>\n",
       "</div>"
      ],
      "text/plain": [
       "        Id                   Hotel_name                        Review_Title  \\\n",
       "694    694               Lake View Park             Response about 3 guests   \n",
       "611    611                Dee Cee Manor  Spacious rooms & centrally located   \n",
       "316    316  Grand Chennai by GRT Hotels             Excellent for Families!   \n",
       "1392  1392             Raj Palace Hotel              Had a comfortable stay   \n",
       "365    365                MGM Eastwoods      Conversation was not that much   \n",
       "\n",
       "                                            Review_Text  Rating  \n",
       "694   Everything is good. But when we went for check...    86.0  \n",
       "611   This good and old hotel once upon a time. Alth...    71.0  \n",
       "316   Recently renovated and clean room. Spacious an...   100.0  \n",
       "1392  The location and service personnels were aweso...    71.0  \n",
       "365                                       MGM Eastwoods    86.0  "
      ]
     },
     "execution_count": 2,
     "metadata": {},
     "output_type": "execute_result"
    }
   ],
   "source": [
    "df = pd.read_csv(\"train.csv\", encoding=\"ISO-8859-1\")\n",
    "df.sample(5)"
   ]
  },
  {
   "cell_type": "code",
   "execution_count": 3,
   "metadata": {},
   "outputs": [
    {
     "data": {
      "text/plain": [
       "<AxesSubplot:>"
      ]
     },
     "execution_count": 3,
     "metadata": {},
     "output_type": "execute_result"
    },
    {
     "data": {
      "image/png": "[encoded data removed]",
      "text/plain": [
       "<Figure size 432x288 with 1 Axes>"
      ]
     },
     "metadata": {
      "needs_background": "light"
     },
     "output_type": "display_data"
    }
   ],
   "source": [
    "df[\"Rating\"].hist()"
   ]
  },
  {
   "cell_type": "markdown",
   "metadata": {},
   "source": [
    "Можно удалить stay, vacation, hotel, visit, experience и другие слова, не несущие никакой оценки(но в словах бывают ошибки => их нужно еще уметь отсекать с помощью какого-нибудь расстония Левенштейна). В аглийском можно так же почистить всякие предлоги по типу the, to, & etc(как я понимаю, можно отдельно не чистить - просто применить TF-IDF, у бесполезных слов будет низкий вес).Конечно же привести буквы к нижнему регистру, убрать nan'ы, заменив на \"good\", если рейтинг от 60 до 80, \"awesome/excellent\", если рейтинг \"80\"+, \"bad\" для ниже чем 40, \"average\" для рейтинга 40-60."
   ]
  },
  {
   "cell_type": "code",
   "execution_count": 4,
   "metadata": {},
   "outputs": [],
   "source": [
    "def titleOnRating(rating):\n",
    "    if rating >= 80:\n",
    "        return \"awesome\"\n",
    "    elif rating >= 60:\n",
    "        return \"good\"\n",
    "    elif rating >= 40:\n",
    "        return \"average\"\n",
    "    else :\n",
    "        return \"bad\""
   ]
  },
  {
   "cell_type": "code",
   "execution_count": 5,
   "metadata": {},
   "outputs": [],
   "source": [
    "nan_titles = df[df[\"Review_Title\"].isna()].index\n",
    "df.loc[nan_titles, \"Review_Title\"] = df.loc[nan_titles, \"Rating\"].apply(lambda x : titleOnRating(x))"
   ]
  },
  {
   "cell_type": "code",
   "execution_count": 6,
   "metadata": {},
   "outputs": [
    {
     "data": {
      "text/html": [
       "<div>\n",
       "<style scoped>\n",
       "    .dataframe tbody tr th:only-of-type {\n",
       "        vertical-align: middle;\n",
       "    }\n",
       "\n",
       "    .dataframe tbody tr th {\n",
       "        vertical-align: top;\n",
       "    }\n",
       "\n",
       "    .dataframe thead th {\n",
       "        text-align: right;\n",
       "    }\n",
       "</style>\n",
       "<table border=\"1\" class=\"dataframe\">\n",
       "  <thead>\n",
       "    <tr style=\"text-align: right;\">\n",
       "      <th></th>\n",
       "      <th>Id</th>\n",
       "      <th>Hotel_name</th>\n",
       "      <th>Review_Title</th>\n",
       "      <th>Review_Text</th>\n",
       "      <th>Rating</th>\n",
       "    </tr>\n",
       "  </thead>\n",
       "  <tbody>\n",
       "    <tr>\n",
       "      <th>1414</th>\n",
       "      <td>1414</td>\n",
       "      <td>Le Royal M?ridien Chennai</td>\n",
       "      <td>\"Comfort at Reasonable Prize\"!!!!!</td>\n",
       "      <td>I have stayed in Hotel Comfort Inn for couple ...</td>\n",
       "      <td>86.0</td>\n",
       "    </tr>\n",
       "    <tr>\n",
       "      <th>520</th>\n",
       "      <td>520</td>\n",
       "      <td>Samco</td>\n",
       "      <td>\"Nice food hotel\"</td>\n",
       "      <td>Samco Hotel is lovely hotel in chennai,this ho...</td>\n",
       "      <td>65.0</td>\n",
       "    </tr>\n",
       "    <tr>\n",
       "      <th>1669</th>\n",
       "      <td>1669</td>\n",
       "      <td>Hotel Grand Residence Porur</td>\n",
       "      <td>0</td>\n",
       "      <td>.................................................</td>\n",
       "      <td>65.0</td>\n",
       "    </tr>\n",
       "    <tr>\n",
       "      <th>483</th>\n",
       "      <td>483</td>\n",
       "      <td>Deccan Plaza</td>\n",
       "      <td>0</td>\n",
       "      <td>. ...............................................</td>\n",
       "      <td>100.0</td>\n",
       "    </tr>\n",
       "    <tr>\n",
       "      <th>1775</th>\n",
       "      <td>1775</td>\n",
       "      <td>My Fortune Chennai</td>\n",
       "      <td>1</td>\n",
       "      <td>.................................................</td>\n",
       "      <td>65.0</td>\n",
       "    </tr>\n",
       "    <tr>\n",
       "      <th>590</th>\n",
       "      <td>590</td>\n",
       "      <td>Bell Hotel Chennai</td>\n",
       "      <td>1.11111111111111E+056</td>\n",
       "      <td>1.11111111111111E+249</td>\n",
       "      <td>86.0</td>\n",
       "    </tr>\n",
       "    <tr>\n",
       "      <th>2129</th>\n",
       "      <td>2129</td>\n",
       "      <td>Gemini Inn</td>\n",
       "      <td>2d/2n</td>\n",
       "      <td>Hotel location is excellent if you are looking...</td>\n",
       "      <td>57.0</td>\n",
       "    </tr>\n",
       "    <tr>\n",
       "      <th>2325</th>\n",
       "      <td>2325</td>\n",
       "      <td>Aloft Chennai Omr - It Expressway</td>\n",
       "      <td>3 star hotel with 5 star charges</td>\n",
       "      <td>I like to stay here because the location has m...</td>\n",
       "      <td>80.0</td>\n",
       "    </tr>\n",
       "    <tr>\n",
       "      <th>459</th>\n",
       "      <td>459</td>\n",
       "      <td>Grand Chennai by GRT Hotels</td>\n",
       "      <td>5 star experience</td>\n",
       "      <td>Right from the word GO, great lives up to the ...</td>\n",
       "      <td>100.0</td>\n",
       "    </tr>\n",
       "    <tr>\n",
       "      <th>1090</th>\n",
       "      <td>1090</td>\n",
       "      <td>Oyo Rooms Omr Sholinganallur</td>\n",
       "      <td>5 star rooms at cheaper rates</td>\n",
       "      <td>I stayed in the hotel for a client meet and th...</td>\n",
       "      <td>71.0</td>\n",
       "    </tr>\n",
       "  </tbody>\n",
       "</table>\n",
       "</div>"
      ],
      "text/plain": [
       "        Id                         Hotel_name  \\\n",
       "1414  1414          Le Royal M?ridien Chennai   \n",
       "520    520                              Samco   \n",
       "1669  1669        Hotel Grand Residence Porur   \n",
       "483    483                       Deccan Plaza   \n",
       "1775  1775                 My Fortune Chennai   \n",
       "590    590                 Bell Hotel Chennai   \n",
       "2129  2129                         Gemini Inn   \n",
       "2325  2325  Aloft Chennai Omr - It Expressway   \n",
       "459    459        Grand Chennai by GRT Hotels   \n",
       "1090  1090       Oyo Rooms Omr Sholinganallur   \n",
       "\n",
       "                            Review_Title  \\\n",
       "1414  \"Comfort at Reasonable Prize\"!!!!!   \n",
       "520                    \"Nice food hotel\"   \n",
       "1669                                   0   \n",
       "483                                    0   \n",
       "1775                                   1   \n",
       "590                1.11111111111111E+056   \n",
       "2129                               2d/2n   \n",
       "2325    3 star hotel with 5 star charges   \n",
       "459                    5 star experience   \n",
       "1090       5 star rooms at cheaper rates   \n",
       "\n",
       "                                            Review_Text  Rating  \n",
       "1414  I have stayed in Hotel Comfort Inn for couple ...    86.0  \n",
       "520   Samco Hotel is lovely hotel in chennai,this ho...    65.0  \n",
       "1669  .................................................    65.0  \n",
       "483   . ...............................................   100.0  \n",
       "1775  .................................................    65.0  \n",
       "590                               1.11111111111111E+249    86.0  \n",
       "2129  Hotel location is excellent if you are looking...    57.0  \n",
       "2325  I like to stay here because the location has m...    80.0  \n",
       "459   Right from the word GO, great lives up to the ...   100.0  \n",
       "1090  I stayed in the hotel for a client meet and th...    71.0  "
      ]
     },
     "execution_count": 6,
     "metadata": {},
     "output_type": "execute_result"
    }
   ],
   "source": [
    "df.loc[df[\"Review_Title\"].sort_values()[:10].index]"
   ]
  },
  {
   "cell_type": "markdown",
   "metadata": {},
   "source": [
    "Есть парочка строчек, в которых написан откровенный мусор, их нужно удалить, так же, как и колонку \"Id\""
   ]
  },
  {
   "cell_type": "code",
   "execution_count": 7,
   "metadata": {},
   "outputs": [],
   "source": [
    "df.drop(index=[1669, 483, 1775, 590], inplace=True)"
   ]
  },
  {
   "cell_type": "code",
   "execution_count": 8,
   "metadata": {},
   "outputs": [],
   "source": [
    "df.drop(\"Id\", axis=1, inplace=True)"
   ]
  },
  {
   "cell_type": "code",
   "execution_count": 9,
   "metadata": {},
   "outputs": [
    {
     "data": {
      "text/html": [
       "<div>\n",
       "<style scoped>\n",
       "    .dataframe tbody tr th:only-of-type {\n",
       "        vertical-align: middle;\n",
       "    }\n",
       "\n",
       "    .dataframe tbody tr th {\n",
       "        vertical-align: top;\n",
       "    }\n",
       "\n",
       "    .dataframe thead th {\n",
       "        text-align: right;\n",
       "    }\n",
       "</style>\n",
       "<table border=\"1\" class=\"dataframe\">\n",
       "  <thead>\n",
       "    <tr style=\"text-align: right;\">\n",
       "      <th></th>\n",
       "      <th>Hotel_name</th>\n",
       "      <th>Review_Title</th>\n",
       "      <th>Review_Text</th>\n",
       "      <th>Rating</th>\n",
       "    </tr>\n",
       "  </thead>\n",
       "  <tbody>\n",
       "    <tr>\n",
       "      <th>0</th>\n",
       "      <td>Park Hyatt</td>\n",
       "      <td>Refuge in Chennai</td>\n",
       "      <td>Excellent room and exercise facility. All arou...</td>\n",
       "      <td>80.0</td>\n",
       "    </tr>\n",
       "    <tr>\n",
       "      <th>1</th>\n",
       "      <td>Hilton Chennai</td>\n",
       "      <td>Hilton Chennai</td>\n",
       "      <td>Very comfortable and felt safe. \\r\\nStaff were...</td>\n",
       "      <td>100.0</td>\n",
       "    </tr>\n",
       "    <tr>\n",
       "      <th>2</th>\n",
       "      <td>The Royal Regency</td>\n",
       "      <td>No worth the rating shown in websites. Pricing...</td>\n",
       "      <td>Not worth the rating shown. Service is not goo...</td>\n",
       "      <td>71.0</td>\n",
       "    </tr>\n",
       "    <tr>\n",
       "      <th>3</th>\n",
       "      <td>Rivera</td>\n",
       "      <td>Good stay</td>\n",
       "      <td>First of all nice &amp; courteous staff, only one ...</td>\n",
       "      <td>86.0</td>\n",
       "    </tr>\n",
       "    <tr>\n",
       "      <th>4</th>\n",
       "      <td>Park Hyatt</td>\n",
       "      <td>Needs improvement</td>\n",
       "      <td>Overall ambience of the hotel is very good. In...</td>\n",
       "      <td>86.0</td>\n",
       "    </tr>\n",
       "    <tr>\n",
       "      <th>5</th>\n",
       "      <td>Everest</td>\n",
       "      <td>Good atmosphere, food and drinks not available</td>\n",
       "      <td>I reached the hotel by car, felt good for co-o...</td>\n",
       "      <td>71.0</td>\n",
       "    </tr>\n",
       "    <tr>\n",
       "      <th>6</th>\n",
       "      <td>Metro Grand</td>\n",
       "      <td>Lovely hotel</td>\n",
       "      <td>The hotel is pretty clean with excellent beddi...</td>\n",
       "      <td>80.0</td>\n",
       "    </tr>\n",
       "    <tr>\n",
       "      <th>7</th>\n",
       "      <td>Oyo Rooms Anna Arch Arumbakkam</td>\n",
       "      <td>Not worth the money</td>\n",
       "      <td>No hot water.wifi limited to lobby. Average cl...</td>\n",
       "      <td>40.0</td>\n",
       "    </tr>\n",
       "    <tr>\n",
       "      <th>8</th>\n",
       "      <td>The Park Chennai</td>\n",
       "      <td>average</td>\n",
       "      <td>Hotel staff are not co-ordinating well for the...</td>\n",
       "      <td>40.0</td>\n",
       "    </tr>\n",
       "    <tr>\n",
       "      <th>9</th>\n",
       "      <td>FabHotel Priyadarshini Park Mount Road</td>\n",
       "      <td>Good hotel with poor services</td>\n",
       "      <td>Location and cleanliness is good. But as far a...</td>\n",
       "      <td>57.0</td>\n",
       "    </tr>\n",
       "  </tbody>\n",
       "</table>\n",
       "</div>"
      ],
      "text/plain": [
       "                               Hotel_name  \\\n",
       "0                              Park Hyatt   \n",
       "1                          Hilton Chennai   \n",
       "2                       The Royal Regency   \n",
       "3                                  Rivera   \n",
       "4                              Park Hyatt   \n",
       "5                                 Everest   \n",
       "6                             Metro Grand   \n",
       "7          Oyo Rooms Anna Arch Arumbakkam   \n",
       "8                        The Park Chennai   \n",
       "9  FabHotel Priyadarshini Park Mount Road   \n",
       "\n",
       "                                        Review_Title  \\\n",
       "0                                  Refuge in Chennai   \n",
       "1                                     Hilton Chennai   \n",
       "2  No worth the rating shown in websites. Pricing...   \n",
       "3                                          Good stay   \n",
       "4                                  Needs improvement   \n",
       "5     Good atmosphere, food and drinks not available   \n",
       "6                                       Lovely hotel   \n",
       "7                                Not worth the money   \n",
       "8                                            average   \n",
       "9                      Good hotel with poor services   \n",
       "\n",
       "                                         Review_Text  Rating  \n",
       "0  Excellent room and exercise facility. All arou...    80.0  \n",
       "1  Very comfortable and felt safe. \\r\\nStaff were...   100.0  \n",
       "2  Not worth the rating shown. Service is not goo...    71.0  \n",
       "3  First of all nice & courteous staff, only one ...    86.0  \n",
       "4  Overall ambience of the hotel is very good. In...    86.0  \n",
       "5  I reached the hotel by car, felt good for co-o...    71.0  \n",
       "6  The hotel is pretty clean with excellent beddi...    80.0  \n",
       "7  No hot water.wifi limited to lobby. Average cl...    40.0  \n",
       "8  Hotel staff are not co-ordinating well for the...    40.0  \n",
       "9  Location and cleanliness is good. But as far a...    57.0  "
      ]
     },
     "execution_count": 9,
     "metadata": {},
     "output_type": "execute_result"
    }
   ],
   "source": [
    "df.head(10)"
   ]
  },
  {
   "cell_type": "code",
   "execution_count": 10,
   "metadata": {},
   "outputs": [
    {
     "name": "stderr",
     "output_type": "stream",
     "text": [
      "[nltk_data] Downloading package averaged_perceptron_tagger to\n",
      "[nltk_data]     C:\\Users\\Никита\\AppData\\Roaming\\nltk_data...\n",
      "[nltk_data]   Package averaged_perceptron_tagger is already up-to-\n",
      "[nltk_data]       date!\n",
      "[nltk_data] Downloading package wordnet to\n",
      "[nltk_data]     C:\\Users\\Никита\\AppData\\Roaming\\nltk_data...\n",
      "[nltk_data]   Package wordnet is already up-to-date!\n"
     ]
    },
    {
     "data": {
      "text/plain": [
       "True"
      ]
     },
     "execution_count": 10,
     "metadata": {},
     "output_type": "execute_result"
    }
   ],
   "source": [
    "import nltk\n",
    "from nltk.stem import WordNetLemmatizer\n",
    "from nltk import wordnet, pos_tag\n",
    "from nltk.corpus import stopwords\n",
    "from sklearn.feature_extraction.text import TfidfVectorizer\n",
    "\n",
    "nltk.download('averaged_perceptron_tagger')\n",
    "nltk.download('wordnet')"
   ]
  },
  {
   "cell_type": "code",
   "execution_count": 11,
   "metadata": {},
   "outputs": [],
   "source": [
    "def get_wordnet_pos(treebank_tag):\n",
    "    my_switch = {\n",
    "        'J': wordnet.wordnet.ADJ,\n",
    "        'V': wordnet.wordnet.VERB,\n",
    "        'N': wordnet.wordnet.NOUN,\n",
    "        'R': wordnet.wordnet.ADV,\n",
    "    }\n",
    "    for key, item in my_switch.items():\n",
    "        if treebank_tag.startswith(key):\n",
    "            return item\n",
    "    return wordnet.wordnet.NOUN"
   ]
  },
  {
   "cell_type": "code",
   "execution_count": 12,
   "metadata": {},
   "outputs": [],
   "source": [
    "def my_lemmatizer(sent):\n",
    "    lemmatizer = WordNetLemmatizer()\n",
    "    \n",
    "    tokenized_sent = sent.split()\n",
    "    pos_tagged = [(word, get_wordnet_pos(tag))\n",
    "                 for word, tag in pos_tag(tokenized_sent)]\n",
    "    return [lemmatizer.lemmatize(word, tag) for word, tag in pos_tagged]"
   ]
  },
  {
   "cell_type": "code",
   "execution_count": 1,
   "metadata": {},
   "outputs": [],
   "source": [
    "import re, string\n",
    "\n",
    "def preprocess_text(text): \n",
    "    stop_words = set(['those', 'on', 'own', '’ve', 'yourselves', \n",
    "                  'around', 'between', 'four', 'been', 'alone',\n",
    "                  'off', 'am', 'then', 'other', 'can', 'regarding', \n",
    "                  'hereafter', 'front', 'too', 'used', 'wherein', '‘ll',\n",
    "                  'doing', 'everything', 'up', 'onto', 'never', 'either', \n",
    "                  'how', 'before', 'anyway', 'since', 'through', 'amount', \n",
    "                  'now', 'he', 'was', 'have', 'into', 'because', \n",
    "                  'therefore', 'they', 'n’t', 'even', 'whom', 'it', 'see',\n",
    "                  'somewhere', 'thereupon', 'nothing', 'whereas', 'much', \n",
    "                  'whenever', 'seem', 'until', 'whereby', 'at', 'also', \n",
    "                  'some', 'last', 'than', 'get', 'already', 'our', 'once', \n",
    "                  'will', 'noone', \"'m\", 'that', 'what', 'thus', 'no', \n",
    "                  'myself', 'out', 'next', 'whatever', 'although', 'though',\n",
    "                  'which', 'would', 'therein', 'nor', 'somehow', 'whereupon',\n",
    "                  'besides', 'whoever', 'ourselves', 'few', 'did', 'without',\n",
    "                  'third', 'anything', 'twelve', 'against', 'while', 'twenty',\n",
    "                  'if', 'however', 'herself', 'when', 'may', 'ours', 'six', \n",
    "                  'done', 'seems', 'else', 'call', 'perhaps', 'had', 'nevertheless',\n",
    "                  'where', 'otherwise', 'still', 'within', 'its', 'for', 'together',\n",
    "                  'elsewhere', 'throughout', 'of', 'others', 'show', '’s', 'anywhere',\n",
    "                  'anyhow', 'as', 'are', 'the', 'hence', 'something', 'hereby', 'nowhere',\n",
    "                  'latterly', 'say', 'does', 'neither', 'his', 'go', 'forty', 'put', \n",
    "                  'their', 'by', 'namely', 'could', 'five', 'unless', 'itself', 'is',\n",
    "                  'nine', 'whereafter', 'down', 'bottom', 'thereby', 'such', 'both',\n",
    "                  'she', 'become', 'whole', 'who', 'yourself', 'every', 'thru', 'except', \n",
    "                  'very', 'several', 'among', 'being', 'be', 'mine', 'further', 'n‘t', \n",
    "                  'here', 'during', 'why', 'with', 'just', \"'s\", 'becomes', '’ll', 'about',\n",
    "                  'a', 'using', 'seeming', \"'d\", \"'ll\", \"'re\", 'due', 'wherever', \n",
    "                  'beforehand', 'fifty', 'becoming', 'might', 'amongst', 'my', 'empty',\n",
    "                  'thence', 'thereafter', 'almost', 'least', 'someone', 'often', 'from',\n",
    "                  'keep', 'him', 'or', '‘m', 'top', 'her', 'nobody', 'sometime', 'across',\n",
    "                  '‘s', '’re', 'hundred', 'only', 'via', 'name', 'eight', 'three', 'back',\n",
    "                  'to', 'all', 'became', 'move', 'me', 'we', 'formerly', 'so', 'i', \n",
    "                  'whence', 'under', 'always', 'himself', 'in', 'herein', 'more', 'after',\n",
    "                  'themselves', 'you', 'above', 'sixty', 'them', 'your', 'made', 'indeed',\n",
    "                  'most', 'everywhere', 'fifteen', 'but', 'must', 'along', 'beside', 'hers',\n",
    "                  'side', 'former', 'anyone', 'full', 'has', 'yours', 'whose', 'behind', \n",
    "                  'please', 'ten', 'seemed', 'sometimes', 'should', 'over', 'take', 'each', \n",
    "                  'same', 'rather', 'really', 'latter', 'and', 'ca', 'hereupon', 'part', \n",
    "                  'per', 'eleven', 'ever', '‘re', 'enough', \"n't\", 'again', '‘d', 'us', \n",
    "                  'yet', 'moreover', 'mostly', 'one', 'meanwhile', 'whither', 'there', \n",
    "                  'toward', '’m', \"'ve\", '’d', 'give', 'do', 'an', 'quite', 'these', \n",
    "                  'everyone', 'towards', 'this', 'cannot', 'afterwards', 'beyond', \n",
    "                  'make', 'were', 'whether', 'well', 'another', 'below', 'first', \n",
    "                  'upon', 'any', 'none', 'many', 'serious', 'various', 're', 'two', 'less', \n",
    "                  '‘ve', 'to', 'be', 'a', 'the', 'hotel', 'room', 'apartament'])\n",
    "    \n",
    "    lemmas = my_lemmatizer(text.lower())\n",
    "    keywords = ' '.join([lemma for lemma in lemmas if lemma not in stop_words])\n",
    "    \n",
    "    regex = re.compile('[%s]+' % re.escape(string.punctuation))\n",
    "    text = regex.sub(' ', keywords)\n",
    "    text = re.sub(r'\\s+', ' ', text)\n",
    "    return text"
   ]
  },
  {
   "cell_type": "markdown",
   "metadata": {},
   "source": [
    "Применим лемматизацию к тайтлам и самим текстам отзывов:"
   ]
  },
  {
   "cell_type": "code",
   "execution_count": 14,
   "metadata": {},
   "outputs": [],
   "source": [
    "df[\"Review\"] = df[[\"Review_Title\", \"Review_Text\"]].apply(lambda x : x[0] + \" \" + x[1], axis=1)"
   ]
  },
  {
   "cell_type": "code",
   "execution_count": 15,
   "metadata": {},
   "outputs": [],
   "source": [
    "df.drop(columns=[\"Review_Title\", \"Review_Text\"], inplace=True)"
   ]
  },
  {
   "cell_type": "code",
   "execution_count": 16,
   "metadata": {},
   "outputs": [],
   "source": [
    "df[\"Review\"] = df[\"Review\"].apply(lambda x : preprocess_text(x))"
   ]
  },
  {
   "cell_type": "code",
   "execution_count": 17,
   "metadata": {
    "scrolled": true
   },
   "outputs": [
    {
     "data": {
      "text/html": [
       "<div>\n",
       "<style scoped>\n",
       "    .dataframe tbody tr th:only-of-type {\n",
       "        vertical-align: middle;\n",
       "    }\n",
       "\n",
       "    .dataframe tbody tr th {\n",
       "        vertical-align: top;\n",
       "    }\n",
       "\n",
       "    .dataframe thead th {\n",
       "        text-align: right;\n",
       "    }\n",
       "</style>\n",
       "<table border=\"1\" class=\"dataframe\">\n",
       "  <thead>\n",
       "    <tr style=\"text-align: right;\">\n",
       "      <th></th>\n",
       "      <th>tfidf</th>\n",
       "      <th>bigram/trigram</th>\n",
       "    </tr>\n",
       "  </thead>\n",
       "  <tbody>\n",
       "    <tr>\n",
       "      <th>0</th>\n",
       "      <td>16.285713</td>\n",
       "      <td>good good</td>\n",
       "    </tr>\n",
       "    <tr>\n",
       "      <th>1</th>\n",
       "      <td>16.167323</td>\n",
       "      <td>value money</td>\n",
       "    </tr>\n",
       "    <tr>\n",
       "      <th>2</th>\n",
       "      <td>14.909211</td>\n",
       "      <td>good stay</td>\n",
       "    </tr>\n",
       "    <tr>\n",
       "      <th>3</th>\n",
       "      <td>14.678904</td>\n",
       "      <td>service good</td>\n",
       "    </tr>\n",
       "    <tr>\n",
       "      <th>4</th>\n",
       "      <td>14.252258</td>\n",
       "      <td>good location</td>\n",
       "    </tr>\n",
       "    <tr>\n",
       "      <th>...</th>\n",
       "      <td>...</td>\n",
       "      <td>...</td>\n",
       "    </tr>\n",
       "    <tr>\n",
       "      <th>32906</th>\n",
       "      <td>0.150014</td>\n",
       "      <td>attractive staff</td>\n",
       "    </tr>\n",
       "    <tr>\n",
       "      <th>32907</th>\n",
       "      <td>0.150014</td>\n",
       "      <td>appearance pretty attractive</td>\n",
       "    </tr>\n",
       "    <tr>\n",
       "      <th>32908</th>\n",
       "      <td>0.150014</td>\n",
       "      <td>appearance pretty</td>\n",
       "    </tr>\n",
       "    <tr>\n",
       "      <th>32909</th>\n",
       "      <td>0.150014</td>\n",
       "      <td>allot good maintain</td>\n",
       "    </tr>\n",
       "    <tr>\n",
       "      <th>32910</th>\n",
       "      <td>0.150014</td>\n",
       "      <td>allot good</td>\n",
       "    </tr>\n",
       "  </tbody>\n",
       "</table>\n",
       "<p>32911 rows × 2 columns</p>\n",
       "</div>"
      ],
      "text/plain": [
       "           tfidf                bigram/trigram\n",
       "0      16.285713                     good good\n",
       "1      16.167323                   value money\n",
       "2      14.909211                     good stay\n",
       "3      14.678904                  service good\n",
       "4      14.252258                 good location\n",
       "...          ...                           ...\n",
       "32906   0.150014              attractive staff\n",
       "32907   0.150014  appearance pretty attractive\n",
       "32908   0.150014             appearance pretty\n",
       "32909   0.150014           allot good maintain\n",
       "32910   0.150014                    allot good\n",
       "\n",
       "[32911 rows x 2 columns]"
      ]
     },
     "execution_count": 17,
     "metadata": {},
     "output_type": "execute_result"
    }
   ],
   "source": [
    "vectoriser = TfidfVectorizer(ngram_range=(2,3))\n",
    "tfidfgrams = vectoriser.fit_transform(df['Review'])\n",
    "count_values = tfidfgrams.toarray().sum(axis=0)\n",
    "vocab = vectoriser.vocabulary_\n",
    "df_tfidfgram = pd.DataFrame(sorted([(count_values[i],k) for k,i in vocab.items()], reverse=True)\n",
    "            ).rename(columns={0: 'tfidf', 1:'bigram/trigram'})\n",
    "\n",
    "df_tfidfgram[df_tfidfgram['tfidf'] >= 0.15]"
   ]
  },
  {
   "cell_type": "code",
   "execution_count": 18,
   "metadata": {},
   "outputs": [
    {
     "data": {
      "text/html": [
       "<div>\n",
       "<style scoped>\n",
       "    .dataframe tbody tr th:only-of-type {\n",
       "        vertical-align: middle;\n",
       "    }\n",
       "\n",
       "    .dataframe tbody tr th {\n",
       "        vertical-align: top;\n",
       "    }\n",
       "\n",
       "    .dataframe thead th {\n",
       "        text-align: right;\n",
       "    }\n",
       "</style>\n",
       "<table border=\"1\" class=\"dataframe\">\n",
       "  <thead>\n",
       "    <tr style=\"text-align: right;\">\n",
       "      <th></th>\n",
       "      <th>Id</th>\n",
       "      <th>Hotel_name</th>\n",
       "      <th>Review_Title</th>\n",
       "      <th>Review_Text</th>\n",
       "    </tr>\n",
       "  </thead>\n",
       "  <tbody>\n",
       "    <tr>\n",
       "      <th>0</th>\n",
       "      <td>2351</td>\n",
       "      <td>ITC Grand Chola</td>\n",
       "      <td>Mr Neeraj</td>\n",
       "      <td>On the night of my arrival from NY I had a min...</td>\n",
       "    </tr>\n",
       "    <tr>\n",
       "      <th>1</th>\n",
       "      <td>2352</td>\n",
       "      <td>Hotel Pandian</td>\n",
       "      <td>NaN</td>\n",
       "      <td>Not so great.  But it is still acceptable. Bit...</td>\n",
       "    </tr>\n",
       "    <tr>\n",
       "      <th>2</th>\n",
       "      <td>2353</td>\n",
       "      <td>Oyo Rooms Guindy Olympia Tech Park</td>\n",
       "      <td>Nice stay for corporate people</td>\n",
       "      <td>Been a good place to stay for people who visit...</td>\n",
       "    </tr>\n",
       "    <tr>\n",
       "      <th>3</th>\n",
       "      <td>2354</td>\n",
       "      <td>OYO Apartments Saidapet</td>\n",
       "      <td>Average hotel</td>\n",
       "      <td>Not worth of the money we paid.worst ac.no wat...</td>\n",
       "    </tr>\n",
       "    <tr>\n",
       "      <th>4</th>\n",
       "      <td>2355</td>\n",
       "      <td>Ramada Chennai Egmore</td>\n",
       "      <td>A good mid range corporate hotel</td>\n",
       "      <td>A well located hotel, with decent sized rooms ...</td>\n",
       "    </tr>\n",
       "  </tbody>\n",
       "</table>\n",
       "</div>"
      ],
      "text/plain": [
       "     Id                          Hotel_name                      Review_Title  \\\n",
       "0  2351                     ITC Grand Chola                         Mr Neeraj   \n",
       "1  2352                       Hotel Pandian                               NaN   \n",
       "2  2353  Oyo Rooms Guindy Olympia Tech Park    Nice stay for corporate people   \n",
       "3  2354             OYO Apartments Saidapet                     Average hotel   \n",
       "4  2355               Ramada Chennai Egmore  A good mid range corporate hotel   \n",
       "\n",
       "                                         Review_Text  \n",
       "0  On the night of my arrival from NY I had a min...  \n",
       "1  Not so great.  But it is still acceptable. Bit...  \n",
       "2  Been a good place to stay for people who visit...  \n",
       "3  Not worth of the money we paid.worst ac.no wat...  \n",
       "4  A well located hotel, with decent sized rooms ...  "
      ]
     },
     "execution_count": 18,
     "metadata": {},
     "output_type": "execute_result"
    }
   ],
   "source": [
    "test = pd.read_csv(\"test.csv\", encoding=\"ISO-8859-1\")\n",
    "test.head()"
   ]
  },
  {
   "cell_type": "code",
   "execution_count": 19,
   "metadata": {},
   "outputs": [],
   "source": [
    "test['Review_Title'].fillna('', inplace=True)"
   ]
  },
  {
   "cell_type": "code",
   "execution_count": 20,
   "metadata": {},
   "outputs": [],
   "source": [
    "test[\"Review\"] = test[[\"Review_Title\", \"Review_Text\"]].apply(lambda x : x[0] + \" \" + x[1], axis=1)"
   ]
  },
  {
   "cell_type": "code",
   "execution_count": 21,
   "metadata": {},
   "outputs": [],
   "source": [
    "test[\"Review\"] = test[\"Review\"].apply(lambda x : preprocess_text(x))"
   ]
  },
  {
   "cell_type": "code",
   "execution_count": 22,
   "metadata": {},
   "outputs": [
    {
     "data": {
      "text/html": [
       "<div>\n",
       "<style scoped>\n",
       "    .dataframe tbody tr th:only-of-type {\n",
       "        vertical-align: middle;\n",
       "    }\n",
       "\n",
       "    .dataframe tbody tr th {\n",
       "        vertical-align: top;\n",
       "    }\n",
       "\n",
       "    .dataframe thead th {\n",
       "        text-align: right;\n",
       "    }\n",
       "</style>\n",
       "<table border=\"1\" class=\"dataframe\">\n",
       "  <thead>\n",
       "    <tr style=\"text-align: right;\">\n",
       "      <th></th>\n",
       "      <th>tfidf</th>\n",
       "      <th>bigram/trigram</th>\n",
       "    </tr>\n",
       "  </thead>\n",
       "  <tbody>\n",
       "    <tr>\n",
       "      <th>0</th>\n",
       "      <td>20.413493</td>\n",
       "      <td>value money</td>\n",
       "    </tr>\n",
       "    <tr>\n",
       "      <th>1</th>\n",
       "      <td>15.283537</td>\n",
       "      <td>good good</td>\n",
       "    </tr>\n",
       "    <tr>\n",
       "      <th>2</th>\n",
       "      <td>14.496945</td>\n",
       "      <td>good stay</td>\n",
       "    </tr>\n",
       "    <tr>\n",
       "      <th>3</th>\n",
       "      <td>14.383432</td>\n",
       "      <td>good service</td>\n",
       "    </tr>\n",
       "    <tr>\n",
       "      <th>4</th>\n",
       "      <td>13.874431</td>\n",
       "      <td>not good</td>\n",
       "    </tr>\n",
       "    <tr>\n",
       "      <th>...</th>\n",
       "      <td>...</td>\n",
       "      <td>...</td>\n",
       "    </tr>\n",
       "    <tr>\n",
       "      <th>56263</th>\n",
       "      <td>0.076005</td>\n",
       "      <td>gud gud nice</td>\n",
       "    </tr>\n",
       "    <tr>\n",
       "      <th>56264</th>\n",
       "      <td>0.076005</td>\n",
       "      <td>gud gud</td>\n",
       "    </tr>\n",
       "    <tr>\n",
       "      <th>56265</th>\n",
       "      <td>0.070267</td>\n",
       "      <td>visit again like</td>\n",
       "    </tr>\n",
       "    <tr>\n",
       "      <th>56266</th>\n",
       "      <td>0.070267</td>\n",
       "      <td>again like visit</td>\n",
       "    </tr>\n",
       "    <tr>\n",
       "      <th>56267</th>\n",
       "      <td>0.070267</td>\n",
       "      <td>again like</td>\n",
       "    </tr>\n",
       "  </tbody>\n",
       "</table>\n",
       "<p>56268 rows × 2 columns</p>\n",
       "</div>"
      ],
      "text/plain": [
       "           tfidf    bigram/trigram\n",
       "0      20.413493       value money\n",
       "1      15.283537         good good\n",
       "2      14.496945         good stay\n",
       "3      14.383432      good service\n",
       "4      13.874431          not good\n",
       "...          ...               ...\n",
       "56263   0.076005      gud gud nice\n",
       "56264   0.076005           gud gud\n",
       "56265   0.070267  visit again like\n",
       "56266   0.070267  again like visit\n",
       "56267   0.070267        again like\n",
       "\n",
       "[56268 rows x 2 columns]"
      ]
     },
     "execution_count": 22,
     "metadata": {},
     "output_type": "execute_result"
    }
   ],
   "source": [
    "vectoriser = TfidfVectorizer(ngram_range=(2,3))\n",
    "tfidfgrams = vectoriser.fit_transform(test['Review'])\n",
    "count_values = tfidfgrams.toarray().sum(axis=0)\n",
    "vocab = vectoriser.vocabulary_\n",
    "df_tfidfgram = pd.DataFrame(sorted([(count_values[i],k) for k,i in vocab.items()], reverse=True)\n",
    "            ).rename(columns={0: 'tfidf', 1:'bigram/trigram'})\n",
    "\n",
    "df_tfidfgram"
   ]
  },
  {
   "cell_type": "code",
   "execution_count": 24,
   "metadata": {},
   "outputs": [
    {
     "data": {
      "text/html": [
       "<div>\n",
       "<style scoped>\n",
       "    .dataframe tbody tr th:only-of-type {\n",
       "        vertical-align: middle;\n",
       "    }\n",
       "\n",
       "    .dataframe tbody tr th {\n",
       "        vertical-align: top;\n",
       "    }\n",
       "\n",
       "    .dataframe thead th {\n",
       "        text-align: right;\n",
       "    }\n",
       "</style>\n",
       "<table border=\"1\" class=\"dataframe\">\n",
       "  <thead>\n",
       "    <tr style=\"text-align: right;\">\n",
       "      <th></th>\n",
       "      <th>tfidf</th>\n",
       "      <th>bigram/trigram</th>\n",
       "    </tr>\n",
       "  </thead>\n",
       "  <tbody>\n",
       "    <tr>\n",
       "      <th>0</th>\n",
       "      <td>183.190641</td>\n",
       "      <td>good</td>\n",
       "    </tr>\n",
       "    <tr>\n",
       "      <th>1</th>\n",
       "      <td>110.454166</td>\n",
       "      <td>stay</td>\n",
       "    </tr>\n",
       "    <tr>\n",
       "      <th>2</th>\n",
       "      <td>88.418619</td>\n",
       "      <td>not</td>\n",
       "    </tr>\n",
       "    <tr>\n",
       "      <th>3</th>\n",
       "      <td>76.174109</td>\n",
       "      <td>service</td>\n",
       "    </tr>\n",
       "    <tr>\n",
       "      <th>4</th>\n",
       "      <td>73.065310</td>\n",
       "      <td>staff</td>\n",
       "    </tr>\n",
       "    <tr>\n",
       "      <th>...</th>\n",
       "      <td>...</td>\n",
       "      <td>...</td>\n",
       "    </tr>\n",
       "    <tr>\n",
       "      <th>100926</th>\n",
       "      <td>0.056057</td>\n",
       "      <td>fake pic fake</td>\n",
       "    </tr>\n",
       "    <tr>\n",
       "      <th>100927</th>\n",
       "      <td>0.056057</td>\n",
       "      <td>fake pic</td>\n",
       "    </tr>\n",
       "    <tr>\n",
       "      <th>100928</th>\n",
       "      <td>0.056057</td>\n",
       "      <td>fake everything life</td>\n",
       "    </tr>\n",
       "    <tr>\n",
       "      <th>100929</th>\n",
       "      <td>0.056057</td>\n",
       "      <td>fake everything</td>\n",
       "    </tr>\n",
       "    <tr>\n",
       "      <th>100930</th>\n",
       "      <td>0.056057</td>\n",
       "      <td>everything life</td>\n",
       "    </tr>\n",
       "  </tbody>\n",
       "</table>\n",
       "<p>100931 rows × 2 columns</p>\n",
       "</div>"
      ],
      "text/plain": [
       "             tfidf        bigram/trigram\n",
       "0       183.190641                  good\n",
       "1       110.454166                  stay\n",
       "2        88.418619                   not\n",
       "3        76.174109               service\n",
       "4        73.065310                 staff\n",
       "...            ...                   ...\n",
       "100926    0.056057         fake pic fake\n",
       "100927    0.056057              fake pic\n",
       "100928    0.056057  fake everything life\n",
       "100929    0.056057       fake everything\n",
       "100930    0.056057       everything life\n",
       "\n",
       "[100931 rows x 2 columns]"
      ]
     },
     "execution_count": 24,
     "metadata": {},
     "output_type": "execute_result"
    }
   ],
   "source": [
    "vectoriser = TfidfVectorizer(ngram_range=(1,3))\n",
    "tfidfgrams = vectoriser.fit_transform(pd.concat([df['Review'], test[\"Review\"]], ignore_index=True))\n",
    "count_values = tfidfgrams.toarray().sum(axis=0)\n",
    "vocab = vectoriser.vocabulary_\n",
    "result_tfidf = pd.DataFrame(sorted([(count_values[i],k) for k,i in vocab.items()], reverse=True)\n",
    "            ).rename(columns={0: 'tfidf', 1:'bigram/trigram'})\n",
    "\n",
    "result_tfidf"
   ]
  },
  {
   "cell_type": "code",
   "execution_count": 25,
   "metadata": {},
   "outputs": [],
   "source": [
    "hotel_names = pd.concat([df[\"Hotel_name\"], test['Hotel_name']], ignore_index=True)\n",
    "hotels = pd.get_dummies(hotel_names)"
   ]
  },
  {
   "cell_type": "code",
   "execution_count": 27,
   "metadata": {},
   "outputs": [
    {
     "name": "stderr",
     "output_type": "stream",
     "text": [
      "D:\\anaconda3\\lib\\site-packages\\sklearn\\utils\\deprecation.py:87: FutureWarning: Function get_feature_names is deprecated; get_feature_names is deprecated in 1.0 and will be removed in 1.2. Please use get_feature_names_out instead.\n",
      "  warnings.warn(msg, category=FutureWarning)\n"
     ]
    }
   ],
   "source": [
    "full_df = pd.DataFrame(data=tfidfgrams.toarray(), columns=vectoriser.get_feature_names()).join(hotels)"
   ]
  },
  {
   "cell_type": "code",
   "execution_count": 28,
   "metadata": {},
   "outputs": [],
   "source": [
    "X_train = full_df.loc[:df.shape[0] - 1, :]\n",
    "y_train = df[\"Rating\"]\n",
    "X_test = full_df.loc[df.shape[0] : , :]"
   ]
  },
  {
   "cell_type": "code",
   "execution_count": 29,
   "metadata": {},
   "outputs": [
    {
     "data": {
      "text/plain": [
       "LinearSVC(random_state=42)"
      ]
     },
     "execution_count": 29,
     "metadata": {},
     "output_type": "execute_result"
    }
   ],
   "source": [
    "from sklearn.svm import LinearSVC\n",
    "model = LinearSVC(random_state=42)\n",
    "model.fit(X_train, y_train)"
   ]
  },
  {
   "cell_type": "code",
   "execution_count": 30,
   "metadata": {},
   "outputs": [
    {
     "data": {
      "text/plain": [
       "array([100.,  86.,  86., ...,  71.,  40.,  80.])"
      ]
     },
     "execution_count": 30,
     "metadata": {},
     "output_type": "execute_result"
    }
   ],
   "source": [
    "y_pred = model.predict(X_test)\n",
    "y_pred"
   ]
  },
  {
   "cell_type": "code",
   "execution_count": 31,
   "metadata": {},
   "outputs": [],
   "source": [
    "train_hotels = set(df[\"Hotel_name\"].unique())"
   ]
  },
  {
   "cell_type": "code",
   "execution_count": 32,
   "metadata": {},
   "outputs": [],
   "source": [
    "test_hotels = set(test[\"Hotel_name\"].unique())"
   ]
  },
  {
   "cell_type": "code",
   "execution_count": 33,
   "metadata": {},
   "outputs": [
    {
     "data": {
      "text/plain": [
       "{'Aadithya',\n",
       " 'Abu sarovar portico ex Abu Palace',\n",
       " 'Accord Metropolitan',\n",
       " 'Akash Inn',\n",
       " 'Akshay Inn',\n",
       " 'Aloft Chennai Omr - It Expressway',\n",
       " 'Ambica Empire',\n",
       " 'Ammu Palace',\n",
       " 'Annsun Boutique',\n",
       " 'Apollo Serviced Apartments',\n",
       " 'Apple Residency',\n",
       " 'Aryaas',\n",
       " 'Asiana Place',\n",
       " 'Atchaya',\n",
       " 'Avnb Towers',\n",
       " 'Azeez Avenue',\n",
       " 'BKR Grand',\n",
       " 'Beach Park Resort',\n",
       " 'Bell Hotel Chennai',\n",
       " 'Benzz Park',\n",
       " 'Beverly Hotel',\n",
       " 'Bhimaas',\n",
       " 'Bluten by Traditions Inn',\n",
       " 'Brownstar Boutique Hotel',\n",
       " 'Buhari Royale',\n",
       " 'Chandra Park',\n",
       " 'Chennai Palace',\n",
       " 'Clarion Hotel President',\n",
       " 'Cloud Nine Serviced Apartments',\n",
       " 'Courtyard Chennai India',\n",
       " 'Crescent Hospitality Chennai',\n",
       " 'Crescent Park',\n",
       " 'Crystal Residency',\n",
       " 'Deccan Plaza',\n",
       " 'Dee Cee Manor',\n",
       " 'Dolphin Park',\n",
       " 'E Hotel',\n",
       " 'Ekaana Cottages',\n",
       " 'Emarald',\n",
       " 'Emerald Manor Chennai',\n",
       " 'Esthell',\n",
       " 'Everest',\n",
       " 'FabHotel Blossoms T Nagar',\n",
       " 'FabHotel Metro Manor Central Station',\n",
       " 'FabHotel Priyadarshini Park Mount Road',\n",
       " 'FabHotel Queensway T Nagar',\n",
       " 'Feathers- A Radha S',\n",
       " 'Fortel',\n",
       " 'Fortune Select Grand',\n",
       " 'Fortune Select Palms',\n",
       " 'Gemini Inn',\n",
       " 'Gemini Residency',\n",
       " 'Ginger Hotel',\n",
       " 'Glm Meridian',\n",
       " 'Global Residency Bed & Breakfast',\n",
       " 'Gokulam Park',\n",
       " 'Gokulam Park Sabari OMR',\n",
       " 'Golden Fruits Business Suites - T Nagar',\n",
       " 'Goldmine',\n",
       " 'Goutham Manor',\n",
       " 'Grand Chennai by GRT Hotels',\n",
       " 'Grand Palace',\n",
       " 'Grand Tiara by Purpletree',\n",
       " 'Grand Treat',\n",
       " 'Green Coconut Resort',\n",
       " 'Green Meadows',\n",
       " 'Green Park',\n",
       " 'Hablis Chennai',\n",
       " 'Hanu Reddy Residences Poes Garden',\n",
       " 'Hanu Reddy Residences Wallace Garden',\n",
       " 'Harrisons Chennai',\n",
       " 'Hilton Chennai',\n",
       " 'Holiday Inn Express Chennai Mahindra World City',\n",
       " 'Hotel Comfort',\n",
       " 'Hotel Grand Residence Porur',\n",
       " 'Hotel Kensington',\n",
       " 'Hotel Pandian',\n",
       " 'Hotel Shelter',\n",
       " 'Hyatt Regency Chennai',\n",
       " 'ITC Grand Chola',\n",
       " 'JP Hotel',\n",
       " 'Just Guest House',\n",
       " 'Kek Accommodation',\n",
       " 'Keys Hotel Katti-Ma',\n",
       " \"King's Cross Residency\",\n",
       " 'La Woods',\n",
       " 'Lake View Park',\n",
       " 'Le Park Inn',\n",
       " 'Le Royal M?ridien Chennai',\n",
       " 'Lemon Tree Chennai',\n",
       " 'Lemon Tree Shimona',\n",
       " 'Lloyds Guest House',\n",
       " 'Lloyds Guest House - US Consulate',\n",
       " 'Lotels Hotel',\n",
       " 'MGM Eastwoods',\n",
       " 'Mahalaya Residency',\n",
       " 'Malles Manotaa',\n",
       " 'Mallika Reisidency',\n",
       " 'Manickam Grand',\n",
       " 'Maple Tree',\n",
       " 'Marina Inn',\n",
       " 'Mars',\n",
       " 'Mars Classic',\n",
       " 'Mars Deluxe',\n",
       " 'Marsan Lodge',\n",
       " 'Maurya International',\n",
       " 'Melody',\n",
       " 'Metro Grand',\n",
       " 'Metropark - Vadapalani',\n",
       " 'Mount Heera',\n",
       " 'My Fortune Chennai',\n",
       " 'Nachiappa Park',\n",
       " 'Nayagara',\n",
       " 'New Park',\n",
       " 'New Woodlands',\n",
       " 'Novotel Chennai Sipcot',\n",
       " 'OMR Guest House',\n",
       " 'OYO Apartments Saidapet',\n",
       " 'OYO Rooms Vadapalani Murugan Temple',\n",
       " 'Opera Residency',\n",
       " 'Orange Inn Service Apartment (Manapakkam)',\n",
       " 'Orchid Inn Woods Road',\n",
       " 'Oriental Inn',\n",
       " 'Oyo Apartments Guduvanchery Srm University',\n",
       " 'Oyo Rooms Anna Arch Arumbakkam',\n",
       " 'Oyo Rooms Chennai International Airport Road',\n",
       " 'Oyo Rooms Guindy Olympia Tech Park',\n",
       " 'Oyo Rooms Omr Sholinganallur',\n",
       " 'Oyo Rooms Royapettah',\n",
       " 'Oyo Rooms T Nagar Off Pondy Bazaar',\n",
       " 'Palace Lodge',\n",
       " 'Park Avenue',\n",
       " 'Park Hyatt',\n",
       " 'Park Plaza Chennai',\n",
       " 'Peace Inn',\n",
       " 'Pearl International',\n",
       " 'Perfect Haven at Omr',\n",
       " 'Planet Mount',\n",
       " 'Pleasant Days',\n",
       " 'Pp Residency',\n",
       " 'Pratap Plaza',\n",
       " 'Quality Inn Airport',\n",
       " 'Quality Inn Sabari',\n",
       " 'Raaj Residency',\n",
       " 'Radha Regent',\n",
       " 'Radisson Blu GRT Chennai',\n",
       " 'Radisson Chennai City Centre, India',\n",
       " 'Raj Palace Hotel',\n",
       " 'Raj Palace Sundar',\n",
       " 'Raj Park Chennai',\n",
       " 'Raj Residency',\n",
       " 'Ramada Chennai Egmore',\n",
       " 'Redsun Serviced Apartments',\n",
       " 'Regency Royal Paris',\n",
       " 'Rivera',\n",
       " 'Royal Chennai Residency',\n",
       " 'Royal Plaza',\n",
       " 'Royal Star',\n",
       " 'Sai International',\n",
       " 'Saibala Grand',\n",
       " 'Sakithyan',\n",
       " 'Sakthi Grand',\n",
       " 'Samco',\n",
       " 'Samudra Residency',\n",
       " 'Sangeetha Residency',\n",
       " 'Sathyam Grand Resorts',\n",
       " 'Savera',\n",
       " 'Sea Shell Residency',\n",
       " 'Sea Shore Inn',\n",
       " 'Season 4 Guest House',\n",
       " 'Shan Royal',\n",
       " 'Sheraton Park Hotel & Towers',\n",
       " 'Shri Devi Park',\n",
       " 'Shylee Niwas Kodambakkam I',\n",
       " 'Silver Park Guest House',\n",
       " 'Somerset Greenways',\n",
       " \"Sona's Inn\",\n",
       " 'Southern Crest',\n",
       " 'Southern Residency',\n",
       " 'Star City Serviced Apartments',\n",
       " 'Starcity Residence',\n",
       " 'Suriya International',\n",
       " 'Surya Prakesh',\n",
       " 'Suvi Annexure',\n",
       " 'Taj Club House',\n",
       " 'Taj Coromandel',\n",
       " 'Taz Kamar Inn',\n",
       " 'Thaj Guest House',\n",
       " 'Thaj Regency',\n",
       " 'The Address',\n",
       " 'The Ambassador Pallava',\n",
       " 'The Centre Point',\n",
       " 'The Chamiers Park',\n",
       " 'The Chariot',\n",
       " 'The Checkers',\n",
       " 'The Gateway IT Expressway',\n",
       " 'The Iris',\n",
       " 'The Kings',\n",
       " 'The Leela Palace',\n",
       " 'The Lotus',\n",
       " 'The Lotus  Sameera',\n",
       " 'The Lotus Serviced Apartments',\n",
       " 'The Mount Manor',\n",
       " 'The Park Chennai',\n",
       " 'The Pride',\n",
       " 'The Raintree',\n",
       " \"The Raintree, St. Mary's Road\",\n",
       " 'The Residency Chennai',\n",
       " 'The Residency Towers',\n",
       " 'The Royal Regency',\n",
       " 'The Spin',\n",
       " 'The Spring',\n",
       " 'The Vijay Park-Arumbakkam',\n",
       " 'The Westin Chennai Velachery',\n",
       " 'Thulashi Park',\n",
       " 'Treebo Angson',\n",
       " 'Treebo Elan',\n",
       " 'Treebo Grand Marena',\n",
       " 'Treebo Hive',\n",
       " \"Treebo J's Five Two Boutique\",\n",
       " 'Treebo Nestlay Casa',\n",
       " 'Treebo Saravana Boutique Inn',\n",
       " 'Tri Sea Residency',\n",
       " 'Trident Chennai',\n",
       " 'Turyaa Chennai',\n",
       " 'VGP Golden Beach Resort',\n",
       " 'Vestin Park',\n",
       " 'Victoria',\n",
       " 'Zama Lodge',\n",
       " 'Zone By The Park Orr Chennai',\n",
       " 'ibis Chennai City Centre',\n",
       " 'ibis Chennai Sipcot'}"
      ]
     },
     "execution_count": 33,
     "metadata": {},
     "output_type": "execute_result"
    }
   ],
   "source": [
    "train_hotels.intersection(test_hotels)"
   ]
  },
  {
   "cell_type": "code",
   "execution_count": 34,
   "metadata": {},
   "outputs": [
    {
     "data": {
      "text/plain": [
       "Name\n",
       "Aadithya                              86.000000\n",
       "Abu sarovar portico ex Abu Palace     79.500000\n",
       "Accord Metropolitan                   85.539683\n",
       "Akash Inn                             62.800000\n",
       "Akshay Inn                           100.000000\n",
       "                                        ...    \n",
       "Victoria                              77.692308\n",
       "Zama Lodge                            64.500000\n",
       "Zone By The Park Orr Chennai          80.000000\n",
       "ibis Chennai City Centre              90.000000\n",
       "ibis Chennai Sipcot                   74.400000\n",
       "Name: Rating1, Length: 245, dtype: float64"
      ]
     },
     "execution_count": 34,
     "metadata": {},
     "output_type": "execute_result"
    }
   ],
   "source": [
    "renamer = {\"Hotel_name\" : \"Name\", 0 : \"Rating1\"}\n",
    "prediction_lookup = pd.concat([test[\"Hotel_name\"], pd.Series(y_pred)], axis=1).rename(columns=renamer)\n",
    "prediction_lookup.groupby(\"Name\")[\"Rating1\"].mean()"
   ]
  },
  {
   "cell_type": "code",
   "execution_count": 35,
   "metadata": {},
   "outputs": [
    {
     "data": {
      "text/html": [
       "<div>\n",
       "<style scoped>\n",
       "    .dataframe tbody tr th:only-of-type {\n",
       "        vertical-align: middle;\n",
       "    }\n",
       "\n",
       "    .dataframe tbody tr th {\n",
       "        vertical-align: top;\n",
       "    }\n",
       "\n",
       "    .dataframe thead th {\n",
       "        text-align: right;\n",
       "    }\n",
       "</style>\n",
       "<table border=\"1\" class=\"dataframe\">\n",
       "  <thead>\n",
       "    <tr style=\"text-align: right;\">\n",
       "      <th></th>\n",
       "      <th>Hotel_name</th>\n",
       "      <th>0</th>\n",
       "    </tr>\n",
       "  </thead>\n",
       "  <tbody>\n",
       "    <tr>\n",
       "      <th>0</th>\n",
       "      <td>ITC Grand Chola</td>\n",
       "      <td>100.0</td>\n",
       "    </tr>\n",
       "    <tr>\n",
       "      <th>1</th>\n",
       "      <td>Hotel Pandian</td>\n",
       "      <td>86.0</td>\n",
       "    </tr>\n",
       "    <tr>\n",
       "      <th>2</th>\n",
       "      <td>Oyo Rooms Guindy Olympia Tech Park</td>\n",
       "      <td>86.0</td>\n",
       "    </tr>\n",
       "    <tr>\n",
       "      <th>3</th>\n",
       "      <td>OYO Apartments Saidapet</td>\n",
       "      <td>80.0</td>\n",
       "    </tr>\n",
       "    <tr>\n",
       "      <th>4</th>\n",
       "      <td>Ramada Chennai Egmore</td>\n",
       "      <td>80.0</td>\n",
       "    </tr>\n",
       "    <tr>\n",
       "      <th>...</th>\n",
       "      <td>...</td>\n",
       "      <td>...</td>\n",
       "    </tr>\n",
       "    <tr>\n",
       "      <th>2347</th>\n",
       "      <td>Lemon Tree Chennai</td>\n",
       "      <td>86.0</td>\n",
       "    </tr>\n",
       "    <tr>\n",
       "      <th>2348</th>\n",
       "      <td>Oyo Rooms T Nagar Off Pondy Bazaar</td>\n",
       "      <td>60.0</td>\n",
       "    </tr>\n",
       "    <tr>\n",
       "      <th>2349</th>\n",
       "      <td>VGP Golden Beach Resort</td>\n",
       "      <td>71.0</td>\n",
       "    </tr>\n",
       "    <tr>\n",
       "      <th>2350</th>\n",
       "      <td>The Park Chennai</td>\n",
       "      <td>40.0</td>\n",
       "    </tr>\n",
       "    <tr>\n",
       "      <th>2351</th>\n",
       "      <td>Peace Inn</td>\n",
       "      <td>80.0</td>\n",
       "    </tr>\n",
       "  </tbody>\n",
       "</table>\n",
       "<p>2352 rows × 2 columns</p>\n",
       "</div>"
      ],
      "text/plain": [
       "                              Hotel_name      0\n",
       "0                        ITC Grand Chola  100.0\n",
       "1                          Hotel Pandian   86.0\n",
       "2     Oyo Rooms Guindy Olympia Tech Park   86.0\n",
       "3                OYO Apartments Saidapet   80.0\n",
       "4                  Ramada Chennai Egmore   80.0\n",
       "...                                  ...    ...\n",
       "2347                  Lemon Tree Chennai   86.0\n",
       "2348  Oyo Rooms T Nagar Off Pondy Bazaar   60.0\n",
       "2349             VGP Golden Beach Resort   71.0\n",
       "2350                    The Park Chennai   40.0\n",
       "2351                           Peace Inn   80.0\n",
       "\n",
       "[2352 rows x 2 columns]"
      ]
     },
     "execution_count": 35,
     "metadata": {},
     "output_type": "execute_result"
    }
   ],
   "source": [
    "pd.concat([test[\"Hotel_name\"], pd.Series(y_pred)], axis=1)"
   ]
  },
  {
   "cell_type": "code",
   "execution_count": 36,
   "metadata": {},
   "outputs": [
    {
     "data": {
      "text/plain": [
       "Hotel_name\n",
       "Aadithya                             83.000000\n",
       "Abu sarovar portico ex Abu Palace    79.666667\n",
       "Accord Metropolitan                  82.475410\n",
       "Akash Inn                            69.428571\n",
       "Akshay Inn                           77.750000\n",
       "                                       ...    \n",
       "Yashwanth Residency                  60.000000\n",
       "Zama Lodge                           64.500000\n",
       "Zone By The Park Orr Chennai         86.666667\n",
       "ibis Chennai City Centre             90.000000\n",
       "ibis Chennai Sipcot                  63.800000\n",
       "Name: Rating, Length: 243, dtype: float64"
      ]
     },
     "execution_count": 36,
     "metadata": {},
     "output_type": "execute_result"
    }
   ],
   "source": [
    "df.groupby(\"Hotel_name\")[\"Rating\"].mean()"
   ]
  },
  {
   "cell_type": "code",
   "execution_count": 37,
   "metadata": {},
   "outputs": [],
   "source": [
    "lookup = pd.concat([prediction_lookup.groupby(\"Name\")[\"Rating1\"].mean(), df.groupby(\"Hotel_name\")[\"Rating\"].mean()], axis=1)"
   ]
  },
  {
   "cell_type": "code",
   "execution_count": 38,
   "metadata": {},
   "outputs": [
    {
     "data": {
      "text/html": [
       "<div>\n",
       "<style scoped>\n",
       "    .dataframe tbody tr th:only-of-type {\n",
       "        vertical-align: middle;\n",
       "    }\n",
       "\n",
       "    .dataframe tbody tr th {\n",
       "        vertical-align: top;\n",
       "    }\n",
       "\n",
       "    .dataframe thead th {\n",
       "        text-align: right;\n",
       "    }\n",
       "</style>\n",
       "<table border=\"1\" class=\"dataframe\">\n",
       "  <thead>\n",
       "    <tr style=\"text-align: right;\">\n",
       "      <th></th>\n",
       "      <th>Rating1</th>\n",
       "      <th>Rating</th>\n",
       "    </tr>\n",
       "  </thead>\n",
       "  <tbody>\n",
       "    <tr>\n",
       "      <th>Aadithya</th>\n",
       "      <td>86.000000</td>\n",
       "      <td>83.000000</td>\n",
       "    </tr>\n",
       "    <tr>\n",
       "      <th>Abu sarovar portico ex Abu Palace</th>\n",
       "      <td>79.500000</td>\n",
       "      <td>79.666667</td>\n",
       "    </tr>\n",
       "    <tr>\n",
       "      <th>Accord Metropolitan</th>\n",
       "      <td>85.539683</td>\n",
       "      <td>82.475410</td>\n",
       "    </tr>\n",
       "    <tr>\n",
       "      <th>Akash Inn</th>\n",
       "      <td>62.800000</td>\n",
       "      <td>69.428571</td>\n",
       "    </tr>\n",
       "    <tr>\n",
       "      <th>Akshay Inn</th>\n",
       "      <td>100.000000</td>\n",
       "      <td>77.750000</td>\n",
       "    </tr>\n",
       "    <tr>\n",
       "      <th>...</th>\n",
       "      <td>...</td>\n",
       "      <td>...</td>\n",
       "    </tr>\n",
       "    <tr>\n",
       "      <th>Victoria</th>\n",
       "      <td>77.692308</td>\n",
       "      <td>82.000000</td>\n",
       "    </tr>\n",
       "    <tr>\n",
       "      <th>Zama Lodge</th>\n",
       "      <td>64.500000</td>\n",
       "      <td>64.500000</td>\n",
       "    </tr>\n",
       "    <tr>\n",
       "      <th>Zone By The Park Orr Chennai</th>\n",
       "      <td>80.000000</td>\n",
       "      <td>86.666667</td>\n",
       "    </tr>\n",
       "    <tr>\n",
       "      <th>ibis Chennai City Centre</th>\n",
       "      <td>90.000000</td>\n",
       "      <td>90.000000</td>\n",
       "    </tr>\n",
       "    <tr>\n",
       "      <th>ibis Chennai Sipcot</th>\n",
       "      <td>74.400000</td>\n",
       "      <td>63.800000</td>\n",
       "    </tr>\n",
       "  </tbody>\n",
       "</table>\n",
       "<p>232 rows × 2 columns</p>\n",
       "</div>"
      ],
      "text/plain": [
       "                                      Rating1     Rating\n",
       "Aadithya                            86.000000  83.000000\n",
       "Abu sarovar portico ex Abu Palace   79.500000  79.666667\n",
       "Accord Metropolitan                 85.539683  82.475410\n",
       "Akash Inn                           62.800000  69.428571\n",
       "Akshay Inn                         100.000000  77.750000\n",
       "...                                       ...        ...\n",
       "Victoria                            77.692308  82.000000\n",
       "Zama Lodge                          64.500000  64.500000\n",
       "Zone By The Park Orr Chennai        80.000000  86.666667\n",
       "ibis Chennai City Centre            90.000000  90.000000\n",
       "ibis Chennai Sipcot                 74.400000  63.800000\n",
       "\n",
       "[232 rows x 2 columns]"
      ]
     },
     "execution_count": 38,
     "metadata": {},
     "output_type": "execute_result"
    }
   ],
   "source": [
    "result = lookup[lookup.notna().sum(axis=1) > 1]\n",
    "result"
   ]
  },
  {
   "cell_type": "code",
   "execution_count": 76,
   "metadata": {},
   "outputs": [
    {
     "name": "stdout",
     "output_type": "stream",
     "text": [
      "On the crossing hotels we have RMSE score = 9.368145940957136\n"
     ]
    }
   ],
   "source": [
    "from sklearn.metrics import mean_squared_error\n",
    "print(\"On the crossing hotels we have RMSE score = {}\".format(mean_squared_error(result[\"Rating1\"], result[\"Rating\"], squared=False)))"
   ]
  },
  {
   "cell_type": "code",
   "execution_count": 77,
   "metadata": {},
   "outputs": [
    {
     "data": {
      "text/plain": [
       "0.040379939400677314"
      ]
     },
     "execution_count": 77,
     "metadata": {},
     "output_type": "execute_result"
    }
   ],
   "source": [
    "# в пересчете на количество измерений: \n",
    "mean_squared_error(result[\"Rating1\"], result[\"Rating\"], squared=False) / 232"
   ]
  },
  {
   "cell_type": "markdown",
   "metadata": {},
   "source": [
    "Попробуем так же добавить для каждого отзыва признак \"процент хороших слов\" и \"процент плохих слов\" из данных табличек"
   ]
  },
  {
   "cell_type": "code",
   "execution_count": 41,
   "metadata": {},
   "outputs": [],
   "source": [
    "concat_review = pd.concat([df['Review'], test[\"Review\"]], ignore_index=True)"
   ]
  },
  {
   "cell_type": "code",
   "execution_count": 52,
   "metadata": {},
   "outputs": [],
   "source": [
    "positive_words = set(pd.read_fwf(\"positive-words.txt\")['a+'].values)\n",
    "negative_words = set(pd.read_fwf(\"negative-words.txt\")[\"2-faced\"].values)"
   ]
  },
  {
   "cell_type": "code",
   "execution_count": 82,
   "metadata": {},
   "outputs": [],
   "source": [
    "def find_percent(flag, text):\n",
    "    text = text.split()\n",
    "    lenght = len(text)\n",
    "    counter = dict()\n",
    "    words = 0\n",
    "    for word in text:\n",
    "        if counter.get(word) is None:\n",
    "            counter[word] = 0\n",
    "        counter[word] += 1\n",
    "    \n",
    "    if flag == 1:\n",
    "        for word, count in counter.items():\n",
    "            if word in positive_words:\n",
    "                words += count\n",
    "        return words / lenght\n",
    "    else :\n",
    "        for word, count in counter.items():\n",
    "            if word in negative_words:\n",
    "                words += count\n",
    "        return -words / lenght"
   ]
  },
  {
   "cell_type": "code",
   "execution_count": 83,
   "metadata": {},
   "outputs": [],
   "source": [
    "full_df[\"positive\"] = concat_review.apply(lambda x : find_percent(1, x))\n",
    "full_df[\"negative\"] = concat_review.apply(lambda x : find_percent(-1, x))"
   ]
  },
  {
   "cell_type": "code",
   "execution_count": 84,
   "metadata": {},
   "outputs": [],
   "source": [
    "X_train = full_df.loc[:df.shape[0] - 1, :]\n",
    "y_train = df[\"Rating\"]\n",
    "X_test = full_df.loc[df.shape[0] : , :]"
   ]
  },
  {
   "cell_type": "code",
   "execution_count": 85,
   "metadata": {},
   "outputs": [],
   "source": [
    "model = LinearSVC(random_state=42)\n",
    "model.fit(X_train, y_train)\n",
    "y_pred1 = model.predict(X_test)"
   ]
  },
  {
   "cell_type": "code",
   "execution_count": 89,
   "metadata": {},
   "outputs": [
    {
     "name": "stdout",
     "output_type": "stream",
     "text": [
      "On the crossing hotels we have RMSE score = 9.645564124531486\n"
     ]
    }
   ],
   "source": [
    "renamer = {\"Hotel_name\" : \"Name\", 0 : \"Rating2\"}\n",
    "prediction_lookup = pd.concat([test[\"Hotel_name\"], pd.Series(y_pred1)], axis=1).rename(columns=renamer)\n",
    "lookup1 = pd.concat([prediction_lookup.groupby(\"Name\")[\"Rating2\"].mean(), df.groupby(\"Hotel_name\")[\"Rating\"].mean()], axis=1)\n",
    "result1 = lookup1[lookup1.notna().sum(axis=1) > 1]\n",
    "print(\"On the crossing hotels we have RMSE score = {}\".format(mean_squared_error(result1[\"Rating2\"], result1[\"Rating\"], squared=False)))"
   ]
  },
  {
   "cell_type": "markdown",
   "metadata": {},
   "source": [
    "Почему-то от этих двух признаков не стало лучше((но стало чуточку хуже на пересечении отелей, может быть для новых отелей этот признак всё таки полезен)"
   ]
  },
  {
   "cell_type": "markdown",
   "metadata": {},
   "source": [
    "добавить еще 1 признак - \n",
    "emotional coloring, который будет смотреть в таблицу расширенную, смотреть на значения positive и negative и вычитать второе из первого"
   ]
  },
  {
   "cell_type": "code",
   "execution_count": 112,
   "metadata": {},
   "outputs": [],
   "source": [
    "words = pd.read_csv(\"SentiWordNet.txt\", sep='\\t')\n",
    "#if 'good'.isin(words[\"Word\"]):\n",
    "#    print(word)"
   ]
  },
  {
   "cell_type": "code",
   "execution_count": 150,
   "metadata": {},
   "outputs": [],
   "source": [
    "def emotional_coloring(text):\n",
    "    text = set(text.split())\n",
    "    lenght = len(text)\n",
    "    color = 0\n",
    "    wordsss =  set(words['Word'].values)\n",
    "    for word in text:\n",
    "        if word in wordsss:\n",
    "            index = words[words['Word'] == word].index\n",
    "            pos = words.loc[index, 'Positive'].iloc[0]\n",
    "            neg = words.loc[index, 'Negative'].iloc[0]\n",
    "            color += (pos - neg) * index.shape[0] \n",
    "    return color"
   ]
  },
  {
   "cell_type": "code",
   "execution_count": 156,
   "metadata": {},
   "outputs": [],
   "source": [
    "full_df['emotional_coloring'] = concat_review.apply(lambda x : emotional_coloring(x))"
   ]
  },
  {
   "cell_type": "code",
   "execution_count": 157,
   "metadata": {},
   "outputs": [],
   "source": [
    "X_train = full_df.loc[:df.shape[0] - 1, :]\n",
    "y_train = df[\"Rating\"]\n",
    "X_test = full_df.loc[df.shape[0] : , :]"
   ]
  },
  {
   "cell_type": "code",
   "execution_count": 163,
   "metadata": {},
   "outputs": [],
   "source": [
    "model = LinearSVC(random_state=42, max_iter=100000)\n",
    "model.fit(X_train, y_train)\n",
    "y_pred2 = model.predict(X_test)"
   ]
  },
  {
   "cell_type": "code",
   "execution_count": 164,
   "metadata": {},
   "outputs": [
    {
     "name": "stdout",
     "output_type": "stream",
     "text": [
      "On the crossing hotels we have RMSE score = 9.470301137343732\n"
     ]
    }
   ],
   "source": [
    "renamer = {\"Hotel_name\" : \"Name\", 0 : \"Rating3\"}\n",
    "prediction_lookup = pd.concat([test[\"Hotel_name\"], pd.Series(y_pred2)], axis=1).rename(columns=renamer)\n",
    "lookup2 = pd.concat([prediction_lookup.groupby(\"Name\")[\"Rating3\"].mean(), df.groupby(\"Hotel_name\")[\"Rating\"].mean()], axis=1)\n",
    "result2 = lookup2[lookup2.notna().sum(axis=1) > 1]\n",
    "print(\"On the crossing hotels we have RMSE score = {}\".format(mean_squared_error(result2[\"Rating3\"], result2[\"Rating\"], squared=False)))"
   ]
  },
  {
   "cell_type": "code",
   "execution_count": 168,
   "metadata": {},
   "outputs": [],
   "source": [
    "pd.Series(y_pred2).to_csv(\"D:/python/Tinkoff/nlp/nlp_result.csv\")"
   ]
  },
  {
   "cell_type": "code",
   "execution_count": 169,
   "metadata": {},
   "outputs": [
    {
     "data": {
      "text/plain": [
       "0       100.0\n",
       "1        80.0\n",
       "2        86.0\n",
       "3        80.0\n",
       "4        80.0\n",
       "        ...  \n",
       "2347     60.0\n",
       "2348     60.0\n",
       "2349     71.0\n",
       "2350     40.0\n",
       "2351     80.0\n",
       "Length: 2352, dtype: float64"
      ]
     },
     "execution_count": 169,
     "metadata": {},
     "output_type": "execute_result"
    }
   ],
   "source": []
  },
  {
   "cell_type": "code",
   "execution_count": null,
   "metadata": {},
   "outputs": [],
   "source": []
  }
 ],
 "metadata": {
  "kernelspec": {
   "display_name": "Python 3",
   "language": "python",
   "name": "python3"
  },
  "language_info": {
   "codemirror_mode": {
    "name": "ipython",
    "version": 3
   },
   "file_extension": ".py",
   "mimetype": "text/x-python",
   "name": "python",
   "nbconvert_exporter": "python",
   "pygments_lexer": "ipython3",
   "version": "3.8.5"
  }
 },
 "nbformat": 4,
 "nbformat_minor": 4
}
