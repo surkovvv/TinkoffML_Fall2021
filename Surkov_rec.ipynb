{
 "cells": [
  {
   "cell_type": "markdown",
   "metadata": {},
   "source": [
    "# Домашнее задание по рекомендательным системам"
   ]
  },
  {
   "cell_type": "markdown",
   "metadata": {},
   "source": [
    "В данном домашнем задании вам предлагается реализовать User-based рекомендательную систему. Так же требуется реализовать несколько вспомогательных функций, шаблоны которых вы можете найти в `utils.py`.\n",
    "\n",
    "Требования к выполнению задания:\n",
    "- Реализация функции из `utils.py` засчитывается, только если пройдены все соответствующие тесты из `test.py`. Запуск тестов: <font color='red'>pytest test.py</font>. Для тестов вам потребуются библиотеки `numpy`, `scipy`, `pytest` и `hypothesis`.\n",
    "- Плагиат запрещен. Если будет замечено, что часть задания списана, то 0 баллов ставится как списывающему, так и давшему списать.\n",
    "- Если пользуетесь кодом из открытых источников, то указывайте ссылки, откуда взяли решение. Иначе такой код может быть воспринят как плагиат.\n",
    "- При выполнении задания нельзя использовать библиотеку `scipy` и функцию `numpy.linalg.norm`\n",
    "\n",
    "При запуске тестов могут появиться предупреждения: PearsonRConstantInputWarning и PearsonRNearConstantInputWarning. На них можно не обращать внимания.\n",
    "\n",
    "Возможный максимум баллов за задание: 10 баллов <br>\n",
    "Дедлайн: ??? <br>\n",
    "Штраф: ??? - будет ли в курсе штраф? <br>\n",
    "<br>\n",
    "Для ускорения проверки, напишите здесь получившееся количество баллов: ..."
   ]
  },
  {
   "cell_type": "markdown",
   "metadata": {},
   "source": [
    "## 1. Метрика сходства\n",
    "<b>1.1. Реализация метрик (2 балла)</b>\n",
    "\n",
    "Первое, с чем необходимо разобраться, при реализации User-based подхода, это с метрикой, с помощью которой будет решаться, насколько похожи пользователи. Вам предлагается реализовать 2 метрики: на основе евклидовой метрики и коэффициент корреляции Пирсона. Шаблоны для обоих функций можете найти в `utils.py`. Не забудьте проверить реализацию на тестах.\n",
    "\n",
    "Евклидова метрика:\n",
    "\\begin{equation}\n",
    "d(p,q)=\\sqrt{(p_1-q_1)^2+(p_2-q_2)^2+\\dots+(p_n-q_n)^2} = \\sqrt{\\sum_{k=1}^n (p_k-q_k)^2}\n",
    "\\end{equation}\n",
    "\n",
    "В этом случае $d(p, q) \\in [0, \\infty)$, при этом если $d(p, q) \\to 0$, то $sim(p, q) \\to 1$. С учетом этого конечная формула будет выглядеть следующим образом:\n",
    "\\begin{equation}\n",
    "sim(p, q) = \\frac{1}{1 + d(p, q)}\n",
    "\\end{equation}\n",
    "Так же в этой формуле не будет проблем с делением на 0.\n",
    "\n",
    "Коэффициент корреляции Пирсона:\n",
    "\\begin{equation}\n",
    "r_{xy} = \\frac {\\sum_{i=1}^{m} \\left( x_i-\\bar{x} \\right)\\left( y_i-\\bar{y} \\right)}{\\sqrt{\\sum_{i=1}^{m} \\left( x_i-\\bar{x} \\right)^2 \\sum_{i=1}^{m} \\left( y_i-\\bar{y} \\right)^2}}\n",
    "\\end{equation}"
   ]
  },
  {
   "cell_type": "markdown",
   "metadata": {},
   "source": [
    "<b>1.2. (1 балл)</b>\n",
    "\n",
    "Рассмотрим пользователей $u$ и $v$. Им соотвествуют векторы $x_u$ и $x_v$(строки с индексами u и v в таблице R??), где $x_u[i] = r_{ui}$ и $x_v[i] = r_{vi}$. Из лекции известно, что похожесть между векторами $x_u$ и $x_v$ вычисляются только для тех индексов i, для которых существует и $r_{ui}$, и $r_{vi}$. То есть верно следуюющее:\n",
    "\\begin{equation}\n",
    "sim(u, v) = sim(x_uI_{uv}, x_vI_{uv}),\n",
    "\\end{equation}\n",
    "где $I_{uv} = [i | \\exists r_{ui} \\& \\exists r_{vi}]$. При этом если $I_{uv} = \\emptyset$, то $sim(u, v) \\to -\\infty$.\n",
    "\n",
    "Реализуйте два новых метода, которые переиспользуют написанные вами `euclidean_distance` и `pearson_distance`, добавляющие условия на $x_u$ и $x_v$. Считается, что $x_u[i] = 0$, если $\\nexists r_{ui}$. То же верно для $x_v$.\n",
    "\n",
    "При реализации заданий можно как написать новые функции, так и использовать декораторы."
   ]
  },
  {
   "cell_type": "code",
   "execution_count": 1,
   "metadata": {},
   "outputs": [],
   "source": [
    "import numpy as np\n",
    "from utils import euclidean_similarity, pearson_similarity"
   ]
  },
  {
   "cell_type": "code",
   "execution_count": 79,
   "metadata": {},
   "outputs": [],
   "source": [
    "# your code (ﾉ>ω<)ﾉ :｡･:*:･ﾟ’★,｡･:*:･ﾟ’☆\n",
    "def euclidean_similarity_with_restrictions(x_u, x_v):\n",
    "    mask = (x_u != 0)&(x_v != 0)\n",
    "    if len(x_u[mask]):\n",
    "        return euclidean_similarity(x_u[mask], x_v[mask])\n",
    "    else:\n",
    "        return float(\"-inf\")\n",
    "\n",
    "def pearson_similarity_restrictions(x_u, x_v):\n",
    "    mask = (x_u != 0)&(x_v != 0)\n",
    "    if len(x_u[mask]):\n",
    "        return pearson_similarity(x_u[mask], x_v[mask])\n",
    "    else:\n",
    "        return 0"
   ]
  },
  {
   "cell_type": "markdown",
   "metadata": {},
   "source": [
    "## 2. User-based method\n",
    "<b>2.1. (3 балла)</b> \n",
    "\n",
    "Реализовать User-based подход, реализовав методы класса `UserBasedRecommendation`, основанного на использовании `NearestNeighbors`. В качестве метрики для нахождения похожих пользователей может быть использована как евклидова метрика, так и коэффициент корреляции Пирсона.\n",
    "\n",
    "Не забывайте, что `NearestNeighbors` ищет минимум расстояния между элементами, поэтому логично в качестве метрики при инициализации `NearestNeighbors` использовать обратную метрике схожести. То есть такую, что когда $sim(u, v) \\to 1$, то $d(u, v) \\to 0$. Например: $d(u, v) = 1 - sim(u, v)$"
   ]
  },
  {
   "cell_type": "code",
   "execution_count": 47,
   "metadata": {},
   "outputs": [],
   "source": [
    "from sklearn.neighbors import NearestNeighbors\n",
    "from typing import Optional\n",
    "\n",
    "from collections import Counter\n",
    "\n",
    "def Pmetric_for_NN(x_u, x_v):\n",
    "    return 1 - pearson_similarity_restrictions(x_u, x_v)\n",
    "\n",
    "def Emetric_for_NN(x_u, x_v):\n",
    "    return 1 - euclidean_similarity_with_restrictions(x_u, x_v)\n",
    "\n",
    "class UserBasedRecommendation:\n",
    "    def __init__(self, metric: str = 'euclidean', n_recommendations: int = 5, alpha: float = 0.8):\n",
    "        \"\"\"\n",
    "        Args:\n",
    "            metric: name of metric: ['euclidean', 'pearson']\n",
    "            n_recommendations: number of recommendations. Also can be specified self.make_recommendation\n",
    "            alpha: similarity threshold: if sim(u, v) > alpha then u and v are similar\n",
    "        \"\"\"\n",
    "        # your code (ﾉ>ω<)ﾉ :｡･:*:･ﾟ’★,｡･:*:･ﾟ’☆\n",
    "        self.metric = Pmetric_for_NN if metric == \"pearson\" else Emetric_for_NN\n",
    "        self.n_recommendations = n_recommendations\n",
    "        self.alpha = alpha\n",
    "\n",
    "    def fit(self, X: np.array):\n",
    "        \"\"\"\n",
    "        Args:\n",
    "            X: matrix N x M where X[u, i] = r_{ui} if r_{ui} exists else X[u, i] = 0\n",
    "        \"\"\"\n",
    "        # your code (ﾉ>ω<)ﾉ :｡･:*:･ﾟ’★,｡･:*:･ﾟ’☆\n",
    "        self.model = NearestNeighbors(n_neighbors=self.n_recommendations,\n",
    "                                      metric=self.metric)\n",
    "        self.X = X\n",
    "        self.model.fit(X)\n",
    "        \n",
    "\n",
    "    def __find_closest_users(self, user_id: int, n_closest_users: int):\n",
    "        # your code (ﾉ>ω<)ﾉ :｡･:*:･ﾟ’★,｡･:*:･ﾟ’☆\n",
    "        distances_indexes = self.model.radius_neighbors(self.X[user_id].reshape(1, -1),\n",
    "                                                        1 - self.alpha,\n",
    "                                                        sort_results=True)\n",
    "        return distances_indexes[1][0][-n_closest_users:]\n",
    "    \n",
    "\n",
    "    def make_recommendation(self, user_id: int, n_recommendations: Optional[int] = None):\n",
    "        \"\"\"\n",
    "        Args:\n",
    "            user_id: user id to whom you want to recommend\n",
    "            n_recommendations: number of recommendations\n",
    "        \"\"\"\n",
    "        # your code (ﾉ>ω<)ﾉ :｡･:*:･ﾟ’★,｡･:*:･ﾟ’☆\n",
    "        u0 = self.__find_closest_users(user_id, self.n_recommendations) # close_users\n",
    "        if len(u0) > 0:\n",
    "            p = np.zeros(self.X.shape[1])\n",
    "            for item in range(self.X.shape[1]):\n",
    "                for user in u0:\n",
    "                    if X[user, item]:\n",
    "                        p[item] += 1\n",
    "                p[item] /= len(u0)\n",
    "            return np.argsort(p)[-n_recommendations:]\n",
    "        return []"
   ]
  },
  {
   "cell_type": "markdown",
   "metadata": {},
   "source": [
    "<b>2.2. (1 балла)</b>\n",
    "\n",
    "Приведите пример, для которого использование разных метрик будет давать разные рекомендации. Объясните свой пример."
   ]
  },
  {
   "cell_type": "code",
   "execution_count": null,
   "metadata": {},
   "outputs": [],
   "source": [
    "# your code (ﾉ>ω<)ﾉ :｡･:*:･ﾟ’★,｡･:*:･ﾟ’☆\n",
    "Тут снизу уже был написано ответ, это не мой"
   ]
  },
  {
   "cell_type": "markdown",
   "metadata": {},
   "source": [
    "<b>Объяснение:</b> Для ясности пронумеруем товары с 0. Видно, что третьему пользователю так же как и второму больше понравился товар 1 и чуть меньше понравился товар 2, тогда как первому пользователю оба эти товары не сильно понравились, причем товар 1 ему понравился меньше, чем товар 2, то есть наблюдается обратная завизимость. Но все эти факторы никак не учитываются при использовании евклидовой метрики, поэтому в первом случае алгоритм посчитал, что первый и третий пользователь похожи только по тому, что они ставят оценки примерно в одном и том отрезке: {0, 1}, что является довольно странным предположением. А алгоритм, использующий коэффициент корреляции Пирсона учитывает эти факторы, поэтому находит третьему пользователю соседа со схожими интересами в виде второго пользователя. Отсюда получаем разные рекомендации."
   ]
  },
  {
   "cell_type": "markdown",
   "metadata": {},
   "source": [
    "## 3. Оценка качества\n",
    "<b>3.1. (1 балл)</b>\n",
    "\n",
    "Реализуйте Average Precision at k и Mean Average Precision at k. Шаблоны можете найти в `utils.py`.\n",
    "\\begin{align*}\n",
    "AP@K = \\frac{1}{m}\\sum_{k=1}^K P(k)*rel(k), \\\\\n",
    "MAP@K = \\frac{1}{|U|}\\sum_{u=1}^{|U|}(AP@K)_u\n",
    "\\end{align*}\n",
    "где $P(k)$ - Precision at k, $rel(k) = 1$, если рекомендация релевантна, иначе $rel(k) = 0$."
   ]
  },
  {
   "cell_type": "markdown",
   "metadata": {},
   "source": [
    "## 4. Применение модели\n",
    "<b>4.1. (2 балла)</b>\n",
    "\n",
    "Выгрузите датасет `ratings_small.csv`: https://www.kaggle.com/rounakbanik/the-movies-dataset#ratings_small.csv"
   ]
  },
  {
   "cell_type": "code",
   "execution_count": 4,
   "metadata": {},
   "outputs": [],
   "source": [
    "import pandas as pd\n",
    "from sklearn.model_selection import train_test_split"
   ]
  },
  {
   "cell_type": "code",
   "execution_count": 5,
   "metadata": {},
   "outputs": [
    {
     "data": {
      "text/plain": [
       "(100004, 4)"
      ]
     },
     "execution_count": 5,
     "metadata": {},
     "output_type": "execute_result"
    }
   ],
   "source": [
    "data = pd.read_csv('ratings_small.csv', index_col=False)\n",
    "data.shape"
   ]
  },
  {
   "cell_type": "code",
   "execution_count": 6,
   "metadata": {},
   "outputs": [
    {
     "data": {
      "text/plain": [
       "(1, 671, 671)"
      ]
     },
     "execution_count": 6,
     "metadata": {},
     "output_type": "execute_result"
    }
   ],
   "source": [
    "data.userId.min(), data.userId.max(), len(data.userId.unique())"
   ]
  },
  {
   "cell_type": "code",
   "execution_count": 7,
   "metadata": {},
   "outputs": [
    {
     "data": {
      "text/plain": [
       "(1, 163949, 9066)"
      ]
     },
     "execution_count": 7,
     "metadata": {},
     "output_type": "execute_result"
    }
   ],
   "source": [
    "data.movieId.min(), data.movieId.max(), len(data.movieId.unique())"
   ]
  },
  {
   "cell_type": "markdown",
   "metadata": {},
   "source": [
    "Для простоты работы с данными, измените нумерацию пользователей и фильмов так, чтобы нумерация начиналась с 0 и шла непрерывно."
   ]
  },
  {
   "cell_type": "code",
   "execution_count": 8,
   "metadata": {},
   "outputs": [],
   "source": [
    "# your code (ﾉ>ω<)ﾉ :｡･:*:･ﾟ’★,｡･:*:･ﾟ’☆\n",
    "data.userId -= 1"
   ]
  },
  {
   "cell_type": "code",
   "execution_count": 9,
   "metadata": {},
   "outputs": [],
   "source": [
    "from sklearn.preprocessing import LabelEncoder\n",
    "\n",
    "lb_make = LabelEncoder()\n",
    "data.movieId = lb_make.fit_transform(data.movieId)"
   ]
  },
  {
   "cell_type": "code",
   "execution_count": 10,
   "metadata": {},
   "outputs": [
    {
     "data": {
      "text/plain": [
       "(0, 670, 671)"
      ]
     },
     "execution_count": 10,
     "metadata": {},
     "output_type": "execute_result"
    }
   ],
   "source": [
    "data.userId.min(), data.userId.max(), len(data.userId.unique())"
   ]
  },
  {
   "cell_type": "code",
   "execution_count": 11,
   "metadata": {},
   "outputs": [
    {
     "data": {
      "text/plain": [
       "(0, 9065, 9066)"
      ]
     },
     "execution_count": 11,
     "metadata": {},
     "output_type": "execute_result"
    }
   ],
   "source": [
    "data.movieId.min(), data.movieId.max(), len(data.movieId.unique())"
   ]
  },
  {
   "cell_type": "markdown",
   "metadata": {},
   "source": [
    "Удалим для наиболее активных пользователей 5 оценок"
   ]
  },
  {
   "cell_type": "code",
   "execution_count": 12,
   "metadata": {},
   "outputs": [
    {
     "data": {
      "text/plain": [
       "((99954, 4), (50, 4))"
      ]
     },
     "execution_count": 12,
     "metadata": {},
     "output_type": "execute_result"
    }
   ],
   "source": [
    "active_users = data.userId.value_counts()[:10].index\n",
    "test_data = pd.DataFrame([], columns=data.columns)\n",
    "for user_id in active_users:\n",
    "    _, test = train_test_split(data[data.userId == user_id], test_size=5, random_state=42)\n",
    "    test_data = test_data.append(test, ignore_index=True)\n",
    "    data = data[~((data.userId == user_id) & (data.movieId.isin(test.movieId.values)))]\n",
    "data.shape, test_data.shape"
   ]
  },
  {
   "cell_type": "markdown",
   "metadata": {},
   "source": [
    "Преобразуем данные в таблицу `X`, с которой может работать `UserBasedRecommendation`, где $X_{ui} = r_{ui}$, если пользователь $u$ поставил оценку фильму $i$, и $X_{ui} = 0$, если пользователь $u$ не проставил оценку фильму $i$.\n",
    "\n",
    "Вам может пригодиться `csr_matrix`."
   ]
  },
  {
   "cell_type": "code",
   "execution_count": 13,
   "metadata": {},
   "outputs": [],
   "source": [
    "# your code (ﾉ>ω<)ﾉ :｡･:*:･ﾟ’★,｡･:*:･ﾟ’☆\n",
    "# как пригодится csr_matrix, если нельзя пользоваться scipy...\n",
    "X = np.zeros((data.userId.max() + 1, data.movieId.max() + 1))\n",
    "for user in data.userId.unique():\n",
    "    userItems = data[data.userId == user].movieId\n",
    "    for item in userItems:\n",
    "        X[user, item] = data.loc[(data.userId == user)&(data.movieId == item)].rating"
   ]
  },
  {
   "cell_type": "markdown",
   "metadata": {},
   "source": [
    "Для пользователей, у которых были удалены фильмы, найдите топ 100 фильмов, который должен посмотреть каждый из этих пользователей, используя `UserBasedRecommendation`. Не забудьте подобрать параметр alpha."
   ]
  },
  {
   "cell_type": "code",
   "execution_count": 81,
   "metadata": {},
   "outputs": [
    {
     "name": "stderr",
     "output_type": "stream",
     "text": [
      "D:\\python\\Tinkoff\\rec\\utils.py:39: RuntimeWarning: invalid value encountered in double_scalars\n",
      "  return numerator / denumerator\n",
      "D:\\python\\Tinkoff\\rec\\utils.py:39: RuntimeWarning: invalid value encountered in double_scalars\n",
      "  return numerator / denumerator\n",
      "D:\\python\\Tinkoff\\rec\\utils.py:39: RuntimeWarning: invalid value encountered in double_scalars\n",
      "  return numerator / denumerator\n",
      "D:\\python\\Tinkoff\\rec\\utils.py:39: RuntimeWarning: invalid value encountered in double_scalars\n",
      "  return numerator / denumerator\n",
      "D:\\python\\Tinkoff\\rec\\utils.py:39: RuntimeWarning: invalid value encountered in double_scalars\n",
      "  return numerator / denumerator\n",
      "D:\\python\\Tinkoff\\rec\\utils.py:39: RuntimeWarning: invalid value encountered in double_scalars\n",
      "  return numerator / denumerator\n"
     ]
    }
   ],
   "source": [
    "# your code (ﾉ>ω<)ﾉ :｡･:*:･ﾟ’★,｡･:*:･ﾟ’☆\n",
    "test1 = UserBasedRecommendation(\"pearson\", 100, 0.4)\n",
    "test1.fit(X)\n",
    "res = []\n",
    "for userId in test_data.userId.unique():\n",
    "    res.append(test1.make_recommendation(userId, 100))"
   ]
  },
  {
   "cell_type": "code",
   "execution_count": 82,
   "metadata": {},
   "outputs": [
    {
     "data": {
      "text/plain": [
       "[array([ 741, 4686,    6,  419,   24,   10, 3869,  101,  455,  564,  122,\n",
       "         483,  519,  880, 2147,  208, 1303, 1906,  196,  888,  173, 1131,\n",
       "         152, 1480, 2407,  381,  441,  304,  642, 1024,  361,   16,  953,\n",
       "          87,   18,  520, 1129,  262,  955,   58,  733,  282, 3854,   32,\n",
       "          37,    5,  615, 2374,  951,  198,  695,  447,  322,  331,  225,\n",
       "           9, 2062,  163,  403,  258,  341,   48,  268,  294,  529,  617,\n",
       "         140, 2288,  184,  866,  144,  203,  100,  314,  383,  328,  966,\n",
       "         644,  535,  132,  561,  522,    0,  232,   45,  344,   31,  406,\n",
       "         309,  472,  521,  129,  527,  523,  427,  524,  284,  321,  525,\n",
       "         266], dtype=int64),\n",
       " array([2161, 2147, 1315, 2069, 1976, 1906, 1573, 1574, 1615, 2893,  649,\n",
       "         884,  619, 4686,  173, 3803, 3799, 4846,  263,  282,  331,  334,\n",
       "        3367,  622,  406,  341,   46,  576, 4227,   24,  494,  615,  840,\n",
       "         880,  203,  567, 1343, 6142,  561, 1028, 1251,  524, 6446,  970,\n",
       "        1012, 1065, 1045,  100, 3419,   32,  888,  617, 1332, 4427,  101,\n",
       "         994, 1843, 7551,  527,  309, 2164,  344,  962,  957,   45,  521,\n",
       "         427,  485, 1590,  328,  321, 5116, 5017, 3869, 2154, 2407,  642,\n",
       "          31,  955, 1336,  525,  535, 4391, 2062,  644, 6892,  522, 3854,\n",
       "        2212,   48, 1024,  966,  953,  232, 2288,    0,  266, 2374,  284,\n",
       "         472], dtype=int64),\n",
       " array([ 196,  268,  483,  519, 1480,   37,   20,  615,  520, 5611, 1843,\n",
       "        1728,  976,  978,  294,  314,  725, 1367, 3419, 4604, 1352,  957,\n",
       "        1336,  954,  383, 3854,  962, 6892,  258, 1019,  912,  101,  642,\n",
       "         225, 2173, 2212,  880,  617,  144, 4391, 3367,  447, 3869,  561,\n",
       "        2103,    9,  322,  964, 1045,  527,  529,  485, 1253,  888,  994,\n",
       "         969, 1359,  184,  203,  263,  951,  282,   32,  132,  977,  331,\n",
       "         840,  523,   31, 2374,  341,  129, 1590,  644,    0,  524,  309,\n",
       "        2288,   48,  955,  521, 1024,  328,  406,  344,  535,   45,  953,\n",
       "        2062,  472,  966,  695,  522,  100,  232,  427,  525,  321,  284,\n",
       "         266], dtype=int64),\n",
       " array([ 124,   58,  649,  263,  174,  485,  196,  198,  207,  888,  218,\n",
       "         361, 1906, 2103,  139,  331,  122,   10,  635,   32,  658, 3869,\n",
       "        1024,  163, 2374,  314,  840,  381,  130,  173,  496,  455,  461,\n",
       "         304,   34,  391,  483,   87,  529,  520,  203,  977,  389,  383,\n",
       "         403,  140,  322,  184,  615, 2288,  866,   15,  262,  527,  101,\n",
       "        2212,    9,  341,    5,  447,   24,  144,  328,  225,  695,  282,\n",
       "         642, 2062,  268,  309,    0,   20,  617,  132,  521,  100,   45,\n",
       "         955,  258,  294,  561,  953,  321,  522,  129,  427,  966,  344,\n",
       "         524,  523,  406,   48,  232,  472,   31,  535,  644,  525,  284,\n",
       "         266], dtype=int64),\n",
       " array([   9, 5116,  391,  954, 4604, 1288,  964, 3803, 2147,  258, 1336,\n",
       "         483, 1019,  184,  977, 1843, 1100,  383,   18, 4135,  642,  519,\n",
       "         403, 1352,  912, 2340,   32,  888,   87, 2103, 3845,  322, 4686,\n",
       "         294,  225, 3419,  527,  262,  520, 1253, 3367,  994, 1359,  132,\n",
       "         969, 5017, 1045,  485,  263,  341,  880,  951,  840,  447,  866,\n",
       "        4081,  615,  203,  129, 2860,    5,  521,  617,  282,  529,  966,\n",
       "        2212,  331, 1024, 3869, 1590,  695,  328,  953,  561, 4391,  955,\n",
       "          31,  309,  344, 2374,   48,  100,  472,  406,    0,  523,  522,\n",
       "        2288,  524,  535, 2062,   45,  644,  232,  427,  284,  321,  525,\n",
       "         266], dtype=int64),\n",
       " array([ 237,  615,  142, 3869,  994,  139, 1839,   18, 3854,  912,  263,\n",
       "         444, 1288,  652,  951,  957,  122,  140,  304, 1253,  519, 6892,\n",
       "          34, 2103,   58,    5,  969, 1359,  840,  258,  455,  447,  403,\n",
       "         485,  225,  384,  163, 2374,  262,  520,  954,  383,  203,   20,\n",
       "         101,   87, 1590,  483,  268,  866,   37,  144,  322,  294,   16,\n",
       "          32, 2212, 2062,  617,  314,    9,  888,  331,  184,  977,  529,\n",
       "        1024,  561,  955, 2288,  341,   45,  132,  695,   31,  953,  527,\n",
       "         328,  282,  309,  966,  644,  344,  523,  100,   48,  129,    0,\n",
       "         472,  406,  522,  535,  521,  232,  427,  524,  525,  321,  284,\n",
       "         266], dtype=int64),\n",
       " array([ 294,  725,  740,  403,  184,  519,   18, 3419,    9,  447, 1352,\n",
       "         483, 3199,  962,  144, 1486, 1125, 1906,   37,  964,  866, 1523,\n",
       "        1045, 1843,  745,  520,    5,  615,  132,  225, 1367,  196, 2407,\n",
       "         642, 1530, 4081,  977, 2173,  951,  203, 1288, 1359,  263,  617,\n",
       "         561, 1019,  282,  880,  888, 5017,  527,  331,  969, 3367,  322,\n",
       "        2860,  954,  994, 1590,  912, 1253, 2212,  529,   31,  840,  341,\n",
       "        2374,   32,  521,  485,  966,  328,  309,  644,    0,   48, 1024,\n",
       "         695, 4391, 3869,  955,  129,  406,  523,  344,  535,  953, 2288,\n",
       "         524, 2062,  232,   45,  100,  472,  522,  427,  525,  321,  284,\n",
       "         266], dtype=int64),\n",
       " array([3000,  519, 2506, 1288,  144, 1843,  391,  447, 1523, 3033, 1332,\n",
       "        1013, 6892,  184, 4081,  263, 3199,  225,  866,  403, 1125, 2164,\n",
       "        2407,  331,  912,  745,  383,  969, 2173,  970,  258,  262,  520,\n",
       "        3419, 3367,    9, 1019,   20,  964,  101,  977, 1352,  529,  880,\n",
       "         203, 1045,  485,  951, 5017,  527,  615,  129,  309, 1359,  840,\n",
       "         617,  341,  957,  994,  132,  294, 2103,  282, 1253,  328, 4391,\n",
       "         561,  695, 2860, 2212, 3869,  888,   45, 1590,  523, 1024,   31,\n",
       "          48,  344,  521,  535, 2374,  644,  100,  955,  953,  524,    0,\n",
       "         472,  966,  522,  406, 2288, 2062,  427,  232,  266,  284,  321,\n",
       "         525], dtype=int64),\n",
       " array([4605, 1253, 6956, 6942,  370, 1216,  122, 2407,  173,    4,    9,\n",
       "         137,   58, 6724, 6535, 5387,  139,   43,  309,  615, 1045,  258,\n",
       "        3845,  304, 1024,  163,  282,  866, 6446,  294,  695,  955,  383,\n",
       "           2, 1843,  576,  262, 7051,  268, 1352,  953,  203, 6363,  556,\n",
       "        2288,  198,  954, 7194, 3871, 2860, 4686, 6519, 6920, 7388,  642,\n",
       "        7262,  184,  441,  132,  617,  635, 6276,  522, 2103,  314,   31,\n",
       "         561,  406,  328,  535,   45,  100, 2374,  524,  144, 6142,   48,\n",
       "         523,  427,    0, 5611, 4391,  644, 2212,  129,  521,  344,  527,\n",
       "        1590, 3869, 2062,  525,  966, 5017,  472,  232,  321,  266, 6892,\n",
       "         284], dtype=int64),\n",
       " array([3845, 1574, 1116,  228,   15, 6519, 2173, 2407, 1131, 4081,   10,\n",
       "         403, 1486,  262,  225,  866,   16,    9,  955,  951,  888,   37,\n",
       "        7551, 1906,  519, 4686, 4391, 1352, 3854,  381, 2531,  137,  954,\n",
       "        1839, 2374, 2147, 3869, 1288,  163,  294, 3419,  258,  617,  615,\n",
       "         969,  140, 1359,   31,  880,  341,  331,  561,  263,  268,   32,\n",
       "         101,  304, 2103,  282, 2212, 5017,  184, 2288,  977,  132,  522,\n",
       "         953,  144, 1024, 6892,  328, 1590,   45,  314,   48,  383,  695,\n",
       "         966, 1253,  203,  406,  644,  344,  427,  309,  100,    0,  232,\n",
       "         524,  527,  535, 2062,  129,  523,  472,  521,  525,  321,  266,\n",
       "         284], dtype=int64)]"
      ]
     },
     "execution_count": 82,
     "metadata": {},
     "output_type": "execute_result"
    }
   ],
   "source": [
    "res"
   ]
  },
  {
   "cell_type": "markdown",
   "metadata": {},
   "source": [
    "Используя метрику `MAP@5`, `MAP@10` и `MAP@100`, определите, насколько эффективна user-based рекомендательная система для данной задачи."
   ]
  },
  {
   "cell_type": "code",
   "execution_count": 54,
   "metadata": {},
   "outputs": [],
   "source": [
    "from utils import mapk"
   ]
  },
  {
   "cell_type": "markdown",
   "metadata": {},
   "source": [
    "Как можно улучшить работу модели?\n",
    "\n",
    "<b>Ответ:</b> Например, написать другую модель...\n",
    "Если матрица X будет сильно разряжена, то мы получим очень плохие результаты. Можно попробовать реализовать модель со скрытыми переменными (которая talent factor models)"
   ]
  },
  {
   "cell_type": "code",
   "execution_count": null,
   "metadata": {},
   "outputs": [],
   "source": []
  }
 ],
 "metadata": {
  "kernelspec": {
   "display_name": "Python 3",
   "language": "python",
   "name": "python3"
  },
  "language_info": {
   "codemirror_mode": {
    "name": "ipython",
    "version": 3
   },
   "file_extension": ".py",
   "mimetype": "text/x-python",
   "name": "python",
   "nbconvert_exporter": "python",
   "pygments_lexer": "ipython3",
   "version": "3.8.5"
  }
 },
 "nbformat": 4,
 "nbformat_minor": 4
}
