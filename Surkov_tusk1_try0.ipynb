{
  "nbformat": 4,
  "nbformat_minor": 5,
  "metadata": {
    "kernelspec": {
      "display_name": "Python 3",
      "language": "python",
      "name": "python3"
    },
    "language_info": {
      "codemirror_mode": {
        "name": "ipython",
        "version": 3
      },
      "file_extension": ".py",
      "mimetype": "text/x-python",
      "name": "python",
      "nbconvert_exporter": "python",
      "pygments_lexer": "ipython3",
      "version": "3.7.10"
    },
    "colab": {
      "name": "Копия блокнота \"ML_HW1_numpy.ipynb\"",
      "provenance": [],
      "collapsed_sections": []
    }
  },
  "cells": [
    {
      "cell_type": "markdown",
      "metadata": {
        "id": "VvFvjNBH3QY3"
      },
      "source": [
        "## Домашнее задание"
      ],
      "id": "VvFvjNBH3QY3"
    },
    {
      "cell_type": "markdown",
      "metadata": {
        "id": "F1nB_pZ53TLc"
      },
      "source": [
        "В этой тетрадке вам предлагается реализовать задания при помощи библиотеки numpy. Крайне желательно при выполнении разных заданий не использовать циклы. Если вы не понимаете, как выполнить конкретную задачу без циклов - убирайте их постепенно, разбейте выполнение задачи на этапы и постепенно векторизуйте каждый этап.\n",
        "\n",
        "Если вам непонятно, как выполнить ту или иную операцию - не стесняйтесь гуглить, если над вами повис дедлайн, а вы всё ещё на чём-то застряли - пишите преподу/в чат, это ок.\n",
        "\n",
        "**Обсудить решение лучше и сделать в итоге хоть что-то гораздо лучше, чем скатать чужой код или сдать пустую тетрадку.**"
      ],
      "id": "F1nB_pZ53TLc"
    },
    {
      "cell_type": "code",
      "metadata": {
        "id": "BxCGcHcxyAwh"
      },
      "source": [
        "import numpy as np"
      ],
      "id": "BxCGcHcxyAwh",
      "execution_count": 54,
      "outputs": []
    },
    {
      "cell_type": "markdown",
      "metadata": {
        "id": "byY0Ab4Jww36"
      },
      "source": [
        "### Drill (1 балл)"
      ],
      "id": "byY0Ab4Jww36"
    },
    {
      "cell_type": "markdown",
      "metadata": {
        "id": "g9nrcP5ExLOr"
      },
      "source": [
        "Задание 1.\n",
        "\n",
        "Инициализируйте нулями массивы следующих форм:\n",
        "\n",
        "* (5)\n",
        "* (5, 1)\n",
        "* (10, 2)\n",
        "* (3, 6, 2)\n",
        "* (4, 3, 2, 1)"
      ],
      "id": "g9nrcP5ExLOr"
    },
    {
      "cell_type": "code",
      "metadata": {
        "id": "GDFryOCFwwO5"
      },
      "source": [
        "# Ваш код\n",
        "a1 = np.zeros(5)\n",
        "a2 = np.zeros((5, 1))\n",
        "a3 = np.zeros((10, 2))\n",
        "a4 = np.zeros((3, 6, 2))\n",
        "a5 = np.zeros((4, 3, 2, 1))"
      ],
      "id": "GDFryOCFwwO5",
      "execution_count": 55,
      "outputs": []
    },
    {
      "cell_type": "markdown",
      "metadata": {
        "id": "nB5ePY6S5AWx"
      },
      "source": [
        "Задание 2.\n",
        "\n",
        "Инициализируйте единицами массивы таких же форм и приведите их к целочисленному виду:"
      ],
      "id": "nB5ePY6S5AWx"
    },
    {
      "cell_type": "code",
      "metadata": {
        "id": "bW7_oEBw5Ga8"
      },
      "source": [
        "# Ваш код\n",
        "b1 = np.ones(5, dtype=int)\n",
        "b2 = np.ones((5, 1), dtype=int)\n",
        "b3 = np.ones((10, 2), dtype=int)\n",
        "b4 = np.ones((3, 6, 2), dtype=int)\n",
        "b5 = np.ones((4, 3, 2, 1), dtype=int)"
      ],
      "id": "bW7_oEBw5Ga8",
      "execution_count": 56,
      "outputs": []
    },
    {
      "cell_type": "markdown",
      "metadata": {
        "id": "_S7FJFXexb3o"
      },
      "source": [
        "Задание 3.\n",
        "\n",
        "Выполните для векторов выше `reshape` в\n",
        "* 2 произвольных компоненты\n",
        "* 3 произвольных компоненты\n",
        "* 4 произвольных компоненты"
      ],
      "id": "_S7FJFXexb3o"
    },
    {
      "cell_type": "code",
      "metadata": {
        "id": "XDWmmsoYXBDP",
        "colab": {
          "base_uri": "https://localhost:8080/"
        },
        "outputId": "28f5d957-342e-4226-d322-98dbb5e824f3"
      },
      "source": [
        "# Ваш код\n",
        "a1.reshape((5, 1))\n",
        "a1.reshape((5, 1, 1))\n",
        "b1.reshape((1, 1, 1, 5))\n",
        "b2.reshape((1, 5))\n",
        "a2.reshape((5, 1, 1))\n",
        "b2.reshape((1, 1, 1, 5))\n",
        "a3.reshape((4, 5))\n",
        "a3.reshape((1, 5, 4))\n",
        "b3.reshape((1, 1, 10, 2))\n",
        "a4.reshape((2, 18))\n",
        "a4.reshape((2, 6, 3))\n",
        "b4.reshape((1, 3, 3, 4))\n",
        "a5.reshape((12, 2))\n",
        "b5.reshape((1, 4, 6))\n",
        "b5.reshape((1, 2, 3, 4))"
      ],
      "id": "XDWmmsoYXBDP",
      "execution_count": 57,
      "outputs": [
        {
          "output_type": "execute_result",
          "data": {
            "text/plain": [
              "array([[[[1, 1, 1, 1],\n",
              "         [1, 1, 1, 1],\n",
              "         [1, 1, 1, 1]],\n",
              "\n",
              "        [[1, 1, 1, 1],\n",
              "         [1, 1, 1, 1],\n",
              "         [1, 1, 1, 1]]]])"
            ]
          },
          "metadata": {},
          "execution_count": 57
        }
      ]
    },
    {
      "cell_type": "markdown",
      "metadata": {
        "id": "Kp3SvzHyxyPp"
      },
      "source": [
        "Задание 4.\n",
        "\n",
        "Для вектора ниже посчитайте его\n",
        "* Максимум по 1 оси\n",
        "* Минимум по 0 оси\n",
        "* Сумму по всем осям\n",
        "* Среднее по 0 оси\n",
        "* Медиану по 1 оси"
      ],
      "id": "Kp3SvzHyxyPp"
    },
    {
      "cell_type": "code",
      "metadata": {
        "id": "5GcaTzGPx9Tk",
        "colab": {
          "base_uri": "https://localhost:8080/"
        },
        "outputId": "86bfe8e5-0698-4147-e62c-43c8a46282fe"
      },
      "source": [
        "v = np.random.randint(0, 9, size=(5, 7))\n",
        "v"
      ],
      "id": "5GcaTzGPx9Tk",
      "execution_count": 58,
      "outputs": [
        {
          "output_type": "execute_result",
          "data": {
            "text/plain": [
              "array([[4, 7, 6, 1, 6, 0, 1],\n",
              "       [1, 1, 7, 0, 5, 3, 3],\n",
              "       [7, 1, 4, 5, 6, 3, 0],\n",
              "       [7, 1, 2, 3, 8, 1, 6],\n",
              "       [8, 5, 8, 6, 0, 1, 4]])"
            ]
          },
          "metadata": {},
          "execution_count": 58
        }
      ]
    },
    {
      "cell_type": "code",
      "metadata": {
        "id": "iZT6E7esxsI1",
        "colab": {
          "base_uri": "https://localhost:8080/"
        },
        "outputId": "f5b7cae1-e7c7-4135-9baf-773dc312e26c"
      },
      "source": [
        "# Ваш код\n",
        "max_ax1 = np.max(v, axis=1)\n",
        "min_ax0 = np.min(v, axis=0)\n",
        "sum_of_all = np.sum(v)\n",
        "mean_ax0 = np.mean(v, axis=0)\n",
        "median_ax1 = np.median(v, axis=1)\n",
        "print(max_ax1)\n",
        "print(min_ax0)\n",
        "print(sum_of_all)\n",
        "print(mean_ax0)\n",
        "print(median_ax1)"
      ],
      "id": "iZT6E7esxsI1",
      "execution_count": 59,
      "outputs": [
        {
          "output_type": "stream",
          "name": "stdout",
          "text": [
            "[7 7 7 8 8]\n",
            "[1 1 2 0 0 0 0]\n",
            "131\n",
            "[5.4 3.  5.4 3.  5.  1.6 2.8]\n",
            "[4. 3. 4. 3. 5.]\n"
          ]
        }
      ]
    },
    {
      "cell_type": "markdown",
      "metadata": {
        "id": "EiVqZFtpyOHm"
      },
      "source": [
        "Задание 6.\n",
        "\n",
        "Для всё того же вектора `v` выведите\n",
        "* Его shape\n",
        "* 0 компоненту его \"формы\"\n",
        "* 1 компоненту его \"формы\""
      ],
      "id": "EiVqZFtpyOHm"
    },
    {
      "cell_type": "code",
      "metadata": {
        "id": "AazCPchWyYGa",
        "colab": {
          "base_uri": "https://localhost:8080/"
        },
        "outputId": "be8df3e2-9fc0-40ae-d877-641777e2b2da"
      },
      "source": [
        "# Ваш код\n",
        "v_shape = v.shape\n",
        "print(v_shape)\n",
        "print(v_shape[0])\n",
        "print(v_shape[1])"
      ],
      "id": "AazCPchWyYGa",
      "execution_count": 60,
      "outputs": [
        {
          "output_type": "stream",
          "name": "stdout",
          "text": [
            "(5, 7)\n",
            "5\n",
            "7\n"
          ]
        }
      ]
    },
    {
      "cell_type": "markdown",
      "metadata": {
        "id": "9bdU9sq1ygiF"
      },
      "source": [
        "Задание 7.\n",
        "\n",
        "Для этого же вектора выведите\n",
        "* Все числа больше 5\n",
        "* Все числа меньше 7 в обратном порядке\n",
        "* Все числа больше 3, которые делятся на 4 без остатка\n",
        "* Все числа, остаток от деления на 5 которых равен 3\n",
        "* Индекс максимума\n",
        "* Индекс минимума\n",
        "* Отсортированный список индексов"
      ],
      "id": "9bdU9sq1ygiF"
    },
    {
      "cell_type": "code",
      "metadata": {
        "id": "WW0nmIYwyfLA",
        "colab": {
          "base_uri": "https://localhost:8080/"
        },
        "outputId": "f388b004-8175-482c-c14b-3be2a423644d"
      },
      "source": [
        "# Ваш код\n",
        "print(v[v > 5])\n",
        "print(v[v < 7][::-1])\n",
        "print(v[(v > 3) & (v % 4 == 0)])\n",
        "print(v[v % 5 == 3])\n",
        "print(np.argmax(v))\n",
        "print(np.argmin(v))\n",
        "print(np.argsort(v))"
      ],
      "id": "WW0nmIYwyfLA",
      "execution_count": 61,
      "outputs": [
        {
          "output_type": "stream",
          "name": "stdout",
          "text": [
            "[7 6 6 7 7 6 7 8 6 8 8 6]\n",
            "[4 1 0 6 5 6 1 3 2 1 0 3 6 5 4 1 3 3 5 0 1 1 1 0 6 1 6 4]\n",
            "[4 4 8 8 8 4]\n",
            "[3 3 3 3 8 8 8]\n",
            "25\n",
            "5\n",
            "[[5 3 6 0 2 4 1]\n",
            " [3 0 1 5 6 4 2]\n",
            " [6 1 5 2 3 4 0]\n",
            " [1 5 2 3 6 0 4]\n",
            " [4 5 6 1 3 0 2]]\n"
          ]
        }
      ]
    },
    {
      "cell_type": "markdown",
      "metadata": {
        "id": "pd7gVNl9zN-s"
      },
      "source": [
        "Задание 8.\n",
        "\n",
        "Выполните следующие операции над вектором (независимо, не обязательно делать это в последовательности):\n",
        "* Умножьте его на 3\n",
        "* Разделите на 7\n",
        "* Возведите в степень $\\frac{2}{3}$\n",
        "* Посчитайте $\\sin$ от него\n",
        "* Посчитайте $\\log$ от него"
      ],
      "id": "pd7gVNl9zN-s"
    },
    {
      "cell_type": "code",
      "metadata": {
        "id": "iTQeUeJ2zNkz",
        "colab": {
          "base_uri": "https://localhost:8080/"
        },
        "outputId": "8d77bb09-94f8-4a5f-80fb-edc221bf28e7"
      },
      "source": [
        "# Ваш код\n",
        "print(v * 3)\n",
        "print(v / 7)\n",
        "print(v ** (2/3))\n",
        "print(np.sin(v))\n",
        "print(np.log1p(v))"
      ],
      "id": "iTQeUeJ2zNkz",
      "execution_count": 62,
      "outputs": [
        {
          "output_type": "stream",
          "name": "stdout",
          "text": [
            "[[12 21 18  3 18  0  3]\n",
            " [ 3  3 21  0 15  9  9]\n",
            " [21  3 12 15 18  9  0]\n",
            " [21  3  6  9 24  3 18]\n",
            " [24 15 24 18  0  3 12]]\n",
            "[[0.57142857 1.         0.85714286 0.14285714 0.85714286 0.\n",
            "  0.14285714]\n",
            " [0.14285714 0.14285714 1.         0.         0.71428571 0.42857143\n",
            "  0.42857143]\n",
            " [1.         0.14285714 0.57142857 0.71428571 0.85714286 0.42857143\n",
            "  0.        ]\n",
            " [1.         0.14285714 0.28571429 0.42857143 1.14285714 0.14285714\n",
            "  0.85714286]\n",
            " [1.14285714 0.71428571 1.14285714 0.85714286 0.         0.14285714\n",
            "  0.57142857]]\n",
            "[[2.5198421  3.65930571 3.30192725 1.         3.30192725 0.\n",
            "  1.        ]\n",
            " [1.         1.         3.65930571 0.         2.92401774 2.08008382\n",
            "  2.08008382]\n",
            " [3.65930571 1.         2.5198421  2.92401774 3.30192725 2.08008382\n",
            "  0.        ]\n",
            " [3.65930571 1.         1.58740105 2.08008382 4.         1.\n",
            "  3.30192725]\n",
            " [4.         2.92401774 4.         3.30192725 0.         1.\n",
            "  2.5198421 ]]\n",
            "[[-0.7568025   0.6569866  -0.2794155   0.84147098 -0.2794155   0.\n",
            "   0.84147098]\n",
            " [ 0.84147098  0.84147098  0.6569866   0.         -0.95892427  0.14112001\n",
            "   0.14112001]\n",
            " [ 0.6569866   0.84147098 -0.7568025  -0.95892427 -0.2794155   0.14112001\n",
            "   0.        ]\n",
            " [ 0.6569866   0.84147098  0.90929743  0.14112001  0.98935825  0.84147098\n",
            "  -0.2794155 ]\n",
            " [ 0.98935825 -0.95892427  0.98935825 -0.2794155   0.          0.84147098\n",
            "  -0.7568025 ]]\n",
            "[[1.60943791 2.07944154 1.94591015 0.69314718 1.94591015 0.\n",
            "  0.69314718]\n",
            " [0.69314718 0.69314718 2.07944154 0.         1.79175947 1.38629436\n",
            "  1.38629436]\n",
            " [2.07944154 0.69314718 1.60943791 1.79175947 1.94591015 1.38629436\n",
            "  0.        ]\n",
            " [2.07944154 0.69314718 1.09861229 1.38629436 2.19722458 0.69314718\n",
            "  1.94591015]\n",
            " [2.19722458 1.79175947 2.19722458 1.94591015 0.         0.69314718\n",
            "  1.60943791]]\n"
          ]
        }
      ]
    },
    {
      "cell_type": "markdown",
      "metadata": {
        "id": "Njvzyat9w9Jw"
      },
      "source": [
        "### Разные инициализации + индексирование (3 балла)"
      ],
      "id": "Njvzyat9w9Jw"
    },
    {
      "cell_type": "markdown",
      "metadata": {
        "id": "IXB2M-hrB1C5"
      },
      "source": [
        "Задание 9.\n",
        "\n",
        "Необходимо построить квадрат $3 \\times 3$ из нечётных чисел"
      ],
      "id": "IXB2M-hrB1C5"
    },
    {
      "cell_type": "code",
      "metadata": {
        "id": "0pnAlUNO8w1h",
        "colab": {
          "base_uri": "https://localhost:8080/"
        },
        "outputId": "a8138dc5-d58e-4b4c-cf43-21d7e879d4e8"
      },
      "source": [
        "# Ваш код\n",
        "print(np.arange(1,18, 2).reshape((3, 3)))"
      ],
      "id": "0pnAlUNO8w1h",
      "execution_count": 63,
      "outputs": [
        {
          "output_type": "stream",
          "name": "stdout",
          "text": [
            "[[ 1  3  5]\n",
            " [ 7  9 11]\n",
            " [13 15 17]]\n"
          ]
        }
      ]
    },
    {
      "cell_type": "markdown",
      "metadata": {
        "id": "HmlcbwtOB5OT"
      },
      "source": [
        "Задание 10.\n",
        "\n",
        "Необходимо построить квадрат $4 \\times 4$ из четных чисел в обратном порядке"
      ],
      "id": "HmlcbwtOB5OT"
    },
    {
      "cell_type": "code",
      "metadata": {
        "id": "W0lqLNBB81-U",
        "colab": {
          "base_uri": "https://localhost:8080/"
        },
        "outputId": "cfc67e85-a8cc-4085-f9ca-b98e78e14db2"
      },
      "source": [
        "# Ваш код\n",
        "print(np.arange(-16, 15, 2)[::-1].reshape(4,4))"
      ],
      "id": "W0lqLNBB81-U",
      "execution_count": 64,
      "outputs": [
        {
          "output_type": "stream",
          "name": "stdout",
          "text": [
            "[[ 14  12  10   8]\n",
            " [  6   4   2   0]\n",
            " [ -2  -4  -6  -8]\n",
            " [-10 -12 -14 -16]]\n"
          ]
        }
      ]
    },
    {
      "cell_type": "markdown",
      "metadata": {
        "id": "IeOvIqrFB8zI"
      },
      "source": [
        "Задание 11.\n",
        "\n",
        "Необходимо построить сетку координат $11 \\times 11$ с точкой $(0,0)$ в центре и шагом $0.1$ между клетками"
      ],
      "id": "IeOvIqrFB8zI"
    },
    {
      "cell_type": "code",
      "metadata": {
        "colab": {
          "base_uri": "https://localhost:8080/"
        },
        "id": "bGtgyKE-Y-KS",
        "outputId": "9dd737f1-a5fa-44a9-9b3a-b1351461703a"
      },
      "source": [
        "x = [-0.5, -0.4, -0.3, -0.2, -0.1, 0.0, 0.1, 0.2, 0.3, 0.4, 0.5] # красивый вариант\n",
        "#x = np.arange(-0.5, 0.6, 0.1) # некрасивый вариант\n",
        "grid = np.zeros((11,11), [('x', float),('y', float)])\n",
        "grid['x'], grid['y'] = np.meshgrid(x, x[::-1])\n",
        "grid\n",
        "# не до конца понял, как сделать, чтобы ровно 11 tupl'ов было на 1 строчке"
      ],
      "id": "bGtgyKE-Y-KS",
      "execution_count": 65,
      "outputs": [
        {
          "output_type": "execute_result",
          "data": {
            "text/plain": [
              "array([[(-0.5,  0.5), (-0.4,  0.5), (-0.3,  0.5), (-0.2,  0.5),\n",
              "        (-0.1,  0.5), ( 0. ,  0.5), ( 0.1,  0.5), ( 0.2,  0.5),\n",
              "        ( 0.3,  0.5), ( 0.4,  0.5), ( 0.5,  0.5)],\n",
              "       [(-0.5,  0.4), (-0.4,  0.4), (-0.3,  0.4), (-0.2,  0.4),\n",
              "        (-0.1,  0.4), ( 0. ,  0.4), ( 0.1,  0.4), ( 0.2,  0.4),\n",
              "        ( 0.3,  0.4), ( 0.4,  0.4), ( 0.5,  0.4)],\n",
              "       [(-0.5,  0.3), (-0.4,  0.3), (-0.3,  0.3), (-0.2,  0.3),\n",
              "        (-0.1,  0.3), ( 0. ,  0.3), ( 0.1,  0.3), ( 0.2,  0.3),\n",
              "        ( 0.3,  0.3), ( 0.4,  0.3), ( 0.5,  0.3)],\n",
              "       [(-0.5,  0.2), (-0.4,  0.2), (-0.3,  0.2), (-0.2,  0.2),\n",
              "        (-0.1,  0.2), ( 0. ,  0.2), ( 0.1,  0.2), ( 0.2,  0.2),\n",
              "        ( 0.3,  0.2), ( 0.4,  0.2), ( 0.5,  0.2)],\n",
              "       [(-0.5,  0.1), (-0.4,  0.1), (-0.3,  0.1), (-0.2,  0.1),\n",
              "        (-0.1,  0.1), ( 0. ,  0.1), ( 0.1,  0.1), ( 0.2,  0.1),\n",
              "        ( 0.3,  0.1), ( 0.4,  0.1), ( 0.5,  0.1)],\n",
              "       [(-0.5,  0. ), (-0.4,  0. ), (-0.3,  0. ), (-0.2,  0. ),\n",
              "        (-0.1,  0. ), ( 0. ,  0. ), ( 0.1,  0. ), ( 0.2,  0. ),\n",
              "        ( 0.3,  0. ), ( 0.4,  0. ), ( 0.5,  0. )],\n",
              "       [(-0.5, -0.1), (-0.4, -0.1), (-0.3, -0.1), (-0.2, -0.1),\n",
              "        (-0.1, -0.1), ( 0. , -0.1), ( 0.1, -0.1), ( 0.2, -0.1),\n",
              "        ( 0.3, -0.1), ( 0.4, -0.1), ( 0.5, -0.1)],\n",
              "       [(-0.5, -0.2), (-0.4, -0.2), (-0.3, -0.2), (-0.2, -0.2),\n",
              "        (-0.1, -0.2), ( 0. , -0.2), ( 0.1, -0.2), ( 0.2, -0.2),\n",
              "        ( 0.3, -0.2), ( 0.4, -0.2), ( 0.5, -0.2)],\n",
              "       [(-0.5, -0.3), (-0.4, -0.3), (-0.3, -0.3), (-0.2, -0.3),\n",
              "        (-0.1, -0.3), ( 0. , -0.3), ( 0.1, -0.3), ( 0.2, -0.3),\n",
              "        ( 0.3, -0.3), ( 0.4, -0.3), ( 0.5, -0.3)],\n",
              "       [(-0.5, -0.4), (-0.4, -0.4), (-0.3, -0.4), (-0.2, -0.4),\n",
              "        (-0.1, -0.4), ( 0. , -0.4), ( 0.1, -0.4), ( 0.2, -0.4),\n",
              "        ( 0.3, -0.4), ( 0.4, -0.4), ( 0.5, -0.4)],\n",
              "       [(-0.5, -0.5), (-0.4, -0.5), (-0.3, -0.5), (-0.2, -0.5),\n",
              "        (-0.1, -0.5), ( 0. , -0.5), ( 0.1, -0.5), ( 0.2, -0.5),\n",
              "        ( 0.3, -0.5), ( 0.4, -0.5), ( 0.5, -0.5)]],\n",
              "      dtype=[('x', '<f8'), ('y', '<f8')])"
            ]
          },
          "metadata": {},
          "execution_count": 65
        }
      ]
    },
    {
      "cell_type": "markdown",
      "metadata": {
        "id": "BQD_BNN-CqCm"
      },
      "source": [
        "Задание 12.\n",
        "\n",
        "Замощение сетки $8\\times8$ при помощи $0$ и $1$ в шахматном порядке, клетка с индексом $(0,0)$ замощается $1$"
      ],
      "id": "BQD_BNN-CqCm"
    },
    {
      "cell_type": "code",
      "metadata": {
        "id": "whMdrRLx9G8Y",
        "colab": {
          "base_uri": "https://localhost:8080/"
        },
        "outputId": "cba40e5a-0724-44ce-def3-0e5caf95be5a"
      },
      "source": [
        "# Ваш код\n",
        "chess_grid = np.zeros((8,8), dtype=int)\n",
        "chess_grid[::2, ::2] = 1\n",
        "chess_grid[1::2, 1::2] = 1\n",
        "print(chess_grid)"
      ],
      "id": "whMdrRLx9G8Y",
      "execution_count": 66,
      "outputs": [
        {
          "output_type": "stream",
          "name": "stdout",
          "text": [
            "[[1 0 1 0 1 0 1 0]\n",
            " [0 1 0 1 0 1 0 1]\n",
            " [1 0 1 0 1 0 1 0]\n",
            " [0 1 0 1 0 1 0 1]\n",
            " [1 0 1 0 1 0 1 0]\n",
            " [0 1 0 1 0 1 0 1]\n",
            " [1 0 1 0 1 0 1 0]\n",
            " [0 1 0 1 0 1 0 1]]\n"
          ]
        }
      ]
    },
    {
      "cell_type": "markdown",
      "metadata": {
        "id": "5tl1is5hCxH7"
      },
      "source": [
        "Задание 13.\n",
        "\n",
        "То же замощение, но клетка с индексом $(0,0)$ замощается $0$"
      ],
      "id": "5tl1is5hCxH7"
    },
    {
      "cell_type": "code",
      "metadata": {
        "id": "TP8Risy79TkG",
        "colab": {
          "base_uri": "https://localhost:8080/"
        },
        "outputId": "2cfb042f-cfdd-402b-8895-ec5d293f10ac"
      },
      "source": [
        "# Ваш код\n",
        "mask = np.logical_not(chess_grid == 0)\n",
        "chess_grid[np.logical_not(chess_grid == 1)] = 1\n",
        "chess_grid[mask] = 0\n",
        "chess_grid\n",
        "# можно было просто и проще :\n",
        "# chess_grid[1::2, 1::2] = 1\n",
        "# chess_grid[::2, ::2] = 1"
      ],
      "id": "TP8Risy79TkG",
      "execution_count": 67,
      "outputs": [
        {
          "output_type": "execute_result",
          "data": {
            "text/plain": [
              "array([[0, 1, 0, 1, 0, 1, 0, 1],\n",
              "       [1, 0, 1, 0, 1, 0, 1, 0],\n",
              "       [0, 1, 0, 1, 0, 1, 0, 1],\n",
              "       [1, 0, 1, 0, 1, 0, 1, 0],\n",
              "       [0, 1, 0, 1, 0, 1, 0, 1],\n",
              "       [1, 0, 1, 0, 1, 0, 1, 0],\n",
              "       [0, 1, 0, 1, 0, 1, 0, 1],\n",
              "       [1, 0, 1, 0, 1, 0, 1, 0]])"
            ]
          },
          "metadata": {},
          "execution_count": 67
        }
      ]
    },
    {
      "cell_type": "markdown",
      "metadata": {
        "id": "xwut71HZC401"
      },
      "source": [
        "Задание 14.\n",
        "\n",
        "Необходимо построить нижне-треугольную матрицу переменного размера (задается передачей параметра в функцию). Это единичная матрица,замощённая $1$ под главной диагональю"
      ],
      "id": "xwut71HZC401"
    },
    {
      "cell_type": "code",
      "metadata": {
        "id": "f819Rv2uxDOz",
        "colab": {
          "base_uri": "https://localhost:8080/"
        },
        "outputId": "bde8d420-4d13-4c50-c251-ec417e1ed04a"
      },
      "source": [
        "# Ваш код i < j - условние нижнетреугольности\n",
        "def create_lower_triangular_matrix(size=3):\n",
        "    M = np.ones((size, size), dtype=int)\n",
        "    M[np.triu_indices(size, k=1)] = 0\n",
        "    return M\n",
        "\n",
        "print(create_lower_triangular_matrix(5))"
      ],
      "id": "f819Rv2uxDOz",
      "execution_count": 68,
      "outputs": [
        {
          "output_type": "stream",
          "name": "stdout",
          "text": [
            "[[1 0 0 0 0]\n",
            " [1 1 0 0 0]\n",
            " [1 1 1 0 0]\n",
            " [1 1 1 1 0]\n",
            " [1 1 1 1 1]]\n"
          ]
        }
      ]
    },
    {
      "cell_type": "markdown",
      "metadata": {
        "id": "vhkgdaj3DGGr"
      },
      "source": [
        "Задание 15.\n",
        "\n",
        "Необходимо построить верхне-треугольную матрицу переменного размера. Это единичная матрица, замощённая $1$ над главной диагональю"
      ],
      "id": "vhkgdaj3DGGr"
    },
    {
      "cell_type": "code",
      "metadata": {
        "id": "bwsDUhYT9kP0",
        "colab": {
          "base_uri": "https://localhost:8080/"
        },
        "outputId": "feaac19b-4588-4f84-da05-a0c136c6d9e2"
      },
      "source": [
        "# Ваш код\n",
        "def create_upper_triangular_matrix(size=3):\n",
        "    M = np.ones((size, size), dtype=int)\n",
        "    M[np.tril_indices(size, k=-1)] = 0\n",
        "    return M\n",
        "\n",
        "print(create_upper_triangular_matrix(5))"
      ],
      "id": "bwsDUhYT9kP0",
      "execution_count": 69,
      "outputs": [
        {
          "output_type": "stream",
          "name": "stdout",
          "text": [
            "[[1 1 1 1 1]\n",
            " [0 1 1 1 1]\n",
            " [0 0 1 1 1]\n",
            " [0 0 0 1 1]\n",
            " [0 0 0 0 1]]\n"
          ]
        }
      ]
    },
    {
      "cell_type": "markdown",
      "metadata": {
        "id": "L2HbqtTjDM1a"
      },
      "source": [
        "Задание 16.\n",
        "\n",
        "Необходимо построить матрицу, в которой единицы стоят на побочной диагонали (идущей из левого нижнего угла в правый верхний), в остальных местах стоят $0$"
      ],
      "id": "L2HbqtTjDM1a"
    },
    {
      "cell_type": "code",
      "metadata": {
        "id": "vM6ez-K69to2",
        "colab": {
          "base_uri": "https://localhost:8080/"
        },
        "outputId": "c6552202-fab6-4838-ab30-d5a9f3718da4"
      },
      "source": [
        "# Ваш код\n",
        "def matrix(size=3):\n",
        "    M = np.eye(size, dtype=int)\n",
        "    return np.fliplr(M)\n",
        "print(matrix(4))"
      ],
      "id": "vM6ez-K69to2",
      "execution_count": 70,
      "outputs": [
        {
          "output_type": "stream",
          "name": "stdout",
          "text": [
            "[[0 0 0 1]\n",
            " [0 0 1 0]\n",
            " [0 1 0 0]\n",
            " [1 0 0 0]]\n"
          ]
        }
      ]
    },
    {
      "cell_type": "markdown",
      "metadata": {
        "id": "xeL6jav0w0U-"
      },
      "source": [
        "### Операции + аггрегации (3 балла)"
      ],
      "id": "xeL6jav0w0U-"
    },
    {
      "cell_type": "markdown",
      "metadata": {
        "id": "vOPIAFopHUKs"
      },
      "source": [
        "Задание 17.\n",
        "\n",
        "Дана выборка $\\{X_i\\}$ некоторой случайной величины $X$, необходимо оценить\n",
        "* Математическое ожидание $E[X] = \\frac{1}{N}\\sum_{i=1}^N X_i$ этой случайной величины\n",
        "* Дисперсию $D[X] = \\frac{1}{N}\\sum_{i=1}^N (X_i - E[X])^2$ этой случайной величины"
      ],
      "id": "vOPIAFopHUKs"
    },
    {
      "cell_type": "code",
      "metadata": {
        "id": "uHQ-DiR4JB0p"
      },
      "source": [
        "def expected_value(x):\n",
        "    return sum(x) / len(x)\n",
        "\n",
        "\n",
        "def dispersion(x):\n",
        "    d = 0\n",
        "    e = expected_value(x)\n",
        "    for x_i in x:\n",
        "        d += (x_i - e) ** 2\n",
        "    return d / len(x)"
      ],
      "id": "uHQ-DiR4JB0p",
      "execution_count": 71,
      "outputs": []
    },
    {
      "cell_type": "code",
      "metadata": {
        "id": "XVFo8hitHSav"
      },
      "source": [
        "def expected_value_np(x):\n",
        "    return np.mean(x)"
      ],
      "id": "XVFo8hitHSav",
      "execution_count": 72,
      "outputs": []
    },
    {
      "cell_type": "code",
      "metadata": {
        "id": "f2jCC5EjJkl0"
      },
      "source": [
        "def dispersion_np(x):\n",
        "    return np.var(x)"
      ],
      "id": "f2jCC5EjJkl0",
      "execution_count": 73,
      "outputs": []
    },
    {
      "cell_type": "code",
      "metadata": {
        "id": "dEGp_cuFJoX9"
      },
      "source": [
        "np.testing.assert_array_equal(expected_value([1]), expected_value_np(np.array([1])))\n",
        "np.testing.assert_array_equal(expected_value([3, 4]), expected_value_np(np.array([3, 4])))\n",
        "np.testing.assert_array_equal(expected_value([-1, 0, 1]), expected_value_np(np.array([-1, 0, 1])))\n",
        "np.testing.assert_array_equal(expected_value([-99, -98]), expected_value_np(np.array([-99, -98])))\n",
        "\n",
        "np.testing.assert_array_equal(dispersion([1]), dispersion_np(np.array([1])))\n",
        "np.testing.assert_array_equal(dispersion([3, 4]), dispersion_np(np.array([3, 4])))\n",
        "np.testing.assert_array_equal(dispersion([-1, 0, 1]), dispersion_np(np.array([-1, 0, 1])))\n",
        "np.testing.assert_array_equal(dispersion([-99, -98]), dispersion_np(np.array([-99, -98])))"
      ],
      "id": "dEGp_cuFJoX9",
      "execution_count": 74,
      "outputs": []
    },
    {
      "cell_type": "markdown",
      "metadata": {
        "id": "BO9aCDmYBf1R"
      },
      "source": [
        "Задание 18.\n",
        "\n",
        "Даны два вектора $y_1$ и $y_2$, нужно посчитать среднее арифметическое квадратов разностей их значений"
      ],
      "id": "BO9aCDmYBf1R"
    },
    {
      "cell_type": "code",
      "metadata": {
        "id": "5ZgYjfj5KW4g"
      },
      "source": [
        "def mean_square_difference(y1, y2):\n",
        "    assert len(y1) == len(y2) # Здесь и далее эти проверки !не нужно! дублировать в свои функции; Здесь они для того, чтобы лишний раз подчеркнуть валидность входных данных\n",
        "    s = 0\n",
        "    for i in range(len(y1)):\n",
        "        s += (y1[i] - y2[i]) ** 2\n",
        "    return s / len(y1)"
      ],
      "id": "5ZgYjfj5KW4g",
      "execution_count": 75,
      "outputs": []
    },
    {
      "cell_type": "code",
      "metadata": {
        "id": "r3kxTnLlw7dA"
      },
      "source": [
        "def mean_square_difference_np(y1, y2):\n",
        "    return ((y1 - y2).T).dot((y1 - y2)) / y1.shape[0]"
      ],
      "id": "r3kxTnLlw7dA",
      "execution_count": 76,
      "outputs": []
    },
    {
      "cell_type": "code",
      "metadata": {
        "id": "CVuNT_iRKrFM"
      },
      "source": [
        "assert mean_square_difference([1], [1]) == mean_square_difference_np(np.array([1]), np.array([1]))\n",
        "assert mean_square_difference([1, 2], [1, 2]) == mean_square_difference_np(np.array([1, 2]), np.array([1, 2]))\n",
        "assert mean_square_difference([-1, 1], [0, 0]) == mean_square_difference_np(np.array([-1, 1]), np.array([0, 0]))\n",
        "assert mean_square_difference([-3, -2, 0, 1, 4], [-2, -2, -1, -1, 5]) == mean_square_difference_np(np.array([-3, -2, 0, 1, 4]), np.array([-2, -2, -1, -1, 5]))"
      ],
      "id": "CVuNT_iRKrFM",
      "execution_count": 77,
      "outputs": []
    },
    {
      "cell_type": "markdown",
      "metadata": {
        "id": "FlYEqBJuBeX_"
      },
      "source": [
        "Задание 19.\n",
        "\n",
        "Даны два вектора $y_1$ и $y_2$, нужно посчитать среднее арифметическое модулей разностей их значений"
      ],
      "id": "FlYEqBJuBeX_"
    },
    {
      "cell_type": "code",
      "metadata": {
        "id": "YYFm_USNLR0g"
      },
      "source": [
        "def mean_abs_difference(y1, y2):\n",
        "    assert len(y1) == len(y2)\n",
        "    s = 0\n",
        "    for i in range(len(y1)):\n",
        "        s += abs(y1[i] - y2[i])\n",
        "    return s / len(y1)"
      ],
      "id": "YYFm_USNLR0g",
      "execution_count": 78,
      "outputs": []
    },
    {
      "cell_type": "code",
      "metadata": {
        "id": "YND9wAXGLSrU"
      },
      "source": [
        "def mean_abs_difference_np(y1, y2):\n",
        "    return np.sum(np.abs(y1 - y2)) / y1.shape[0]"
      ],
      "id": "YND9wAXGLSrU",
      "execution_count": 79,
      "outputs": []
    },
    {
      "cell_type": "code",
      "metadata": {
        "id": "a6AVnlOp-N_E"
      },
      "source": [
        "assert mean_abs_difference([1], [1]) == mean_abs_difference_np(np.array([1]), np.array([1]))\n",
        "assert mean_abs_difference([1, 2], [1, 2]) == mean_abs_difference_np(np.array([1, 2]), np.array([1, 2]))\n",
        "assert mean_abs_difference([-1, 1], [0, 0]) == mean_abs_difference_np(np.array([-1, 1]), np.array([0, 0]))\n",
        "assert mean_abs_difference([-3, -2, 0, 1, 4], [-2, -2, -1, -1, 5]) == mean_abs_difference_np(np.array([-3, -2, 0, 1, 4]), np.array([-2, -2, -1, -1, 5]))"
      ],
      "id": "a6AVnlOp-N_E",
      "execution_count": 80,
      "outputs": []
    },
    {
      "cell_type": "markdown",
      "metadata": {
        "id": "MCJcY2TDBVX2"
      },
      "source": [
        "Задание 20.\n",
        "\n",
        "Даны два вектора $y_1$ и $y_2$, в которых присутствуют только $0$ и $1$. Необходимо посчитать вероятность совпадения - в скольких точках значения двух векторов совпадают"
      ],
      "id": "MCJcY2TDBVX2"
    },
    {
      "cell_type": "code",
      "metadata": {
        "id": "MFRHNu3RLdAM"
      },
      "source": [
        "def matching_proba(y1, y2):\n",
        "    assert len(y1) == len(y2)\n",
        "    assert len(set(y1)) <= 2\n",
        "    assert len(set(y2)) <= 2\n",
        "    assert 0 in set(y1) or 1 in set(y1) or (0 in set(y1) and 1 in set(y1))\n",
        "    assert 0 in set(y2) or 1 in set(y2) or (0 in set(y2) and 1 in set(y2))\n",
        "\n",
        "    return sum([y1[i] == y2[i] for i in range(len(y1))]) / len(y1)"
      ],
      "id": "MFRHNu3RLdAM",
      "execution_count": 81,
      "outputs": []
    },
    {
      "cell_type": "code",
      "metadata": {
        "id": "C48P4bQBMnZQ"
      },
      "source": [
        "def matching_proba_np(y1, y2):\n",
        "    return np.sum(y1 == y2) / y1.shape[0]"
      ],
      "id": "C48P4bQBMnZQ",
      "execution_count": 82,
      "outputs": []
    },
    {
      "cell_type": "code",
      "metadata": {
        "id": "-DDiBxPEMZwu"
      },
      "source": [
        "np.testing.assert_array_equal(matching_proba([0, 1], [1, 0]), matching_proba_np(np.array([0, 1]), np.array([1, 0])))\n",
        "np.testing.assert_array_equal(matching_proba([0, 1, 0, 1], [0, 0, 1, 1]), matching_proba_np(np.array([0, 1, 0, 1]), np.array([0, 0, 1, 1])))\n",
        "np.testing.assert_array_equal(matching_proba([0, 0, 1, 1], [0, 0, 1, 1]), matching_proba_np(np.array([0, 0, 1, 1]), np.array([0, 0, 1, 1])))"
      ],
      "id": "-DDiBxPEMZwu",
      "execution_count": 83,
      "outputs": []
    },
    {
      "cell_type": "markdown",
      "metadata": {
        "id": "F_a98XRF_WnS"
      },
      "source": [
        "Задание 21.\n",
        "\n",
        "Даны два вектора: $y_1$, $y_2$. В $y_1$ и $y_2$ присутствуют только $0$ и $1$.\n",
        "\n",
        "* Необходимо найти границы (индексы), такие, что если мы разделим какой-то из них все два вектора, то в левой части пересекающихся в $y_1$ и $y_2$ нулей будет больше, чем единиц, а в правой - наоборот"
      ],
      "id": "F_a98XRF_WnS"
    },
    {
      "cell_type": "code",
      "metadata": {
        "id": "b6FUo3G_NDge"
      },
      "source": [
        "def find_thresholds(y1, y2, debug=False):\n",
        "    assert len(y1) == len(y2) and len(y1) > 0\n",
        "    n = len(y1)\n",
        "    matching_zeros = [1 if y1[i] == y2[i] == 0 else 0 for i in range(n)]\n",
        "    matching_ones = [1 if y1[i] == y2[i] == 1 else 0 for i in range(n)]\n",
        "    print(\"Matching zeros:\", matching_zeros)\n",
        "    print(\"Matching ones:\", matching_ones)\n",
        "    res = []\n",
        "    if sum(matching_ones) / n > 0.5:\n",
        "        res.append(0)\n",
        "    for i in range(1, n):\n",
        "        if debug: # если вам непонятна логика работы этой функции, передайте третьим аргументом True\n",
        "            print(matching_zeros[:i], matching_ones[i:], i)\n",
        "        if sum(matching_zeros[:i]) / i > 0.5 and sum(matching_ones[i:]) / (n - i) > 0.5:\n",
        "            res.append(i)\n",
        "    if sum(matching_zeros) / n > 0.5:\n",
        "        res.append(n)\n",
        "    return res"
      ],
      "id": "b6FUo3G_NDge",
      "execution_count": 84,
      "outputs": []
    },
    {
      "cell_type": "code",
      "metadata": {
        "id": "aD34QrPrReVK"
      },
      "source": [
        "def find_thresholds_np(y1, y2):\n",
        "    result = []\n",
        "    matching_zeros = (y2 == 0)&(y1 == 0)\n",
        "    matching_ones = (y2 == 1)&(y1 == 1)\n",
        "\n",
        "    percent_of_zeros_on_the_left_of_index = np.cumsum(matching_zeros)[:-1] / np.arange(1, y1.shape[0])\n",
        "    percent_of_ones_on_the_right_of_index = (\n",
        "        (np.cumsum((matching_ones)[::-1])[::-1])[:-1] / np.arange(1, y1.shape[0])[::-1]\n",
        "    )\n",
        "    if np.sum(matching_ones) / y1.shape[0] > 0.5:\n",
        "        result.append(0)\n",
        "    result = np.array(result, dtype=int)\n",
        "    mask = (percent_of_zeros_on_the_left_of_index > 0.5)&(percent_of_ones_on_the_right_of_index > 0.5)\n",
        "    mid_indices = np.arange(1, y1.shape[0])[mask]\n",
        "    \n",
        "    result = np.concatenate((result, mid_indices))\n",
        "    if np.sum(matching_zeros) / y1.shape[0] > 0.5:\n",
        "        result = np.concatenate((result, [y1.shape[0]]))\n",
        "    return result\n"
      ],
      "id": "aD34QrPrReVK",
      "execution_count": 85,
      "outputs": []
    },
    {
      "cell_type": "code",
      "metadata": {
        "id": "oSSMaAp3PT-R",
        "colab": {
          "base_uri": "https://localhost:8080/"
        },
        "outputId": "fcbf60d0-164f-4119-83b2-25011ec9238a"
      },
      "source": [
        "np.testing.assert_array_equal(find_thresholds([0], [0]), find_thresholds_np(np.array([0]), np.array([0])))\n",
        "np.testing.assert_array_equal(find_thresholds([1], [1]), find_thresholds_np(np.array([1]), np.array([1])))\n",
        "np.testing.assert_array_equal(\n",
        "    find_thresholds([0, 0, 1, 1], [0, 0, 1, 1]), \n",
        "    find_thresholds_np(np.array([0, 0, 1, 1]), np.array([0, 0, 1, 1]))\n",
        ")\n",
        "np.testing.assert_array_equal(\n",
        "    find_thresholds([0, 0, 1, 0, 0, 1, 1, 1], [0, 0, 0, 0, 0, 1, 1, 1]),\n",
        "    find_thresholds_np(np.array([0, 0, 1, 0, 0, 1, 1, 1]), np.array([0, 0, 0, 0, 0, 1, 1, 1]))\n",
        ")"
      ],
      "id": "oSSMaAp3PT-R",
      "execution_count": 86,
      "outputs": [
        {
          "output_type": "stream",
          "name": "stdout",
          "text": [
            "Matching zeros: [1]\n",
            "Matching ones: [0]\n",
            "Matching zeros: [0]\n",
            "Matching ones: [1]\n",
            "Matching zeros: [1, 1, 0, 0]\n",
            "Matching ones: [0, 0, 1, 1]\n",
            "Matching zeros: [1, 1, 0, 1, 1, 0, 0, 0]\n",
            "Matching ones: [0, 0, 0, 0, 0, 1, 1, 1]\n"
          ]
        }
      ]
    },
    {
      "cell_type": "markdown",
      "metadata": {
        "id": "QzL-JrqmxD8s"
      },
      "source": [
        "### Разные действия с матрицами (3 балла)"
      ],
      "id": "QzL-JrqmxD8s"
    },
    {
      "cell_type": "markdown",
      "metadata": {
        "id": "8cRkht0DTyJm"
      },
      "source": [
        "Задание 22.\n",
        "\n",
        "Дана матрица размера $(32, 3, 16, 16)$, заполненная случайными числами от 0 до 9. При помощи **ровно пяти** преобразований приведите её к виду $(32, 1)$. При выполнении задания **можно** создавать вспомогательные матрицы!"
      ],
      "id": "8cRkht0DTyJm"
    },
    {
      "cell_type": "code",
      "metadata": {
        "id": "XiBftUkYUJHx"
      },
      "source": [
        "data = np.random.randint(0, 10, size=(32, 3, 16, 16))\n",
        "\n",
        "# (∩｀-´)⊃━☆ﾟ.*･｡ﾟ\n",
        "\n",
        "#data = data.sum(axis=1).sum(axis=2).sum(axis=1).reshape((32, 1))\n",
        "### так можно? или использовать исключительно stack/concatenate?\n",
        "\n",
        "data = data.reshape((3, 32, 16, 16))\n",
        "data = np.concatenate((data[0], data[1], data[2]), axis=0).reshape((2, 16, 768))\n",
        "data = np.concatenate((data[0], data[1]), axis=0)\n",
        "data = np.sum(data, axis=1).reshape((32, 1))\n",
        "#можно еще так: data = data[:, 0].reshape((32, 1))\n",
        "# Преобразование 2\n",
        "# Преобразование 3\n",
        "# Преобразование 4\n",
        "# Преобразование 5\n",
        "\n",
        "assert data.shape == (32, 1)"
      ],
      "id": "XiBftUkYUJHx",
      "execution_count": 87,
      "outputs": []
    },
    {
      "cell_type": "markdown",
      "metadata": {
        "id": "BlZrnx1TU3Oe"
      },
      "source": [
        "Задание 23.\n",
        "\n",
        "Даны две матрицы $m_1$ размером $(32, 256)$ и $m_2$ размером $(32, 512)$, а также две вспомогательные матрицы $W_1$ размером $(256, 32)$ и $W_2$ размером $(512, 16)$. Сделайте так, чтобы на выходе получилась **ровно одна** матрица размером $(32, 32)$"
      ],
      "id": "BlZrnx1TU3Oe"
    },
    {
      "cell_type": "code",
      "metadata": {
        "id": "XiQOLjOgxENb"
      },
      "source": [
        "m1 = np.random.randint(0, 10, size=(32, 256))\n",
        "m2 = np.random.randint(0, 10, size=(32, 512))\n",
        "W1 = np.random.randint(0, 10, size=(256, 32))\n",
        "W2 = np.random.randint(0, 10, size=(512, 16))\n",
        "\n",
        "# (∩｀-´)⊃━☆ﾟ.*･｡ﾟ !!!magic!!!\n",
        "m1.resize((16, 512))\n",
        "W1.resize((16, 512))\n",
        "W2.resize((16, 512))\n",
        "W1 = W1 + W2\n",
        "m1 = np.hstack((m1, W1))\n",
        "m1.resize((512, 32))\n",
        "result = m2.dot(m1)\n",
        "\n",
        "assert result.shape == (32, 32)"
      ],
      "id": "XiQOLjOgxENb",
      "execution_count": 88,
      "outputs": []
    },
    {
      "cell_type": "markdown",
      "metadata": {
        "id": "dGTtWMlOWSyr"
      },
      "source": [
        "Задание 24.\n",
        "\n",
        "Последнее испытание для юного мага матриц - приведите полученную на последнем шаге матрицу к виду $(32, 3)$ и сделайте так, чтобы все значения в этой матрице были в промежутке от $0$ до $1$"
      ],
      "id": "dGTtWMlOWSyr"
    },
    {
      "cell_type": "code",
      "metadata": {
        "id": "JM1Ngv6oWSZE"
      },
      "source": [
        "# Вжух! (∩｀-´)⊃━☆ﾟ.*･｡ﾟ\n",
        "\n",
        "test = np.hsplit(result, [9, 20])\n",
        "test = list(map(lambda arr : np.sum(arr, axis=1) / np.sum(arr), test))\n",
        "result = np.vstack((test[0], test[1], test[2])) # можно ли так делать?...\n",
        "result.reshape(32, 3)\n",
        "\n",
        "assert ((result >= 0) & (result <= 1)).all()"
      ],
      "id": "JM1Ngv6oWSZE",
      "execution_count": 89,
      "outputs": []
    },
    {
      "cell_type": "code",
      "metadata": {
        "id": "p80rgKr7gn2X"
      },
      "source": [
        ""
      ],
      "id": "p80rgKr7gn2X",
      "execution_count": 89,
      "outputs": []
    }
  ]
}