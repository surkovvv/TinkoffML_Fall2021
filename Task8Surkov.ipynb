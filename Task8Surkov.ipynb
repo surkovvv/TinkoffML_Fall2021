{
  "nbformat": 4,
  "nbformat_minor": 0,
  "metadata": {
    "colab": {
      "name": "Task8Surkov",
      "provenance": [],
      "collapsed_sections": [],
      "include_colab_link": true
    },
    "kernelspec": {
      "name": "python3",
      "display_name": "Python 3"
    }
  },
  "cells": [
    {
      "cell_type": "markdown",
      "metadata": {
        "id": "view-in-github",
        "colab_type": "text"
      },
      "source": [
        "<a href=\"https://colab.research.google.com/github/surkovvv/TinkoffML_Fall2021/blob/main/Task8Surkov.ipynb\" target=\"_parent\"><img src=\"https://colab.research.google.com/assets/colab-badge.svg\" alt=\"Open In Colab\"/></a>"
      ]
    },
    {
      "cell_type": "markdown",
      "metadata": {
        "id": "EADmNKm_ucFI"
      },
      "source": [
        "## Homework"
      ]
    },
    {
      "cell_type": "code",
      "metadata": {
        "id": "wjurpt4KJmCh",
        "colab": {
          "base_uri": "https://localhost:8080/"
        },
        "outputId": "e7310aa2-715f-4fb4-e402-43ffdfdf6bbb"
      },
      "source": [
        "!wget --no-check-certificate 'https://docs.google.com/uc?export=download&id=1OKFSv2GpuUFDphO0r8LdM7bl6MAWwBfX' -O data.csv"
      ],
      "execution_count": 2,
      "outputs": [
        {
          "output_type": "stream",
          "name": "stdout",
          "text": [
            "--2021-12-12 17:42:41--  https://docs.google.com/uc?export=download&id=1OKFSv2GpuUFDphO0r8LdM7bl6MAWwBfX\n",
            "Resolving docs.google.com (docs.google.com)... 173.194.213.139, 173.194.213.102, 173.194.213.113, ...\n",
            "Connecting to docs.google.com (docs.google.com)|173.194.213.139|:443... connected.\n",
            "HTTP request sent, awaiting response... 302 Moved Temporarily\n",
            "Location: https://doc-04-ak-docs.googleusercontent.com/docs/securesc/ha0ro937gcuc7l7deffksulhg5h7mbp1/pkn350mv0btmrj4q17nm0pri4b94lqqc/1639330950000/03856158561714992485/*/1OKFSv2GpuUFDphO0r8LdM7bl6MAWwBfX?e=download [following]\n",
            "Warning: wildcards not supported in HTTP.\n",
            "--2021-12-12 17:42:42--  https://doc-04-ak-docs.googleusercontent.com/docs/securesc/ha0ro937gcuc7l7deffksulhg5h7mbp1/pkn350mv0btmrj4q17nm0pri4b94lqqc/1639330950000/03856158561714992485/*/1OKFSv2GpuUFDphO0r8LdM7bl6MAWwBfX?e=download\n",
            "Resolving doc-04-ak-docs.googleusercontent.com (doc-04-ak-docs.googleusercontent.com)... 173.194.217.132, 2607:f8b0:400c:c13::84\n",
            "Connecting to doc-04-ak-docs.googleusercontent.com (doc-04-ak-docs.googleusercontent.com)|173.194.217.132|:443... connected.\n",
            "HTTP request sent, awaiting response... 200 OK\n",
            "Length: 33322228 (32M) [text/csv]\n",
            "Saving to: ‘data.csv’\n",
            "\n",
            "data.csv            100%[===================>]  31.78M   147MB/s    in 0.2s    \n",
            "\n",
            "2021-12-12 17:42:43 (147 MB/s) - ‘data.csv’ saved [33322228/33322228]\n",
            "\n"
          ]
        }
      ]
    },
    {
      "cell_type": "markdown",
      "metadata": {
        "id": "UBAI5LS2xBSm"
      },
      "source": [
        "В этой домашней работе вы будете предсказывать стоимость домов по их характеристикам.\n",
        "\n",
        "Метрика качества: `RMSE`\n",
        "\n",
        "Оценивание:\n",
        "* Baseline - 2 балла\n",
        "* Feature Engineering - 2 балла\n",
        "* Model Selection - 3 балла\n",
        "* Ensemble v.1 - 3 балла\n",
        "* (*) Ensemble v.2 - дополнительно, 2 балла"
      ]
    },
    {
      "cell_type": "markdown",
      "metadata": {
        "id": "aBZhr_dw6HAn"
      },
      "source": [
        "### Описание датасета\n",
        "\n",
        "Короткое описание данных:\n",
        "```\n",
        "price: sale price (this is the target variable)\n",
        "id: transaction id\n",
        "timestamp: date of transaction\n",
        "full_sq: total area in square meters, including loggias, balconies and other non-residential areas\n",
        "life_sq: living area in square meters, excluding loggias, balconies and other non-residential areas\n",
        "floor: for apartments, floor of the building\n",
        "max_floor: number of floors in the building\n",
        "material: wall material\n",
        "build_year: year built\n",
        "num_room: number of living rooms\n",
        "kitch_sq: kitchen area\n",
        "state: apartment condition\n",
        "product_type: owner-occupier purchase or investment\n",
        "sub_area: name of the district\n",
        "\n",
        "The dataset also includes a collection of features about each property's surrounding neighbourhood, and some features that are constant across each sub area (known as a Raion). Most of the feature names are self explanatory, with the following notes. See below for a complete list.\n",
        "\n",
        "full_all: subarea population\n",
        "male_f, female_f: subarea population by gender\n",
        "young_*: population younger than working age\n",
        "work_*: working-age population\n",
        "ekder_*: retirement-age population\n",
        "n_m_{all|male|female}: population between n and m years old\n",
        "build_count_*: buildings in the subarea by construction type or year\n",
        "x_count_500: the number of x within 500m of the property\n",
        "x_part_500: the share of x within 500m of the property\n",
        "_sqm_: square meters\n",
        "cafe_count_d_price_p: number of cafes within d meters of the property that have an average bill under p RUB\n",
        "trc_: shopping malls\n",
        "prom_: industrial zones\n",
        "green_: green zones\n",
        "metro_: subway\n",
        "_avto_: distances by car\n",
        "mkad_: Moscow Circle Auto Road\n",
        "ttk_: Third Transport Ring\n",
        "sadovoe_: Garden Ring\n",
        "bulvar_ring_: Boulevard Ring\n",
        "kremlin_: City center\n",
        "zd_vokzaly_: Train station\n",
        "oil_chemistry_: Dirty industry\n",
        "ts_: Power plant\n",
        "```"
      ]
    },
    {
      "cell_type": "markdown",
      "metadata": {
        "id": "TOPtM_06uyqv"
      },
      "source": [
        "### Setup"
      ]
    },
    {
      "cell_type": "code",
      "metadata": {
        "id": "9TpHMcn3u0MV"
      },
      "source": [
        "import pandas as pd"
      ],
      "execution_count": 3,
      "outputs": []
    },
    {
      "cell_type": "code",
      "metadata": {
        "id": "-TLkVG3EwJzj"
      },
      "source": [
        "df = pd.read_csv(\"data.csv\", parse_dates=[\"timestamp\"])"
      ],
      "execution_count": 4,
      "outputs": []
    },
    {
      "cell_type": "code",
      "source": [
        "df.sample(4)"
      ],
      "metadata": {
        "colab": {
          "base_uri": "https://localhost:8080/",
          "height": 293
        },
        "id": "cf3yAF5uHU7p",
        "outputId": "0f87c763-061c-48c1-8031-6bc862ade67a"
      },
      "execution_count": 5,
      "outputs": [
        {
          "output_type": "execute_result",
          "data": {
            "text/html": [
              "<div>\n",
              "<style scoped>\n",
              "    .dataframe tbody tr th:only-of-type {\n",
              "        vertical-align: middle;\n",
              "    }\n",
              "\n",
              "    .dataframe tbody tr th {\n",
              "        vertical-align: top;\n",
              "    }\n",
              "\n",
              "    .dataframe thead th {\n",
              "        text-align: right;\n",
              "    }\n",
              "</style>\n",
              "<table border=\"1\" class=\"dataframe\">\n",
              "  <thead>\n",
              "    <tr style=\"text-align: right;\">\n",
              "      <th></th>\n",
              "      <th>id</th>\n",
              "      <th>timestamp</th>\n",
              "      <th>full_sq</th>\n",
              "      <th>life_sq</th>\n",
              "      <th>floor</th>\n",
              "      <th>max_floor</th>\n",
              "      <th>material</th>\n",
              "      <th>build_year</th>\n",
              "      <th>num_room</th>\n",
              "      <th>kitch_sq</th>\n",
              "      <th>state</th>\n",
              "      <th>product_type</th>\n",
              "      <th>sub_area</th>\n",
              "      <th>area_m</th>\n",
              "      <th>raion_popul</th>\n",
              "      <th>green_zone_part</th>\n",
              "      <th>indust_part</th>\n",
              "      <th>children_preschool</th>\n",
              "      <th>preschool_quota</th>\n",
              "      <th>preschool_education_centers_raion</th>\n",
              "      <th>children_school</th>\n",
              "      <th>school_quota</th>\n",
              "      <th>school_education_centers_raion</th>\n",
              "      <th>school_education_centers_top_20_raion</th>\n",
              "      <th>hospital_beds_raion</th>\n",
              "      <th>healthcare_centers_raion</th>\n",
              "      <th>university_top_20_raion</th>\n",
              "      <th>sport_objects_raion</th>\n",
              "      <th>additional_education_raion</th>\n",
              "      <th>culture_objects_top_25</th>\n",
              "      <th>culture_objects_top_25_raion</th>\n",
              "      <th>shopping_centers_raion</th>\n",
              "      <th>office_raion</th>\n",
              "      <th>thermal_power_plant_raion</th>\n",
              "      <th>incineration_raion</th>\n",
              "      <th>oil_chemistry_raion</th>\n",
              "      <th>radiation_raion</th>\n",
              "      <th>railroad_terminal_raion</th>\n",
              "      <th>big_market_raion</th>\n",
              "      <th>nuclear_reactor_raion</th>\n",
              "      <th>...</th>\n",
              "      <th>cafe_sum_3000_min_price_avg</th>\n",
              "      <th>cafe_sum_3000_max_price_avg</th>\n",
              "      <th>cafe_avg_price_3000</th>\n",
              "      <th>cafe_count_3000_na_price</th>\n",
              "      <th>cafe_count_3000_price_500</th>\n",
              "      <th>cafe_count_3000_price_1000</th>\n",
              "      <th>cafe_count_3000_price_1500</th>\n",
              "      <th>cafe_count_3000_price_2500</th>\n",
              "      <th>cafe_count_3000_price_4000</th>\n",
              "      <th>cafe_count_3000_price_high</th>\n",
              "      <th>big_church_count_3000</th>\n",
              "      <th>church_count_3000</th>\n",
              "      <th>mosque_count_3000</th>\n",
              "      <th>leisure_count_3000</th>\n",
              "      <th>sport_count_3000</th>\n",
              "      <th>market_count_3000</th>\n",
              "      <th>green_part_5000</th>\n",
              "      <th>prom_part_5000</th>\n",
              "      <th>office_count_5000</th>\n",
              "      <th>office_sqm_5000</th>\n",
              "      <th>trc_count_5000</th>\n",
              "      <th>trc_sqm_5000</th>\n",
              "      <th>cafe_count_5000</th>\n",
              "      <th>cafe_sum_5000_min_price_avg</th>\n",
              "      <th>cafe_sum_5000_max_price_avg</th>\n",
              "      <th>cafe_avg_price_5000</th>\n",
              "      <th>cafe_count_5000_na_price</th>\n",
              "      <th>cafe_count_5000_price_500</th>\n",
              "      <th>cafe_count_5000_price_1000</th>\n",
              "      <th>cafe_count_5000_price_1500</th>\n",
              "      <th>cafe_count_5000_price_2500</th>\n",
              "      <th>cafe_count_5000_price_4000</th>\n",
              "      <th>cafe_count_5000_price_high</th>\n",
              "      <th>big_church_count_5000</th>\n",
              "      <th>church_count_5000</th>\n",
              "      <th>mosque_count_5000</th>\n",
              "      <th>leisure_count_5000</th>\n",
              "      <th>sport_count_5000</th>\n",
              "      <th>market_count_5000</th>\n",
              "      <th>price</th>\n",
              "    </tr>\n",
              "  </thead>\n",
              "  <tbody>\n",
              "    <tr>\n",
              "      <th>8610</th>\n",
              "      <td>8610</td>\n",
              "      <td>2014-11-25</td>\n",
              "      <td>32</td>\n",
              "      <td>18.0</td>\n",
              "      <td>2.0</td>\n",
              "      <td>9.0</td>\n",
              "      <td>1.0</td>\n",
              "      <td>1973.0</td>\n",
              "      <td>1.0</td>\n",
              "      <td>6.0</td>\n",
              "      <td>2.0</td>\n",
              "      <td>Investment</td>\n",
              "      <td>Pechatniki</td>\n",
              "      <td>1.844581e+07</td>\n",
              "      <td>83369</td>\n",
              "      <td>0.030697</td>\n",
              "      <td>0.428826</td>\n",
              "      <td>4615</td>\n",
              "      <td>2936.0</td>\n",
              "      <td>5</td>\n",
              "      <td>5011</td>\n",
              "      <td>5791.0</td>\n",
              "      <td>5</td>\n",
              "      <td>0</td>\n",
              "      <td>730.0</td>\n",
              "      <td>0</td>\n",
              "      <td>0</td>\n",
              "      <td>4</td>\n",
              "      <td>5</td>\n",
              "      <td>no</td>\n",
              "      <td>0</td>\n",
              "      <td>2</td>\n",
              "      <td>8</td>\n",
              "      <td>no</td>\n",
              "      <td>no</td>\n",
              "      <td>no</td>\n",
              "      <td>yes</td>\n",
              "      <td>no</td>\n",
              "      <td>no</td>\n",
              "      <td>no</td>\n",
              "      <td>...</td>\n",
              "      <td>642.86</td>\n",
              "      <td>1107.14</td>\n",
              "      <td>875.00</td>\n",
              "      <td>3</td>\n",
              "      <td>5</td>\n",
              "      <td>14</td>\n",
              "      <td>8</td>\n",
              "      <td>1</td>\n",
              "      <td>0</td>\n",
              "      <td>0</td>\n",
              "      <td>2</td>\n",
              "      <td>11</td>\n",
              "      <td>0</td>\n",
              "      <td>0</td>\n",
              "      <td>24</td>\n",
              "      <td>7</td>\n",
              "      <td>12.40</td>\n",
              "      <td>24.71</td>\n",
              "      <td>40</td>\n",
              "      <td>1701997</td>\n",
              "      <td>47</td>\n",
              "      <td>1865502</td>\n",
              "      <td>167</td>\n",
              "      <td>680.13</td>\n",
              "      <td>1153.85</td>\n",
              "      <td>916.99</td>\n",
              "      <td>11</td>\n",
              "      <td>47</td>\n",
              "      <td>57</td>\n",
              "      <td>35</td>\n",
              "      <td>14</td>\n",
              "      <td>3</td>\n",
              "      <td>0</td>\n",
              "      <td>11</td>\n",
              "      <td>31</td>\n",
              "      <td>0</td>\n",
              "      <td>8</td>\n",
              "      <td>67</td>\n",
              "      <td>14</td>\n",
              "      <td>5200000</td>\n",
              "    </tr>\n",
              "    <tr>\n",
              "      <th>6610</th>\n",
              "      <td>6610</td>\n",
              "      <td>2015-02-27</td>\n",
              "      <td>42</td>\n",
              "      <td>41.0</td>\n",
              "      <td>21.0</td>\n",
              "      <td>1.0</td>\n",
              "      <td>1.0</td>\n",
              "      <td>2015.0</td>\n",
              "      <td>1.0</td>\n",
              "      <td>1.0</td>\n",
              "      <td>1.0</td>\n",
              "      <td>OwnerOccupier</td>\n",
              "      <td>Losinoostrovskoe</td>\n",
              "      <td>5.361327e+06</td>\n",
              "      <td>80917</td>\n",
              "      <td>0.197068</td>\n",
              "      <td>0.036122</td>\n",
              "      <td>4169</td>\n",
              "      <td>1926.0</td>\n",
              "      <td>3</td>\n",
              "      <td>4378</td>\n",
              "      <td>6839.0</td>\n",
              "      <td>4</td>\n",
              "      <td>0</td>\n",
              "      <td>1036.0</td>\n",
              "      <td>1</td>\n",
              "      <td>0</td>\n",
              "      <td>11</td>\n",
              "      <td>3</td>\n",
              "      <td>no</td>\n",
              "      <td>0</td>\n",
              "      <td>1</td>\n",
              "      <td>0</td>\n",
              "      <td>no</td>\n",
              "      <td>no</td>\n",
              "      <td>no</td>\n",
              "      <td>yes</td>\n",
              "      <td>no</td>\n",
              "      <td>no</td>\n",
              "      <td>no</td>\n",
              "      <td>...</td>\n",
              "      <td>647.17</td>\n",
              "      <td>1094.34</td>\n",
              "      <td>870.75</td>\n",
              "      <td>11</td>\n",
              "      <td>16</td>\n",
              "      <td>19</td>\n",
              "      <td>14</td>\n",
              "      <td>4</td>\n",
              "      <td>0</td>\n",
              "      <td>0</td>\n",
              "      <td>9</td>\n",
              "      <td>8</td>\n",
              "      <td>0</td>\n",
              "      <td>1</td>\n",
              "      <td>38</td>\n",
              "      <td>1</td>\n",
              "      <td>29.14</td>\n",
              "      <td>7.54</td>\n",
              "      <td>20</td>\n",
              "      <td>366279</td>\n",
              "      <td>28</td>\n",
              "      <td>3372456</td>\n",
              "      <td>119</td>\n",
              "      <td>633.01</td>\n",
              "      <td>1072.82</td>\n",
              "      <td>852.91</td>\n",
              "      <td>16</td>\n",
              "      <td>39</td>\n",
              "      <td>33</td>\n",
              "      <td>21</td>\n",
              "      <td>9</td>\n",
              "      <td>1</td>\n",
              "      <td>0</td>\n",
              "      <td>11</td>\n",
              "      <td>14</td>\n",
              "      <td>1</td>\n",
              "      <td>3</td>\n",
              "      <td>61</td>\n",
              "      <td>3</td>\n",
              "      <td>7497000</td>\n",
              "    </tr>\n",
              "    <tr>\n",
              "      <th>19077</th>\n",
              "      <td>19077</td>\n",
              "      <td>2014-01-14</td>\n",
              "      <td>51</td>\n",
              "      <td>30.0</td>\n",
              "      <td>4.0</td>\n",
              "      <td>17.0</td>\n",
              "      <td>1.0</td>\n",
              "      <td>2004.0</td>\n",
              "      <td>2.0</td>\n",
              "      <td>9.0</td>\n",
              "      <td>3.0</td>\n",
              "      <td>Investment</td>\n",
              "      <td>Zapadnoe Degunino</td>\n",
              "      <td>7.632940e+06</td>\n",
              "      <td>78810</td>\n",
              "      <td>0.051844</td>\n",
              "      <td>0.437885</td>\n",
              "      <td>5519</td>\n",
              "      <td>1503.0</td>\n",
              "      <td>3</td>\n",
              "      <td>5735</td>\n",
              "      <td>5782.0</td>\n",
              "      <td>3</td>\n",
              "      <td>0</td>\n",
              "      <td>1084.0</td>\n",
              "      <td>0</td>\n",
              "      <td>0</td>\n",
              "      <td>3</td>\n",
              "      <td>2</td>\n",
              "      <td>no</td>\n",
              "      <td>0</td>\n",
              "      <td>5</td>\n",
              "      <td>3</td>\n",
              "      <td>no</td>\n",
              "      <td>no</td>\n",
              "      <td>no</td>\n",
              "      <td>yes</td>\n",
              "      <td>no</td>\n",
              "      <td>no</td>\n",
              "      <td>no</td>\n",
              "      <td>...</td>\n",
              "      <td>805.08</td>\n",
              "      <td>1330.51</td>\n",
              "      <td>1067.80</td>\n",
              "      <td>3</td>\n",
              "      <td>10</td>\n",
              "      <td>21</td>\n",
              "      <td>22</td>\n",
              "      <td>3</td>\n",
              "      <td>3</td>\n",
              "      <td>0</td>\n",
              "      <td>4</td>\n",
              "      <td>6</td>\n",
              "      <td>0</td>\n",
              "      <td>0</td>\n",
              "      <td>24</td>\n",
              "      <td>1</td>\n",
              "      <td>13.26</td>\n",
              "      <td>20.26</td>\n",
              "      <td>43</td>\n",
              "      <td>1151677</td>\n",
              "      <td>39</td>\n",
              "      <td>1290812</td>\n",
              "      <td>173</td>\n",
              "      <td>705.13</td>\n",
              "      <td>1189.10</td>\n",
              "      <td>947.12</td>\n",
              "      <td>17</td>\n",
              "      <td>40</td>\n",
              "      <td>60</td>\n",
              "      <td>42</td>\n",
              "      <td>9</td>\n",
              "      <td>5</td>\n",
              "      <td>0</td>\n",
              "      <td>11</td>\n",
              "      <td>16</td>\n",
              "      <td>0</td>\n",
              "      <td>0</td>\n",
              "      <td>58</td>\n",
              "      <td>4</td>\n",
              "      <td>2000000</td>\n",
              "    </tr>\n",
              "    <tr>\n",
              "      <th>2113</th>\n",
              "      <td>2113</td>\n",
              "      <td>2015-02-12</td>\n",
              "      <td>42</td>\n",
              "      <td>NaN</td>\n",
              "      <td>12.0</td>\n",
              "      <td>0.0</td>\n",
              "      <td>1.0</td>\n",
              "      <td>NaN</td>\n",
              "      <td>1.0</td>\n",
              "      <td>0.0</td>\n",
              "      <td>NaN</td>\n",
              "      <td>OwnerOccupier</td>\n",
              "      <td>Poselenie Sosenskoe</td>\n",
              "      <td>6.677245e+07</td>\n",
              "      <td>9553</td>\n",
              "      <td>0.336177</td>\n",
              "      <td>0.072158</td>\n",
              "      <td>656</td>\n",
              "      <td>NaN</td>\n",
              "      <td>0</td>\n",
              "      <td>629</td>\n",
              "      <td>NaN</td>\n",
              "      <td>0</td>\n",
              "      <td>0</td>\n",
              "      <td>NaN</td>\n",
              "      <td>0</td>\n",
              "      <td>0</td>\n",
              "      <td>1</td>\n",
              "      <td>0</td>\n",
              "      <td>no</td>\n",
              "      <td>0</td>\n",
              "      <td>0</td>\n",
              "      <td>1</td>\n",
              "      <td>no</td>\n",
              "      <td>no</td>\n",
              "      <td>no</td>\n",
              "      <td>no</td>\n",
              "      <td>no</td>\n",
              "      <td>yes</td>\n",
              "      <td>no</td>\n",
              "      <td>...</td>\n",
              "      <td>1375.00</td>\n",
              "      <td>2250.00</td>\n",
              "      <td>1812.50</td>\n",
              "      <td>0</td>\n",
              "      <td>0</td>\n",
              "      <td>1</td>\n",
              "      <td>1</td>\n",
              "      <td>1</td>\n",
              "      <td>1</td>\n",
              "      <td>0</td>\n",
              "      <td>0</td>\n",
              "      <td>5</td>\n",
              "      <td>0</td>\n",
              "      <td>0</td>\n",
              "      <td>1</td>\n",
              "      <td>0</td>\n",
              "      <td>32.84</td>\n",
              "      <td>11.29</td>\n",
              "      <td>3</td>\n",
              "      <td>108859</td>\n",
              "      <td>4</td>\n",
              "      <td>335876</td>\n",
              "      <td>26</td>\n",
              "      <td>760.00</td>\n",
              "      <td>1260.00</td>\n",
              "      <td>1010.00</td>\n",
              "      <td>1</td>\n",
              "      <td>10</td>\n",
              "      <td>6</td>\n",
              "      <td>5</td>\n",
              "      <td>2</td>\n",
              "      <td>2</td>\n",
              "      <td>0</td>\n",
              "      <td>3</td>\n",
              "      <td>13</td>\n",
              "      <td>0</td>\n",
              "      <td>0</td>\n",
              "      <td>6</td>\n",
              "      <td>3</td>\n",
              "      <td>3900000</td>\n",
              "    </tr>\n",
              "  </tbody>\n",
              "</table>\n",
              "<p>4 rows × 292 columns</p>\n",
              "</div>"
            ],
            "text/plain": [
              "          id  timestamp  full_sq  ...  sport_count_5000  market_count_5000    price\n",
              "8610    8610 2014-11-25       32  ...                67                 14  5200000\n",
              "6610    6610 2015-02-27       42  ...                61                  3  7497000\n",
              "19077  19077 2014-01-14       51  ...                58                  4  2000000\n",
              "2113    2113 2015-02-12       42  ...                 6                  3  3900000\n",
              "\n",
              "[4 rows x 292 columns]"
            ]
          },
          "metadata": {},
          "execution_count": 5
        }
      ]
    },
    {
      "cell_type": "markdown",
      "metadata": {
        "id": "znjwH9_mx3fZ"
      },
      "source": [
        "Разделите имеющиеся у вас данные на обучающую и тестовую выборки. В качестве обучающей выборки возьмите первые 80% данных, последние 20% - тестовая выборка."
      ]
    },
    {
      "cell_type": "markdown",
      "metadata": {
        "id": "pL4dJJwZP86w"
      },
      "source": [
        "Возможно в ваших моделях вам придется указывать, какие колонки являются категориальными (например, в бустингах). Для упрощения предлагается разделить колонки по следующему принципу:\n",
        "```\n",
        "drop_columns = [\n",
        "    'id',           # May leak information\n",
        "    'timestamp',    # May leak information\n",
        "]\n",
        "cat_columns = [\n",
        "    'product_type',              #\n",
        "    'material',                  # Material of the wall\n",
        "    'state',                     # Satisfaction level\n",
        "    'sub_area',                  # District name\n",
        "    'culture_objects_top_25',    #\n",
        "    'thermal_power_plant_raion', #\n",
        "    'incineration_raion',        #\n",
        "    'oil_chemistry_raion',       #\n",
        "    'radiation_raion',           #\n",
        "    'railroad_terminal_raion',   #\n",
        "    'big_market_raion',          #\n",
        "    'nuclear_reactor_raion',     #\n",
        "    'detention_facility_raion',  #\n",
        "    'ID_metro',                  #\n",
        "    'ID_railroad_station_walk',  #\n",
        "    'ID_railroad_station_avto',  #\n",
        "    'water_1line',               #\n",
        "    'ID_big_road1',              #\n",
        "    'big_road1_1line',           #\n",
        "    'ID_big_road2',              #\n",
        "    'railroad_1line',            #\n",
        "    'ID_railroad_terminal',      #\n",
        "    'ID_bus_terminal',           #\n",
        "    'ecology',                   #\n",
        "]\n",
        "num_columns = list(set(df.columns).difference(set(cat_columns + drop_columns)))\n",
        "```"
      ]
    },
    {
      "cell_type": "code",
      "metadata": {
        "id": "hwfNR565wMKN"
      },
      "source": [
        "drop_columns = [\n",
        "    'id',           # May leak information\n",
        "    'timestamp',    # May leak information\n",
        "]\n",
        "\n",
        "timestamp = df['timestamp']\n",
        "\n",
        "df.drop(columns=drop_columns, inplace=True)\n",
        "\n",
        "target = df[\"price\"]\n",
        "df = df.drop(\"price\", axis=1)\n",
        "\n",
        "cat_columns = [\n",
        "    'product_type',              #\n",
        "    'material',                  # Material of the wall\n",
        "    'state',                     # Satisfaction level\n",
        "    'sub_area',                  # District name\n",
        "    'culture_objects_top_25',    #\n",
        "    'thermal_power_plant_raion', #\n",
        "    'incineration_raion',        #\n",
        "    'oil_chemistry_raion',       #\n",
        "    'radiation_raion',           #\n",
        "    'railroad_terminal_raion',   #\n",
        "    'big_market_raion',          #\n",
        "    'nuclear_reactor_raion',     #\n",
        "    'detention_facility_raion',  #\n",
        "    'ID_metro',                  #\n",
        "    'ID_railroad_station_walk',  #\n",
        "    'ID_railroad_station_avto',  #\n",
        "    'water_1line',               #\n",
        "    'ID_big_road1',              #\n",
        "    'big_road1_1line',           #\n",
        "    'ID_big_road2',              #\n",
        "    'railroad_1line',            #\n",
        "    'ID_railroad_terminal',      #\n",
        "    'ID_bus_terminal',           #\n",
        "    'ecology',                   #\n",
        "]\n",
        "\n",
        "num_columns = list(set(df.columns).difference(set(cat_columns)))"
      ],
      "execution_count": 6,
      "outputs": []
    },
    {
      "cell_type": "code",
      "metadata": {
        "colab": {
          "base_uri": "https://localhost:8080/"
        },
        "id": "F053lVHZS54o",
        "outputId": "9851db35-c17b-422d-da5b-d3721a2a6967"
      },
      "source": [
        "df.isna().sum().sort_values().iloc[-52:]"
      ],
      "execution_count": 7,
      "outputs": [
        {
          "output_type": "execute_result",
          "data": {
            "text/plain": [
              "school_km                                   0\n",
              "metro_km_walk                              16\n",
              "railroad_station_walk_min                  16\n",
              "metro_min_walk                             16\n",
              "ID_railroad_station_walk                   16\n",
              "railroad_station_walk_km                   16\n",
              "floor                                     113\n",
              "prom_part_5000                            118\n",
              "cafe_sum_5000_min_price_avg               196\n",
              "cafe_sum_5000_max_price_avg               196\n",
              "cafe_avg_price_5000                       196\n",
              "cafe_sum_3000_min_price_avg               641\n",
              "cafe_sum_3000_max_price_avg               641\n",
              "cafe_avg_price_3000                       641\n",
              "cafe_sum_2000_min_price_avg              1134\n",
              "cafe_sum_2000_max_price_avg              1134\n",
              "cafe_avg_price_2000                      1134\n",
              "cafe_sum_1500_min_price_avg              2769\n",
              "cafe_avg_price_1500                      2769\n",
              "cafe_sum_1500_max_price_avg              2769\n",
              "build_count_after_1995                   3175\n",
              "build_count_slag                         3175\n",
              "build_count_1971-1995                    3175\n",
              "build_count_1946-1970                    3175\n",
              "build_count_1921-1945                    3175\n",
              "build_count_before_1920                  3175\n",
              "raion_build_count_with_builddate_info    3175\n",
              "build_count_mix                          3175\n",
              "build_count_foam                         3175\n",
              "build_count_panel                        3175\n",
              "build_count_monolith                     3175\n",
              "build_count_brick                        3175\n",
              "raion_build_count_with_material_info     3175\n",
              "build_count_frame                        3175\n",
              "build_count_wood                         3175\n",
              "build_count_block                        3175\n",
              "life_sq                                  4103\n",
              "school_quota                             4277\n",
              "preschool_quota                          4279\n",
              "cafe_avg_price_1000                      4285\n",
              "cafe_sum_1000_max_price_avg              4285\n",
              "cafe_sum_1000_min_price_avg              4285\n",
              "kitch_sq                                 6303\n",
              "num_room                                 6303\n",
              "max_floor                                6303\n",
              "material                                 6303\n",
              "cafe_avg_price_500                       8778\n",
              "cafe_sum_500_max_price_avg               8778\n",
              "cafe_sum_500_min_price_avg               8778\n",
              "build_year                               8905\n",
              "state                                    8907\n",
              "hospital_beds_raion                      9404\n",
              "dtype: int64"
            ]
          },
          "metadata": {},
          "execution_count": 7
        }
      ]
    },
    {
      "cell_type": "markdown",
      "metadata": {
        "id": "cjtiEh5tihrs"
      },
      "source": [
        "# О НЕТ! У НАС В ДАННЫХ ПРОПУСКИ 🆘 \n",
        "# SPOILER: я не знал, что тут по-умному обрабатывать-мучаться не стоит, поэтому код ниже это круто, полезно наверное, но будет закомменчен"
      ]
    },
    {
      "cell_type": "code",
      "metadata": {
        "colab": {
          "base_uri": "https://localhost:8080/",
          "height": 70
        },
        "id": "F3WS30NY-gik",
        "outputId": "a498f7cb-96de-4228-e3c1-503dba8a259a"
      },
      "source": [
        "\"\"\"\n",
        "void_columns = df.columns[df.isna().sum() > 2000] # больше 10% пропусков, можно подкрутить как вверх, так и вниз \n",
        "print(\"Колонок до первой чистки : \", df.columns.shape[0])\n",
        "df.drop(columns=void_columns, inplace=True)\n",
        "cat_columns = list(set(cat_columns).difference(set(void_columns)))\n",
        "num_columns = list(set(num_columns).difference(set(void_columns)))\n",
        "\"\"\""
      ],
      "execution_count": 8,
      "outputs": [
        {
          "output_type": "execute_result",
          "data": {
            "application/vnd.google.colaboratory.intrinsic+json": {
              "type": "string"
            },
            "text/plain": [
              "'\\nvoid_columns = df.columns[df.isna().sum() > 2000] # больше 10% пропусков, можно подкрутить как вверх, так и вниз \\nprint(\"Колонок до первой чистки : \", df.columns.shape[0])\\ndf.drop(columns=void_columns, inplace=True)\\ncat_columns = list(set(cat_columns).difference(set(void_columns)))\\nnum_columns = list(set(num_columns).difference(set(void_columns)))\\n'"
            ]
          },
          "metadata": {},
          "execution_count": 8
        }
      ]
    },
    {
      "cell_type": "code",
      "metadata": {
        "id": "SPqPCwtjAKhy",
        "colab": {
          "base_uri": "https://localhost:8080/",
          "height": 70
        },
        "outputId": "b27c9ae3-ecd2-424e-89b6-634e8e9721ed"
      },
      "source": [
        "# В остальных просто заменим пропуски - медианным значением и самым популярным классом, в зависимости от типа данных\n",
        "\"\"\"\n",
        "cols_with_nans = df.columns[df.isna().sum() > 0]\n",
        "for col_name in cols_with_nans:\n",
        "    if col_name in cat_columns or df[col_name].dtype == \"object\":\n",
        "        df[col_name].fillna(df[col_name].mode(), inplace=True)\n",
        "    else :\n",
        "        df[col_name].fillna(df[col_name].median(), inplace=True)\n",
        "df[\"ID_railroad_station_walk\"].fillna(df['ID_railroad_station_walk'].median(), inplace=True)\n",
        "\"\"\""
      ],
      "execution_count": 9,
      "outputs": [
        {
          "output_type": "execute_result",
          "data": {
            "application/vnd.google.colaboratory.intrinsic+json": {
              "type": "string"
            },
            "text/plain": [
              "'\\ncols_with_nans = df.columns[df.isna().sum() > 0]\\nfor col_name in cols_with_nans:\\n    if col_name in cat_columns or df[col_name].dtype == \"object\":\\n        df[col_name].fillna(df[col_name].mode(), inplace=True)\\n    else :\\n        df[col_name].fillna(df[col_name].median(), inplace=True)\\ndf[\"ID_railroad_station_walk\"].fillna(df[\\'ID_railroad_station_walk\\'].median(), inplace=True)\\n'"
            ]
          },
          "metadata": {},
          "execution_count": 9
        }
      ]
    },
    {
      "cell_type": "code",
      "metadata": {
        "id": "5Dp1SAlzCFFf"
      },
      "source": [
        "#df.isna().sum().sort_values()"
      ],
      "execution_count": 10,
      "outputs": []
    },
    {
      "cell_type": "code",
      "metadata": {
        "id": "eqzcdpj5E1j-"
      },
      "source": [
        "#print(\"Колонок после первой чистки : \", df.columns.shape[0])"
      ],
      "execution_count": 11,
      "outputs": []
    },
    {
      "cell_type": "markdown",
      "metadata": {
        "id": "2IX75GQuEZAV"
      },
      "source": [
        "## Ура, пропусков нема"
      ]
    },
    {
      "cell_type": "code",
      "metadata": {
        "id": "N6-EFIoJOaG3"
      },
      "source": [
        "#df[cat_columns].nunique().sort_values(ascending=False)"
      ],
      "execution_count": 12,
      "outputs": []
    },
    {
      "cell_type": "markdown",
      "metadata": {
        "id": "LlbvydrijP9_"
      },
      "source": [
        "# О НЕТ! У НАС ЕСТЬ КАТЕГОРИАЛЬНЫЕ КОЛОНКИ С БОЛЬШИМ КОЛИЧЕСТВОМ УНИКАЛЬНЫХ ЗНАЧЕНИЙ!(а значит никаких OHE) 🆘🆘"
      ]
    },
    {
      "cell_type": "code",
      "metadata": {
        "id": "ILEzN05nHEbs",
        "colab": {
          "base_uri": "https://localhost:8080/",
          "height": 53
        },
        "outputId": "5bfa457f-5baa-4f23-8f03-dad230d769cb"
      },
      "source": [
        "# попробуем просто удалить 4 колонки\n",
        "\"\"\"\n",
        "bad_4 = df[cat_columns].nunique().sort_values(ascending=False).index[:4]\n",
        "df.drop(columns=bad_4, inplace=True)\n",
        "cat_columns = list(set(cat_columns).difference(set(bad_4)))\n",
        "\"\"\""
      ],
      "execution_count": 13,
      "outputs": [
        {
          "output_type": "execute_result",
          "data": {
            "application/vnd.google.colaboratory.intrinsic+json": {
              "type": "string"
            },
            "text/plain": [
              "'\\nbad_4 = df[cat_columns].nunique().sort_values(ascending=False).index[:4]\\ndf.drop(columns=bad_4, inplace=True)\\ncat_columns = list(set(cat_columns).difference(set(bad_4)))\\n'"
            ]
          },
          "metadata": {},
          "execution_count": 13
        }
      ]
    },
    {
      "cell_type": "code",
      "metadata": {
        "id": "2pJOUwl_JkMH"
      },
      "source": [
        "#df[cat_columns].nunique().sort_values(ascending=False)"
      ],
      "execution_count": 14,
      "outputs": []
    },
    {
      "cell_type": "markdown",
      "metadata": {
        "id": "fIpUszBkJmBG"
      },
      "source": [
        "# Отлично, вроде вышло неплохо"
      ]
    },
    {
      "cell_type": "markdown",
      "source": [
        "### попробуем самую тупую обработку пропусков - просто заменим пропуски на средние значений(медиану и моду, если быть точнее)"
      ],
      "metadata": {
        "id": "I55yQSuqKSbl"
      }
    },
    {
      "cell_type": "code",
      "source": [
        "for col_name in cat_columns:\n",
        "    if any(df[col_name].isna()):\n",
        "        df[col_name].fillna(df[col_name].mode().values[0], inplace=True)\n",
        "for col_name in num_columns:\n",
        "    if any(df[col_name].isna()):\n",
        "        df[col_name].fillna(df[col_name].median(), inplace=True)"
      ],
      "metadata": {
        "id": "QhtGkRqnKbm7"
      },
      "execution_count": 8,
      "outputs": []
    },
    {
      "cell_type": "code",
      "source": [
        "from sklearn.preprocessing import StandardScaler, OneHotEncoder\n",
        "scaler = StandardScaler()\n",
        "df_catboost = df\n",
        "df_catboost[num_columns] = scaler.fit_transform(df_catboost[num_columns])\n",
        "encoded_cat = pd.get_dummies(df[cat_columns])\n",
        "df = df.drop(columns=cat_columns)\n",
        "df = df.join(encoded_cat)\n",
        "df.loc[:, :] = scaler.fit_transform(df) "
      ],
      "metadata": {
        "id": "rWb-K1zdNeP1"
      },
      "execution_count": 9,
      "outputs": []
    },
    {
      "cell_type": "code",
      "metadata": {
        "id": "URQ18qVDd_pq"
      },
      "source": [
        "from sklearn.model_selection import train_test_split\n",
        "X_train, X_test, y_train, y_test = train_test_split(df, target, \n",
        "                                                    train_size=0.8, random_state=42)"
      ],
      "execution_count": 10,
      "outputs": []
    },
    {
      "cell_type": "markdown",
      "metadata": {
        "id": "oiOby6hNu92W"
      },
      "source": [
        "### Baseline (2 балла)\n",
        "\n",
        "В качестве Baseline обучите `DecisionTreeRegressor` из `sklearn`."
      ]
    },
    {
      "cell_type": "code",
      "metadata": {
        "id": "gJIDf3kn1Wfv"
      },
      "source": [
        "from sklearn.tree import DecisionTreeRegressor\n",
        "from sklearn.metrics import mean_squared_error\n",
        "from sklearn.model_selection import GridSearchCV\n",
        "import numpy as np\n",
        "\n",
        "base_model = DecisionTreeRegressor().fit(X_train, y_train)"
      ],
      "execution_count": 11,
      "outputs": []
    },
    {
      "cell_type": "markdown",
      "metadata": {
        "id": "XUC7NFhw1X41"
      },
      "source": [
        "Проверьте качество на отложенной выборке."
      ]
    },
    {
      "cell_type": "code",
      "metadata": {
        "id": "O_LCiQIN1bzD",
        "colab": {
          "base_uri": "https://localhost:8080/"
        },
        "outputId": "8ce0933a-8d8d-4027-e34d-61317964fa75"
      },
      "source": [
        "y_base = base_model.predict(X_test)\n",
        "print(\"RMSE Score on base model {:.4f}\".format(mean_squared_error(y_test, y_base)**0.5))"
      ],
      "execution_count": 12,
      "outputs": [
        {
          "output_type": "stream",
          "name": "stdout",
          "text": [
            "RMSE Score on base model 3851607.5172\n"
          ]
        }
      ]
    },
    {
      "cell_type": "markdown",
      "metadata": {
        "id": "3bezBBI7u_oF"
      },
      "source": [
        "### Feature Engineering (2 балла)\n",
        "\n",
        "Часто улучшить модель можно с помощью аккуратного Feature Engineering.\n",
        "\n",
        "Добавим в модель дополнительные признаки:\n",
        "* \"Как часто в этот год и этот месяц появлились объявления\"\n",
        "* \"Как часто в этот год и эту неделю появлялись объявления\""
      ]
    },
    {
      "cell_type": "code",
      "metadata": {
        "id": "_cJ6SBqUKC4C",
        "colab": {
          "base_uri": "https://localhost:8080/"
        },
        "outputId": "bcff0425-03bd-4430-b6d5-d9a98349f588"
      },
      "source": [
        "month_year = (timestamp.dt.month + timestamp.dt.year * 100)\n",
        "month_year_cnt_map = month_year.value_counts().to_dict()\n",
        "df[\"month_year_cnt\"] = month_year.map(month_year_cnt_map)\n",
        "df_catboost[\"month_year_cnt\"] = month_year.map(month_year_cnt_map)\n",
        "\n",
        "week_year = (timestamp.dt.weekofyear + timestamp.dt.year * 100)\n",
        "week_year_cnt_map = week_year.value_counts().to_dict()\n",
        "df[\"week_year_cnt\"] = week_year.map(week_year_cnt_map)\n",
        "df_catboost[\"week_year_cnt\"] = week_year.map(week_year_cnt_map)"
      ],
      "execution_count": 13,
      "outputs": [
        {
          "output_type": "stream",
          "name": "stderr",
          "text": [
            "/usr/local/lib/python3.7/dist-packages/ipykernel_launcher.py:6: FutureWarning: Series.dt.weekofyear and Series.dt.week have been deprecated.  Please use Series.dt.isocalendar().week instead.\n",
            "  \n"
          ]
        }
      ]
    },
    {
      "cell_type": "markdown",
      "metadata": {
        "id": "pCajk45_KDSz"
      },
      "source": [
        "Добавьте следюущие дополнительные признаки:\n",
        "* Месяц (из колонки `timestamp`)\n",
        "* День недели (из колонки `timestamp`)\n",
        "* Отношение \"этаж / максимальный этаж в здании\" (колонки `floor` и `max_floor`)\n",
        "* Отношение \"площадь кухни / площадь квартиры\" (колонки `kitch_sq` и `full_sq`)\n",
        "\n",
        "По желанию можно добавить и другие признаки."
      ]
    },
    {
      "cell_type": "code",
      "metadata": {
        "id": "dXZkoUL8Kve6"
      },
      "source": [
        "df[\"month\"] = timestamp.dt.month\n",
        "df['day_of_week'] = timestamp.dt.dayofweek\n",
        "df_catboost[\"month\"] = timestamp.dt.month\n",
        "df_catboost['day_of_week'] = timestamp.dt.dayofweek"
      ],
      "execution_count": 14,
      "outputs": []
    },
    {
      "cell_type": "code",
      "metadata": {
        "id": "xMnS_JZDLLUp"
      },
      "source": [
        "df['floors_ratio'] = df[\"floor\"] / df[\"max_floor\"]\n",
        "df[\"kitchen_ratio\"] = df[\"kitch_sq\"] / df[\"full_sq\"]\n",
        "df_catboost['floors_ratio'] = df_catboost[\"floor\"] / df_catboost[\"max_floor\"]\n",
        "df_catboost[\"kitchen_ratio\"] = df_catboost[\"kitch_sq\"] / df_catboost[\"full_sq\"]"
      ],
      "execution_count": 15,
      "outputs": []
    },
    {
      "cell_type": "code",
      "source": [
        "float_cols = df_catboost[cat_columns].select_dtypes(\"float\").columns\n",
        "df_catboost.loc[:, float_cols] = df_catboost.loc[:, float_cols].astype(int)"
      ],
      "metadata": {
        "id": "m4stUfLqeIqD"
      },
      "execution_count": 16,
      "outputs": []
    },
    {
      "cell_type": "markdown",
      "metadata": {
        "id": "_-jCowvWLiXZ"
      },
      "source": [
        "Разделите выборку на обучающую и тестовую еще раз (потому что дополнительные признаки созданы для исходной выборки)."
      ]
    },
    {
      "cell_type": "code",
      "metadata": {
        "id": "0f-vO3LcLhdf"
      },
      "source": [
        "X_train, X_test, y_train, y_test = train_test_split(df, target, \n",
        "                                                    train_size=0.8, random_state=42)\n",
        "X_trainc, X_testc, y_trainc, y_testc = train_test_split(df_catboost, target, \n",
        "                                                    train_size=0.8, random_state=42)"
      ],
      "execution_count": 17,
      "outputs": []
    },
    {
      "cell_type": "markdown",
      "metadata": {
        "id": "CPtzkpFEvBw9"
      },
      "source": [
        "### Model Selection (3 балла)\n",
        "\n",
        "Посмотрите, какого качества можно добиться если использовать разные модели:\n",
        "* `DecisionTreeRegressor` из `sklearn`\n",
        "* `RandomForestRegressor` из `sklearn`\n",
        "* `CatBoostRegressor`\n",
        "\n",
        "Также вы можете попробовать линейные модели, другие бустинги (`LigthGBM` и `XGBoost`).\n",
        "\n",
        "Почти все библиотеки поддерживают удобный способ подбора гиперпараметров: посмотрите как это делать в [sklearn](https://scikit-learn.org/stable/modules/generated/sklearn.model_selection.GridSearchCV.html) или в [catboost](https://catboost.ai/docs/concepts/python-reference_catboostregressor_grid_search.html).\n",
        "\n",
        "Проверяйте качество каждой модели на тестовой выборке и выберите наилучшую."
      ]
    },
    {
      "cell_type": "markdown",
      "source": [
        "## 1 - DecisionTree без подбора гиперпараметров"
      ],
      "metadata": {
        "id": "e3TUFP50fcO1"
      }
    },
    {
      "cell_type": "code",
      "source": [
        "dt = DecisionTreeRegressor().fit(X_train, y_train)\n",
        "y_pred1 = dt.predict(X_test)\n",
        "print(\"RMSE Score on base model {:.4f}\".format(mean_squared_error(y_test, y_pred1)**0.5))"
      ],
      "metadata": {
        "colab": {
          "base_uri": "https://localhost:8080/"
        },
        "id": "GCswj2mke9GE",
        "outputId": "ce19ff64-c3b0-4fca-a33d-94808d4b9817"
      },
      "execution_count": 25,
      "outputs": [
        {
          "output_type": "stream",
          "name": "stdout",
          "text": [
            "RMSE Score on base model 3794778.5576\n"
          ]
        }
      ]
    },
    {
      "cell_type": "markdown",
      "source": [
        "## 2 - DecisionTree с подбором гиперпараметров"
      ],
      "metadata": {
        "id": "RoHFRxyIfluv"
      }
    },
    {
      "cell_type": "code",
      "source": [
        "params = {\n",
        "    \"max_depth\" : np.logspace(1,6, 6, base=2),\n",
        "    \"min_samples_leaf\" : np.arange(1, 100, 10)\n",
        "}\n",
        "dth = DecisionTreeRegressor()\n",
        "grid = GridSearchCV(estimator=dth, param_grid=params, scoring=\"neg_root_mean_squared_error\")\n",
        "grid.fit(X_train, y_train)\n",
        "grid.best_params_"
      ],
      "metadata": {
        "colab": {
          "base_uri": "https://localhost:8080/"
        },
        "id": "ssJQ5aVofbak",
        "outputId": "b171f385-6ddc-4d6f-83fc-a721a019169d"
      },
      "execution_count": 26,
      "outputs": [
        {
          "output_type": "execute_result",
          "data": {
            "text/plain": [
              "{'max_depth': 8.0, 'min_samples_leaf': 51}"
            ]
          },
          "metadata": {},
          "execution_count": 26
        }
      ]
    },
    {
      "cell_type": "code",
      "source": [
        "dth = DecisionTreeRegressor(max_depth=8, min_samples_leaf=10)\n",
        "dth.fit(X_train, y_train)\n",
        "y_pred2 = dth.predict(X_test)\n",
        "print(\"RMSE Score on tunned DT {:.4f}\".format(mean_squared_error(y_test, y_pred2)**0.5))"
      ],
      "metadata": {
        "colab": {
          "base_uri": "https://localhost:8080/"
        },
        "id": "fVyVcN7mpcC4",
        "outputId": "22428b59-25ac-4685-c10d-0a025592e86f"
      },
      "execution_count": 27,
      "outputs": [
        {
          "output_type": "stream",
          "name": "stdout",
          "text": [
            "RMSE Score on tunned DT 3014222.9253\n"
          ]
        }
      ]
    },
    {
      "cell_type": "markdown",
      "source": [
        "## 3 - RandomForest без гиперпараметров"
      ],
      "metadata": {
        "id": "NVFU98nj8-v6"
      }
    },
    {
      "cell_type": "code",
      "source": [
        "from sklearn.ensemble import RandomForestRegressor\n",
        "rf = RandomForestRegressor()\n",
        "rf.fit(X_train, y_train)\n",
        "y_pred3 = rf.predict(X_test)\n"
      ],
      "metadata": {
        "id": "FC9YiIK08KcJ"
      },
      "execution_count": 18,
      "outputs": []
    },
    {
      "cell_type": "code",
      "source": [
        "print(\"RMSE Score on RF {:.4f}\".format(mean_squared_error(y_test, y_pred3), squared=False))"
      ],
      "metadata": {
        "colab": {
          "base_uri": "https://localhost:8080/"
        },
        "id": "_GaNXpEiIvy6",
        "outputId": "6517ade3-acdb-4416-c54e-73a43e3dc578"
      },
      "execution_count": 19,
      "outputs": [
        {
          "output_type": "stream",
          "name": "stdout",
          "text": [
            "RMSE Score on RF 6823062590666.9980\n"
          ]
        }
      ]
    },
    {
      "cell_type": "markdown",
      "source": [
        "## 4 - RandomForest с гиперпараметрами"
      ],
      "metadata": {
        "id": "66g2BHrV91Uf"
      }
    },
    {
      "cell_type": "code",
      "source": [
        "params = {\n",
        "    \"n_estimators\" : [100, 300],\n",
        "    \"max_depth\" : [2, 4, 8, 16],\n",
        "    \"min_samples_leaf\" : np.arange(1, 40, 10)\n",
        "}\n",
        "rfh = RandomForestRegressor(n_jobs=-1)\n",
        "grid = GridSearchCV(estimator=rfh, param_grid=params, scoring=\"neg_root_mean_squared_error\")\n",
        "grid.fit(X_train, y_train)\n",
        "grid.best_params_"
      ],
      "metadata": {
        "colab": {
          "base_uri": "https://localhost:8080/"
        },
        "id": "r8vKO_Xp-OLk",
        "outputId": "4a4b459f-8320-4258-a13d-7bf82ab178a5"
      },
      "execution_count": 29,
      "outputs": [
        {
          "output_type": "execute_result",
          "data": {
            "text/plain": [
              "{'max_depth': 16, 'min_samples_leaf': 1, 'n_estimators': 100}"
            ]
          },
          "metadata": {},
          "execution_count": 29
        }
      ]
    },
    {
      "cell_type": "code",
      "source": [
        "params = {\"max_depth\" : 16,\n",
        "          \"min_samples_leaf\" : 1,\n",
        "          \"n_estimators\" : 100}\n",
        "rfh = RandomForestRegressor(**params)\n",
        "rfh.fit(X_train, y_train)\n",
        "rfh_pred = rfh.predict(X_test)\n",
        "print(\"RMSE Score on RF {:.4f}\".format(mean_squared_error(y_test, rfh_pred), squared=False))"
      ],
      "metadata": {
        "colab": {
          "base_uri": "https://localhost:8080/"
        },
        "id": "MMXaguTPGoYV",
        "outputId": "f8993ab9-069e-4c16-e139-30b963a702db"
      },
      "execution_count": 19,
      "outputs": [
        {
          "output_type": "stream",
          "name": "stdout",
          "text": [
            "RMSE Score on RF 6972659555814.5195\n"
          ]
        }
      ]
    },
    {
      "cell_type": "code",
      "metadata": {
        "colab": {
          "base_uri": "https://localhost:8080/"
        },
        "id": "vyeQ-bZyax-G",
        "outputId": "835f56cb-dc4b-4f52-893b-4d38a0ed5981"
      },
      "source": [
        "pip install catboost"
      ],
      "execution_count": 20,
      "outputs": [
        {
          "output_type": "stream",
          "name": "stdout",
          "text": [
            "Collecting catboost\n",
            "  Downloading catboost-1.0.3-cp37-none-manylinux1_x86_64.whl (76.3 MB)\n",
            "\u001b[K     |████████████████████████████████| 76.3 MB 1.2 MB/s \n",
            "\u001b[?25hRequirement already satisfied: matplotlib in /usr/local/lib/python3.7/dist-packages (from catboost) (3.2.2)\n",
            "Requirement already satisfied: pandas>=0.24.0 in /usr/local/lib/python3.7/dist-packages (from catboost) (1.1.5)\n",
            "Requirement already satisfied: six in /usr/local/lib/python3.7/dist-packages (from catboost) (1.15.0)\n",
            "Requirement already satisfied: scipy in /usr/local/lib/python3.7/dist-packages (from catboost) (1.4.1)\n",
            "Requirement already satisfied: graphviz in /usr/local/lib/python3.7/dist-packages (from catboost) (0.10.1)\n",
            "Requirement already satisfied: numpy>=1.16.0 in /usr/local/lib/python3.7/dist-packages (from catboost) (1.19.5)\n",
            "Requirement already satisfied: plotly in /usr/local/lib/python3.7/dist-packages (from catboost) (4.4.1)\n",
            "Requirement already satisfied: python-dateutil>=2.7.3 in /usr/local/lib/python3.7/dist-packages (from pandas>=0.24.0->catboost) (2.8.2)\n",
            "Requirement already satisfied: pytz>=2017.2 in /usr/local/lib/python3.7/dist-packages (from pandas>=0.24.0->catboost) (2018.9)\n",
            "Requirement already satisfied: kiwisolver>=1.0.1 in /usr/local/lib/python3.7/dist-packages (from matplotlib->catboost) (1.3.2)\n",
            "Requirement already satisfied: cycler>=0.10 in /usr/local/lib/python3.7/dist-packages (from matplotlib->catboost) (0.11.0)\n",
            "Requirement already satisfied: pyparsing!=2.0.4,!=2.1.2,!=2.1.6,>=2.0.1 in /usr/local/lib/python3.7/dist-packages (from matplotlib->catboost) (3.0.6)\n",
            "Requirement already satisfied: retrying>=1.3.3 in /usr/local/lib/python3.7/dist-packages (from plotly->catboost) (1.3.3)\n",
            "Installing collected packages: catboost\n",
            "Successfully installed catboost-1.0.3\n"
          ]
        }
      ]
    },
    {
      "cell_type": "code",
      "metadata": {
        "id": "PZstXx6uNRfE",
        "colab": {
          "base_uri": "https://localhost:8080/"
        },
        "outputId": "0e79a411-12df-4462-99a3-5533f50673dc"
      },
      "source": [
        "import catboost\n",
        "\n",
        "catmodel = catboost.CatBoostRegressor()\n",
        "catmodel.fit(X_train, y_train, verbose=False)\n",
        "y_pred = catmodel.predict(X_test)\n",
        "print(\"CatBoost RMSE score {:.4f}\".format(mean_squared_error(y_pred, y_test, squared=False)))"
      ],
      "execution_count": 21,
      "outputs": [
        {
          "output_type": "stream",
          "name": "stdout",
          "text": [
            "CatBoost RMSE score 2499705.0478\n"
          ]
        }
      ]
    },
    {
      "cell_type": "code",
      "source": [
        "catmodel = catboost.CatBoostRegressor(cat_features=cat_columns)\n",
        "catmodel.fit(X_trainc, y_trainc, cat_features=cat_columns, verbose=False)\n",
        "y_pred = catmodel.predict(X_testc)\n",
        "print(\"CatBoost RMSE score with impemented cat features {:.4f}\".format(mean_squared_error(y_pred, y_test, squared=False)))"
      ],
      "metadata": {
        "colab": {
          "base_uri": "https://localhost:8080/"
        },
        "id": "2UQWRjEQdVrD",
        "outputId": "b83351a9-26be-4c48-8916-b670b871cb51"
      },
      "execution_count": 32,
      "outputs": [
        {
          "output_type": "stream",
          "name": "stdout",
          "text": [
            "CatBoost RMSE score with impemented cat features 2485177.8225\n"
          ]
        }
      ]
    },
    {
      "cell_type": "code",
      "source": [
        "from catboost import Pool, cv\n",
        "from google.colab import output\n",
        "output.enable_custom_widget_manager()\n",
        "\n",
        "params = {\"depth\": 2,\n",
        "          \"loss_function\": \"RMSE\",\n",
        "          \"verbose\": False,\n",
        "          \"cat_features\" : cat_columns}\n",
        "\n",
        "cv_dataset = Pool(data=X_trainc,\n",
        "                  label=y_trainc,\n",
        "                  cat_features=cat_columns)\n",
        "\n",
        "scores = cv(cv_dataset,\n",
        "            params,\n",
        "            fold_count=2, \n",
        "            plot=\"False\")\n",
        "\n",
        "grid = {'learning_rate': [0.03, 0.1],\n",
        "        'depth': [4, 6, 8],\n",
        "        'l2_leaf_reg': [1, 3, 5, 7]}\n",
        "\n",
        "catmodel = catboost.CatBoostRegressor(cat_features=cat_columns)\n",
        "\n",
        "grid_search_result = catmodel.grid_search(grid, X=X_trainc, y=y_trainc)"
      ],
      "metadata": {
        "id": "xccrMVw5vzyU"
      },
      "execution_count": null,
      "outputs": []
    },
    {
      "cell_type": "code",
      "source": [
        "grid_search_result[\"params\"]"
      ],
      "metadata": {
        "colab": {
          "base_uri": "https://localhost:8080/"
        },
        "id": "3olCY5n0vGeD",
        "outputId": "d51e5eb5-ce26-4a60-af09-1c567198618d"
      },
      "execution_count": 35,
      "outputs": [
        {
          "output_type": "execute_result",
          "data": {
            "text/plain": [
              "{'depth': 8, 'l2_leaf_reg': 7, 'learning_rate': 0.1}"
            ]
          },
          "metadata": {},
          "execution_count": 35
        }
      ]
    },
    {
      "cell_type": "markdown",
      "source": [
        "Таким образом, catboost лучше делает предобработку категориальных признаков, чем просто OHE"
      ],
      "metadata": {
        "id": "k5WzV2Bgf3FY"
      }
    },
    {
      "cell_type": "markdown",
      "metadata": {
        "id": "JxQnozbtvD6x"
      },
      "source": [
        "### Ensemble v.1 (3 балла)\n",
        "\n",
        "Ансамбли иногда оказываются лучше чем одна большая модель.\n",
        "\n",
        "В колонке `product_type` содержится информация о том, каким является объявление: `Investment` (продажа квартиры как инвестиции) или `OwnerOccupier` (продажа квартиры для жилья). Логично предположить, что если сделать по модели на каждый из этих типов, то качество будет выше.\n",
        "\n",
        "Обучите свои лучшие модели на отдельно на `Investment` и `OwnerOccupier` (т.е. у вас будет `model_invest`, обученная на `(invest_train_X, invest_train_Y)` и `model_owner`, обученная на `(owner_train_X, owner_train_Y)`) и проверьте качество на отложенной выборке (т.е. на исходном `test_split`)."
      ]
    },
    {
      "cell_type": "code",
      "metadata": {
        "id": "HeJOCYa-O_VE"
      },
      "source": [
        "X_invest = df[df_catboost[\"product_type\"] == \"Investment\"].drop(columns=[\"product_type_Investment\",\n",
        "                                                                \"product_type_OwnerOccupier\"])\n",
        "X_owner = df[df_catboost[\"product_type\"] == \"OwnerOccupier\"].drop(columns=[\"product_type_Investment\",\n",
        "                                                                \"product_type_OwnerOccupier\"])\n",
        "X_investc = df_catboost[df_catboost[\"product_type\"] == \"Investment\"].drop(columns=[\"product_type\"])\n",
        "X_ownerc = df_catboost[df_catboost[\"product_type\"] == \"OwnerOccupier\"].drop(columns=[\"product_type\"])\n",
        "\n",
        "y_invest = target[df_catboost[\"product_type\"] == \"Investment\"]\n",
        "y_owner = target[df_catboost[\"product_type\"] == \"OwnerOccupier\"]"
      ],
      "execution_count": 24,
      "outputs": []
    },
    {
      "cell_type": "code",
      "source": [
        "X_invest_train, X_invest_test, y_invest_train, y_invest_test = train_test_split(X_invest, \n",
        "                                                                                y_invest, \n",
        "                                                                                train_size=0.8, \n",
        "                                                                                random_state=42)\n",
        "\n",
        "X_investc_train, X_investc_test, y_investc_train, y_investc_test = train_test_split(X_investc,\n",
        "                                                                                    y_invest, \n",
        "                                                                                    train_size=0.8, \n",
        "                                                                                    random_state=42)\n",
        "X_ownerc_train, X_ownerc_test, y_ownerc_train, y_ownerc_test = train_test_split(X_ownerc,\n",
        "                                                                                y_owner, \n",
        "                                                                                train_size=0.8, \n",
        "                                                                                random_state=42)\n",
        "X_owner_train, X_owner_test, y_owner_train, y_owner_test = train_test_split(X_owner,\n",
        "                                                                            y_owner, \n",
        "                                                                            train_size=0.8, \n",
        "                                                                            random_state=42)"
      ],
      "metadata": {
        "id": "UoM_Kl8Hk9Vd"
      },
      "execution_count": 25,
      "outputs": []
    },
    {
      "cell_type": "code",
      "source": [
        "cat_columns.remove(\"product_type\")"
      ],
      "metadata": {
        "id": "pGYBiNCDufMt"
      },
      "execution_count": 26,
      "outputs": []
    },
    {
      "cell_type": "code",
      "source": [
        "catmodel1 = catboost.CatBoostRegressor(cat_features=cat_columns, **grid_search_result[\"params\"])\n",
        "\n",
        "catmodel1.fit(X_investc_train, y_investc_train, cat_features=cat_columns, verbose=False)"
      ],
      "metadata": {
        "id": "ZaaVSHIAt6fK",
        "colab": {
          "base_uri": "https://localhost:8080/"
        },
        "outputId": "39acf699-731b-4d8c-febe-458cc9e1c6c2"
      },
      "execution_count": 36,
      "outputs": [
        {
          "output_type": "execute_result",
          "data": {
            "text/plain": [
              "<catboost.core.CatBoostRegressor at 0x7fe2803cd190>"
            ]
          },
          "metadata": {},
          "execution_count": 36
        }
      ]
    },
    {
      "cell_type": "code",
      "source": [
        "catmodel2 = catboost.CatBoostRegressor(cat_features=cat_columns, **grid_search_result[\"params\"]) \n",
        "catmodel2.fit(X_ownerc_train, y_ownerc_train, cat_features=cat_columns, verbose=False)\n",
        "y_pred_owner = catmodel2.predict(X_ownerc_test)"
      ],
      "metadata": {
        "id": "2YkFot3X5s-H"
      },
      "execution_count": 37,
      "outputs": []
    },
    {
      "cell_type": "code",
      "source": [
        "y_pred_invest= catmodel1.predict(X_investc_test)\n",
        "y_pred_owner = catmodel2.predict(X_ownerc_test)"
      ],
      "metadata": {
        "id": "rhIOlsQ2Rugi"
      },
      "execution_count": 38,
      "outputs": []
    },
    {
      "cell_type": "code",
      "source": [
        "print(\"Ensemble №1\", mean_squared_error(np.concatenate((y_pred_invest, y_pred_owner)),\n",
        "                                        np.concatenate((y_invest_test, y_owner_test)), \n",
        "                                        squared=False))"
      ],
      "metadata": {
        "id": "ZKKVOyWD5y-K",
        "colab": {
          "base_uri": "https://localhost:8080/"
        },
        "outputId": "506388c5-1e26-4448-ee08-a5a81895608d"
      },
      "execution_count": 39,
      "outputs": [
        {
          "output_type": "stream",
          "name": "stdout",
          "text": [
            "Ensemble №1 2504020.6250809645\n"
          ]
        }
      ]
    },
    {
      "cell_type": "markdown",
      "source": [
        "Возник вопрос - можно ли не использовать 2 модели, а обучиться на первой, предсказать, потом зановой обучиться на той же?\n",
        "\n",
        "# По итогу, либо я сделал что-то неправильно, либо в действительности один catboost-regressor работает лучше, чем два отдельно обученных (может быть признак product_type является важным)"
      ],
      "metadata": {
        "id": "Lgc_8-zau_Yb"
      }
    },
    {
      "cell_type": "markdown",
      "metadata": {
        "id": "J8t-klaK2A6s"
      },
      "source": [
        "### (*) Ensemble v.2 (дополнительно, 2 балла)\n",
        "\n",
        "Попробуйте сделать для `Investment` более сложную модель: обучите `CatBoostRegressor` и `HuberRegressor` из `sklearn`, а затем сложите их предсказания с весами `w_1` и `w_2` (выберите веса сами; сумма весов равняется 1)."
      ]
    },
    {
      "cell_type": "code",
      "metadata": {
        "id": "JOKD-l8HuOgM"
      },
      "source": [
        "from sklearn.linear_model import HuberRegressor\n",
        "\n",
        "cat = catboost.CatBoostRegressor(**grid_search_result[\"params\"])\n",
        "cat.fit(X_invest_train, y_invest_train)\n",
        "cat_pred = cat.predict(X_invest_test)\n"
      ],
      "execution_count": null,
      "outputs": []
    },
    {
      "cell_type": "code",
      "source": [
        "huber = HuberRegressor(max_iter=1000)\n",
        "huber.fit(X_invest_train, y_invest_train)\n",
        "huber_pred = huber.predict(X_invest_test)"
      ],
      "metadata": {
        "colab": {
          "base_uri": "https://localhost:8080/"
        },
        "id": "KBp23yIZZoHY",
        "outputId": "c91b558a-c96a-485d-c5c5-c10761e71698"
      },
      "execution_count": 45,
      "outputs": [
        {
          "output_type": "stream",
          "name": "stderr",
          "text": [
            "/usr/local/lib/python3.7/dist-packages/sklearn/linear_model/_huber.py:332: ConvergenceWarning: lbfgs failed to converge (status=1):\n",
            "STOP: TOTAL NO. of ITERATIONS REACHED LIMIT.\n",
            "\n",
            "Increase the number of iterations (max_iter) or scale the data as shown in:\n",
            "    https://scikit-learn.org/stable/modules/preprocessing.html\n",
            "  self.n_iter_ = _check_optimize_result(\"lbfgs\", opt_res, self.max_iter)\n"
          ]
        }
      ]
    },
    {
      "cell_type": "code",
      "source": [
        "for w in np.arange(0, 1.1, 0.1):\n",
        "    y_pred = w * cat_pred + (1-w) * huber_pred\n",
        "    print(\"With w1={}, w2={} result is {}\".format(w, 1-w, \n",
        "                                                  mean_squared_error(y_pred, y_invest_test, \n",
        "                                                                     squared=False)))"
      ],
      "metadata": {
        "id": "fC6QbtDVVEyw",
        "colab": {
          "base_uri": "https://localhost:8080/"
        },
        "outputId": "e50c79a0-061a-410b-9bb0-978d72258231"
      },
      "execution_count": 46,
      "outputs": [
        {
          "output_type": "stream",
          "name": "stdout",
          "text": [
            "With w1=0.0, w2=1.0 result is 3482584.636264827\n",
            "With w1=0.1, w2=0.9 result is 3391765.2972590397\n",
            "With w1=0.2, w2=0.8 result is 3309715.574471853\n",
            "With w1=0.30000000000000004, w2=0.7 result is 3237102.3779578493\n",
            "With w1=0.4, w2=0.6 result is 3174573.309301131\n",
            "With w1=0.5, w2=0.5 result is 3122734.19556354\n",
            "With w1=0.6000000000000001, w2=0.3999999999999999 result is 3082124.4759783093\n",
            "With w1=0.7000000000000001, w2=0.29999999999999993 result is 3053192.2612202503\n",
            "With w1=0.8, w2=0.19999999999999996 result is 3036271.389680746\n",
            "With w1=0.9, w2=0.09999999999999998 result is 3031562.9943777234\n",
            "With w1=1.0, w2=0.0 result is 3039123.836771871\n"
          ]
        }
      ]
    },
    {
      "cell_type": "markdown",
      "source": [
        "Получилось не очень - уж больно неточные ответы вышли у модели Хубера"
      ],
      "metadata": {
        "id": "vFJAw90jb4X9"
      }
    },
    {
      "cell_type": "code",
      "source": [
        ""
      ],
      "metadata": {
        "id": "SCRnamY-YyBI"
      },
      "execution_count": null,
      "outputs": []
    }
  ]
}